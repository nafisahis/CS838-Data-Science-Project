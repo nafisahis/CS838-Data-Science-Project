{
 "cells": [
  {
   "cell_type": "code",
   "execution_count": 12,
   "metadata": {
    "collapsed": true
   },
   "outputs": [],
   "source": [
    "import py_entitymatching as em\n",
    "import pandas as pd\n",
    "import numpy as np\n",
    "import os"
   ]
  },
  {
   "cell_type": "code",
   "execution_count": 13,
   "metadata": {
    "collapsed": true
   },
   "outputs": [],
   "source": [
    "path_A = 'dataset/tracks_sample.csv'\n",
    "path_B = 'datasets/songs_sample.csv'"
   ]
  },
  {
   "cell_type": "code",
   "execution_count": 14,
   "metadata": {
    "collapsed": false
   },
   "outputs": [
    {
     "name": "stderr",
     "output_type": "stream",
     "text": [
      "Metadata file is not present in the given path; proceeding to read the csv file.\n",
      "Metadata file is not present in the given path; proceeding to read the csv file.\n"
     ]
    },
    {
     "data": {
      "text/plain": [
       "True"
      ]
     },
     "execution_count": 14,
     "metadata": {},
     "output_type": "execute_result"
    }
   ],
   "source": [
    "# Read the CSV files\n",
    "sample_A = em.read_csv_metadata(path_A,low_memory=False) # setting the parameter low_memory to False  to speed up loading.\n",
    "sample_B = em.read_csv_metadata(path_B,low_memory=False)\n",
    "# Set 'ID as the keys to the input tables\n",
    "em.set_key(sample_A,'id')\n",
    "em.set_key(sample_B,'id')"
   ]
  },
  {
   "cell_type": "code",
   "execution_count": 15,
   "metadata": {
    "collapsed": false
   },
   "outputs": [
    {
     "data": {
      "text/html": [
       "<div>\n",
       "<table border=\"1\" class=\"dataframe\">\n",
       "  <thead>\n",
       "    <tr style=\"text-align: right;\">\n",
       "      <th></th>\n",
       "      <th>id</th>\n",
       "      <th>movie_title</th>\n",
       "      <th>year</th>\n",
       "      <th>episode</th>\n",
       "      <th>song_title</th>\n",
       "      <th>artists</th>\n",
       "    </tr>\n",
       "  </thead>\n",
       "  <tbody>\n",
       "    <tr>\n",
       "      <th>0</th>\n",
       "      <td>262144</td>\n",
       "      <td>the porter wagoner show</td>\n",
       "      <td>1961.0</td>\n",
       "      <td>the osborne brothers (#1.345)</td>\n",
       "      <td>a picture from lifes other side</td>\n",
       "      <td>porter wagoner</td>\n",
       "    </tr>\n",
       "    <tr>\n",
       "      <th>1</th>\n",
       "      <td>2</td>\n",
       "      <td>#lawstinwoods</td>\n",
       "      <td>2013.0</td>\n",
       "      <td>the loop &amp; rocks (#1.9)} {{suspended}</td>\n",
       "      <td>unable to let go</td>\n",
       "      <td>bradley voorhees+mj rhythm</td>\n",
       "    </tr>\n",
       "    <tr>\n",
       "      <th>2</th>\n",
       "      <td>655363</td>\n",
       "      <td>the dark area</td>\n",
       "      <td>2000.0</td>\n",
       "      <td>NaN</td>\n",
       "      <td>tonight youll be mine</td>\n",
       "      <td>ernesto cortazar</td>\n",
       "    </tr>\n",
       "    <tr>\n",
       "      <th>3</th>\n",
       "      <td>655369</td>\n",
       "      <td>the dark chronicles</td>\n",
       "      <td>2011.0</td>\n",
       "      <td>NaN</td>\n",
       "      <td>in the pines</td>\n",
       "      <td>the stanley brothers</td>\n",
       "    </tr>\n",
       "    <tr>\n",
       "      <th>4</th>\n",
       "      <td>262154</td>\n",
       "      <td>the porter wagoner show</td>\n",
       "      <td>1961.0</td>\n",
       "      <td>the osborne brothers (#1.517)</td>\n",
       "      <td>highway headed south</td>\n",
       "      <td>porter wagoner</td>\n",
       "    </tr>\n",
       "  </tbody>\n",
       "</table>\n",
       "</div>"
      ],
      "text/plain": [
       "       id              movie_title    year  \\\n",
       "0  262144  the porter wagoner show  1961.0   \n",
       "1       2            #lawstinwoods  2013.0   \n",
       "2  655363            the dark area  2000.0   \n",
       "3  655369      the dark chronicles  2011.0   \n",
       "4  262154  the porter wagoner show  1961.0   \n",
       "\n",
       "                                 episode                       song_title  \\\n",
       "0          the osborne brothers (#1.345)  a picture from lifes other side   \n",
       "1  the loop & rocks (#1.9)} {{suspended}                 unable to let go   \n",
       "2                                    NaN            tonight youll be mine   \n",
       "3                                    NaN                     in the pines   \n",
       "4          the osborne brothers (#1.517)             highway headed south   \n",
       "\n",
       "                      artists  \n",
       "0              porter wagoner  \n",
       "1  bradley voorhees+mj rhythm  \n",
       "2            ernesto cortazar  \n",
       "3        the stanley brothers  \n",
       "4              porter wagoner  "
      ]
     },
     "execution_count": 15,
     "metadata": {},
     "output_type": "execute_result"
    }
   ],
   "source": [
    "sample_A.head()"
   ]
  },
  {
   "cell_type": "code",
   "execution_count": 16,
   "metadata": {
    "collapsed": false
   },
   "outputs": [
    {
     "data": {
      "text/html": [
       "<div>\n",
       "<table border=\"1\" class=\"dataframe\">\n",
       "  <thead>\n",
       "    <tr style=\"text-align: right;\">\n",
       "      <th></th>\n",
       "      <th>id</th>\n",
       "      <th>song_title</th>\n",
       "      <th>artists</th>\n",
       "      <th>year</th>\n",
       "    </tr>\n",
       "  </thead>\n",
       "  <tbody>\n",
       "    <tr>\n",
       "      <th>0</th>\n",
       "      <td>552934</td>\n",
       "      <td>science fiction</td>\n",
       "      <td>divinyls</td>\n",
       "      <td>1983</td>\n",
       "    </tr>\n",
       "    <tr>\n",
       "      <th>1</th>\n",
       "      <td>652425</td>\n",
       "      <td>the sound</td>\n",
       "      <td>new monsoon</td>\n",
       "      <td>2005</td>\n",
       "    </tr>\n",
       "    <tr>\n",
       "      <th>2</th>\n",
       "      <td>570585</td>\n",
       "      <td>the devil</td>\n",
       "      <td>geri x.</td>\n",
       "      <td>0</td>\n",
       "    </tr>\n",
       "    <tr>\n",
       "      <th>3</th>\n",
       "      <td>619428</td>\n",
       "      <td>xiang dui wu yan</td>\n",
       "      <td>elva hsiao</td>\n",
       "      <td>0</td>\n",
       "    </tr>\n",
       "    <tr>\n",
       "      <th>4</th>\n",
       "      <td>543601</td>\n",
       "      <td>we will rock you</td>\n",
       "      <td>andrew spencer</td>\n",
       "      <td>0</td>\n",
       "    </tr>\n",
       "  </tbody>\n",
       "</table>\n",
       "</div>"
      ],
      "text/plain": [
       "       id        song_title         artists  year\n",
       "0  552934   science fiction        divinyls  1983\n",
       "1  652425         the sound     new monsoon  2005\n",
       "2  570585         the devil         geri x.     0\n",
       "3  619428  xiang dui wu yan      elva hsiao     0\n",
       "4  543601  we will rock you  andrew spencer     0"
      ]
     },
     "execution_count": 16,
     "metadata": {},
     "output_type": "execute_result"
    }
   ],
   "source": [
    "sample_B.head()"
   ]
  },
  {
   "cell_type": "code",
   "execution_count": 17,
   "metadata": {
    "collapsed": true
   },
   "outputs": [],
   "source": [
    "block_f = em.get_features_for_blocking(sample_A, sample_B)"
   ]
  },
  {
   "cell_type": "code",
   "execution_count": 18,
   "metadata": {
    "collapsed": true
   },
   "outputs": [],
   "source": [
    "def title_function(x, y):\n",
    "\n",
    "    x_title = str(x['song_title'])\n",
    "    y_title = str(y['song_title'])\n",
    "    \n",
    "    if (x_title in y_title) or (y_title in x_title):\n",
    "        return False\n",
    "    else:\n",
    "        x_split = x_title.split()\n",
    "        y_split = y_title.split()\n",
    "        \n",
    "        intersection = len(set(x_split) & set(y_split))\n",
    "        union = len(set(x_split) | set(y_split))\n",
    "        \n",
    "        #if(union - intersection > 3):\n",
    "        #    return True\n",
    "        #else:\n",
    "        if(intersection / union < 0.25):\n",
    "            return True\n",
    "        else:\n",
    "            return False"
   ]
  },
  {
   "cell_type": "code",
   "execution_count": 19,
   "metadata": {
    "collapsed": true
   },
   "outputs": [],
   "source": [
    "def artists_function(x, y):\n",
    "\n",
    "    x_artists = str(x['artists'])\n",
    "    y_artists = str(y['artists'])\n",
    "    \n",
    "    if (x_artists in y_artists) or (y_artists in x_artists):\n",
    "        return False\n",
    "    else:\n",
    "        x_split = x_artists.split()\n",
    "        y_split = y_artists.split()\n",
    "        \n",
    "        intersection = len(set(x_split) & set(y_split))\n",
    "        union = len(set(x_split) | set(y_split))\n",
    "        \n",
    "        #if(union - intersection > 4):\n",
    "        #    return True\n",
    "        #else:\n",
    "        if(intersection / union < 0.25):\n",
    "            return True\n",
    "        else:\n",
    "            return False"
   ]
  },
  {
   "cell_type": "code",
   "execution_count": 20,
   "metadata": {
    "collapsed": false
   },
   "outputs": [
    {
     "name": "stderr",
     "output_type": "stream",
     "text": [
      "0%                          100%\n",
      "[##############################] | ETA: 01:36:20 | ETA: 01:31:33 | ETA: 01:28:47 | ETA: 01:25:00 | ETA: 01:20:57 | ETA: 01:17:09 | ETA: 01:13:15 | ETA: 01:09:28 | ETA: 01:06:01 | ETA: 01:02:27 | ETA: 00:59:20 | ETA: 00:55:58 | ETA: 00:52:39 | ETA: 00:49:55 | ETA: 00:47:29 | ETA: 00:45:33 | ETA: 00:42:45 | ETA: 00:39:25 | ETA: 00:35:57 | ETA: 00:32:32 | ETA: 00:29:29 | ETA: 00:26:06 | ETA: 00:22:46 | ETA: 00:19:28 | ETA: 00:16:09 | ETA: 00:13:19 | ETA: 00:09:57 | ETA: 00:06:36 | ETA: 00:03:17 | ETA: 00:00:00 | ETA: 00:00:00\n",
      "Total time elapsed: 01:38:22\n",
      "0%  100%\n",
      "[  ]"
     ]
    },
    {
     "name": "stdout",
     "output_type": "stream",
     "text": [
      "Finding pairs with missing value...\n"
     ]
    },
    {
     "name": "stderr",
     "output_type": "stream",
     "text": [
      "[##] | ETA: 00:00:00 | ETA: 00:00:00 | ETA: 00:00:00\n",
      "Total time elapsed: 00:00:00\n"
     ]
    }
   ],
   "source": [
    "rb = em.RuleBasedBlocker()\n",
    "ob = em.OverlapBlocker()\n",
    "bb = em.BlackBoxBlocker()\n",
    "\n",
    "# remove pairs that don't share similar titles\n",
    "rule1 = ['song_title_song_title_jac_qgm_3_qgm_3(ltuple, rtuple) < 0.1']\n",
    "#rule2 = ['artists_artists_jac_qgm_3_qgm_3(ltuple, rtuple) < 0.2']\n",
    "rb.add_rule(rule1, block_f)\n",
    "#rb.add_rule(rule2, block_f)\n",
    "\n",
    "C1 = rb.block_tables(sample_A, sample_B, l_output_attrs=['song_title','year','artists'], r_output_attrs=['song_title','year','artists'], show_progress=False)\n"
   ]
  },
  {
   "cell_type": "code",
   "execution_count": 21,
   "metadata": {
    "collapsed": false
   },
   "outputs": [
    {
     "name": "stderr",
     "output_type": "stream",
     "text": [
      "0%                          100%\n",
      "[##############################] | ETA: 00:45:26 | ETA: 00:42:59 | ETA: 00:39:35 | ETA: 00:36:33 | ETA: 00:33:30 | ETA: 00:31:08 | ETA: 00:29:06 | ETA: 00:27:19 | ETA: 00:25:42 | ETA: 00:24:12 | ETA: 00:22:47 | ETA: 00:21:24 | ETA: 00:20:05 | ETA: 00:18:47 | ETA: 00:17:31 | ETA: 00:16:16 | ETA: 00:15:03 | ETA: 00:13:50 | ETA: 00:12:38 | ETA: 00:11:27 | ETA: 00:10:16 | ETA: 00:09:06 | ETA: 00:07:57 | ETA: 00:06:48 | ETA: 00:05:39 | ETA: 00:04:30 | ETA: 00:03:22 | ETA: 00:02:14 | ETA: 00:01:07 | ETA: 00:00:00 | ETA: 00:00:00\n",
      "Total time elapsed: 00:33:38\n",
      "0%                          100%\n",
      "[##############################] | ETA: 00:07:34 | ETA: 00:06:06 | ETA: 00:05:21 | ETA: 00:04:53 | ETA: 00:04:32 | ETA: 00:04:15 | ETA: 00:03:59 | ETA: 00:03:45 | ETA: 00:03:32 | ETA: 00:03:20 | ETA: 00:03:09 | ETA: 00:02:57 | ETA: 00:02:47 | ETA: 00:02:36 | ETA: 00:02:25 | ETA: 00:02:15 | ETA: 00:02:05 | ETA: 00:01:55 | ETA: 00:01:45 | ETA: 00:01:35 | ETA: 00:01:25 | ETA: 00:01:16 | ETA: 00:01:06 | ETA: 00:00:56 | ETA: 00:00:47 | ETA: 00:00:37 | ETA: 00:00:28 | ETA: 00:00:18 | ETA: 00:00:09 | ETA: 00:00:00 | ETA: 00:00:00\n",
      "Total time elapsed: 00:04:42\n"
     ]
    }
   ],
   "source": [
    "bb.set_black_box_function(title_function)\n",
    "C2 = bb.block_candset(C1)\n",
    "\n",
    "bb.set_black_box_function(artists_function)\n",
    "C3 = bb.block_candset(C2)"
   ]
  },
  {
   "cell_type": "code",
   "execution_count": 22,
   "metadata": {
    "collapsed": true
   },
   "outputs": [],
   "source": [
    "dbg = em.debug_blocker(C2, sample_A, sample_B, output_size=50)"
   ]
  },
  {
   "cell_type": "code",
   "execution_count": 23,
   "metadata": {
    "collapsed": true
   },
   "outputs": [],
   "source": [
    "C3.to_csv('pairs_passed_stage4_v2.csv', index = False, sep = ',')"
   ]
  },
  {
   "cell_type": "code",
   "execution_count": 24,
   "metadata": {
    "collapsed": false
   },
   "outputs": [
    {
     "name": "stderr",
     "output_type": "stream",
     "text": [
      "Column name (gold_labels) is not present in dataframe\n"
     ]
    }
   ],
   "source": [
    "G = em.label_table(C3, label_column_name='gold_labels')\n",
    "G.to_csv('labeled_data_stage4_v2.csv', index = False, sep = ',')"
   ]
  },
  {
   "cell_type": "code",
   "execution_count": null,
   "metadata": {
    "collapsed": true
   },
   "outputs": [],
   "source": [
    "G = em.label_table(C2, label_column_name='gold_labels')"
   ]
  }
 ],
 "metadata": {
  "kernelspec": {
   "display_name": "Python 3",
   "language": "python",
   "name": "python3"
  },
  "language_info": {
   "codemirror_mode": {
    "name": "ipython",
    "version": 3
   },
   "file_extension": ".py",
   "mimetype": "text/x-python",
   "name": "python",
   "nbconvert_exporter": "python",
   "pygments_lexer": "ipython3",
   "version": "3.6.0"
  }
 },
 "nbformat": 4,
 "nbformat_minor": 2
}
