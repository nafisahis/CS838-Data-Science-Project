{
 "cells": [
  {
   "cell_type": "markdown",
   "metadata": {},
   "source": [
    "## Data Integration\n",
    "\n",
    "This notebook includes steps for integrating of two tables 'tracks_sample.csv' and 'songs_sample.csv' based on the matching pairs. These two table has two different schemas. Thus, schema of the final table E is the union of these two table's schema."
   ]
  },
  {
   "cell_type": "markdown",
   "metadata": {},
   "source": [
    "### Loading libraries and reading data"
   ]
  },
  {
   "cell_type": "code",
   "execution_count": 2,
   "metadata": {
    "collapsed": false
   },
   "outputs": [
    {
     "data": {
      "text/plain": [
       "(13316, 14323)"
      ]
     },
     "execution_count": 2,
     "metadata": {},
     "output_type": "execute_result"
    }
   ],
   "source": [
    "import pandas as pd\n",
    "import os\n",
    "import re\n",
    "\n",
    "songs = pd.read_csv('dataset/songs_sample.csv')\n",
    "tracks = pd.read_csv('dataset/tracks_sample.csv')\n",
    "matchIDPairs = pd.read_csv('dataset/labeled_data_stage4.csv')\n",
    "\n",
    "# filtering the matched tuples from both dataset \n",
    "matchedTracks = tracks[tracks['id'].isin(list(matchIDPairs['ltable_id']))]\n",
    "matchedSongs = songs[songs['id'].isin(list(matchIDPairs['rtable_id']))]\n",
    "\n",
    "#assert(len(matchedTracks)==len(matchedSongs))\n",
    "len(matchedTracks), len(matchedSongs)"
   ]
  },
  {
   "cell_type": "code",
   "execution_count": 3,
   "metadata": {
    "collapsed": false
   },
   "outputs": [
    {
     "data": {
      "text/plain": [
       "(13316, 14323, 32000)"
      ]
     },
     "execution_count": 3,
     "metadata": {},
     "output_type": "execute_result"
    }
   ],
   "source": [
    "len(set(matchIDPairs['ltable_id'])), len(set(matchIDPairs['rtable_id'])), len(matchIDPairs)"
   ]
  },
  {
   "cell_type": "code",
   "execution_count": 4,
   "metadata": {
    "collapsed": false
   },
   "outputs": [
    {
     "data": {
      "text/html": [
       "<div>\n",
       "<table border=\"1\" class=\"dataframe\">\n",
       "  <thead>\n",
       "    <tr style=\"text-align: right;\">\n",
       "      <th></th>\n",
       "      <th>id</th>\n",
       "      <th>movie_title</th>\n",
       "      <th>year</th>\n",
       "      <th>episode</th>\n",
       "      <th>song_title</th>\n",
       "      <th>artists</th>\n",
       "    </tr>\n",
       "  </thead>\n",
       "  <tbody>\n",
       "    <tr>\n",
       "      <th>3</th>\n",
       "      <td>655369</td>\n",
       "      <td>the dark chronicles</td>\n",
       "      <td>2011.0</td>\n",
       "      <td>NaN</td>\n",
       "      <td>in the pines</td>\n",
       "      <td>the stanley brothers</td>\n",
       "    </tr>\n",
       "    <tr>\n",
       "      <th>7</th>\n",
       "      <td>262157</td>\n",
       "      <td>the porter wagoner show</td>\n",
       "      <td>1961.0</td>\n",
       "      <td>the osborne brothers (#1.517)</td>\n",
       "      <td>strawberry song</td>\n",
       "      <td>barbara lea</td>\n",
       "    </tr>\n",
       "    <tr>\n",
       "      <th>10</th>\n",
       "      <td>262158</td>\n",
       "      <td>the porter wagoner show</td>\n",
       "      <td>1961.0</td>\n",
       "      <td>the osborne brothers (#1.517)</td>\n",
       "      <td>the carroll county accident</td>\n",
       "      <td>porter wagoner</td>\n",
       "    </tr>\n",
       "    <tr>\n",
       "      <th>11</th>\n",
       "      <td>524309</td>\n",
       "      <td>lou</td>\n",
       "      <td>2010.0</td>\n",
       "      <td>NaN</td>\n",
       "      <td>free</td>\n",
       "      <td>olivia waithe+eliseus joseph jr+julian griffit...</td>\n",
       "    </tr>\n",
       "    <tr>\n",
       "      <th>12</th>\n",
       "      <td>393239</td>\n",
       "      <td>class of 1984</td>\n",
       "      <td>1982.0</td>\n",
       "      <td>NaN</td>\n",
       "      <td>aint got no sense</td>\n",
       "      <td>teenage head</td>\n",
       "    </tr>\n",
       "  </tbody>\n",
       "</table>\n",
       "</div>"
      ],
      "text/plain": [
       "        id              movie_title    year                        episode  \\\n",
       "3   655369      the dark chronicles  2011.0                            NaN   \n",
       "7   262157  the porter wagoner show  1961.0  the osborne brothers (#1.517)   \n",
       "10  262158  the porter wagoner show  1961.0  the osborne brothers (#1.517)   \n",
       "11  524309                      lou  2010.0                            NaN   \n",
       "12  393239            class of 1984  1982.0                            NaN   \n",
       "\n",
       "                     song_title  \\\n",
       "3                  in the pines   \n",
       "7               strawberry song   \n",
       "10  the carroll county accident   \n",
       "11                         free   \n",
       "12            aint got no sense   \n",
       "\n",
       "                                              artists  \n",
       "3                                the stanley brothers  \n",
       "7                                         barbara lea  \n",
       "10                                     porter wagoner  \n",
       "11  olivia waithe+eliseus joseph jr+julian griffit...  \n",
       "12                                       teenage head  "
      ]
     },
     "execution_count": 4,
     "metadata": {},
     "output_type": "execute_result"
    }
   ],
   "source": [
    "matchedTracks.head()"
   ]
  },
  {
   "cell_type": "code",
   "execution_count": 5,
   "metadata": {
    "collapsed": false
   },
   "outputs": [
    {
     "data": {
      "text/html": [
       "<div>\n",
       "<table border=\"1\" class=\"dataframe\">\n",
       "  <thead>\n",
       "    <tr style=\"text-align: right;\">\n",
       "      <th></th>\n",
       "      <th>id</th>\n",
       "      <th>song_title</th>\n",
       "      <th>artists</th>\n",
       "      <th>year</th>\n",
       "    </tr>\n",
       "  </thead>\n",
       "  <tbody>\n",
       "    <tr>\n",
       "      <th>4</th>\n",
       "      <td>543601</td>\n",
       "      <td>we will rock you</td>\n",
       "      <td>andrew spencer</td>\n",
       "      <td>0</td>\n",
       "    </tr>\n",
       "    <tr>\n",
       "      <th>16</th>\n",
       "      <td>418130</td>\n",
       "      <td>robot lover</td>\n",
       "      <td>jack oblivian</td>\n",
       "      <td>0</td>\n",
       "    </tr>\n",
       "    <tr>\n",
       "      <th>35</th>\n",
       "      <td>822820</td>\n",
       "      <td>in that number</td>\n",
       "      <td>the perrys</td>\n",
       "      <td>0</td>\n",
       "    </tr>\n",
       "    <tr>\n",
       "      <th>39</th>\n",
       "      <td>473233</td>\n",
       "      <td>so far away</td>\n",
       "      <td>john lord fonda</td>\n",
       "      <td>2004</td>\n",
       "    </tr>\n",
       "    <tr>\n",
       "      <th>46</th>\n",
       "      <td>766296</td>\n",
       "      <td>child of the ghetto (album version)</td>\n",
       "      <td>g. dep</td>\n",
       "      <td>0</td>\n",
       "    </tr>\n",
       "  </tbody>\n",
       "</table>\n",
       "</div>"
      ],
      "text/plain": [
       "        id                           song_title          artists  year\n",
       "4   543601                     we will rock you   andrew spencer     0\n",
       "16  418130                          robot lover    jack oblivian     0\n",
       "35  822820                       in that number       the perrys     0\n",
       "39  473233                          so far away  john lord fonda  2004\n",
       "46  766296  child of the ghetto (album version)           g. dep     0"
      ]
     },
     "execution_count": 5,
     "metadata": {},
     "output_type": "execute_result"
    }
   ],
   "source": [
    "matchedSongs.head()"
   ]
  },
  {
   "cell_type": "code",
   "execution_count": 6,
   "metadata": {
    "collapsed": false
   },
   "outputs": [
    {
     "data": {
      "text/html": [
       "<div>\n",
       "<table border=\"1\" class=\"dataframe\">\n",
       "  <thead>\n",
       "    <tr style=\"text-align: right;\">\n",
       "      <th></th>\n",
       "      <th>_id</th>\n",
       "      <th>ltable_id</th>\n",
       "      <th>rtable_id</th>\n",
       "      <th>ltable_song_title</th>\n",
       "      <th>ltable_year</th>\n",
       "      <th>ltable_artists</th>\n",
       "      <th>rtable_song_title</th>\n",
       "      <th>rtable_year</th>\n",
       "      <th>rtable_artists</th>\n",
       "      <th>gold_labels</th>\n",
       "    </tr>\n",
       "  </thead>\n",
       "  <tbody>\n",
       "    <tr>\n",
       "      <th>0</th>\n",
       "      <td>7992</td>\n",
       "      <td>172624</td>\n",
       "      <td>543601</td>\n",
       "      <td>you will find me</td>\n",
       "      <td>2003.0</td>\n",
       "      <td>andrew ripp</td>\n",
       "      <td>we will rock you</td>\n",
       "      <td>0</td>\n",
       "      <td>andrew spencer</td>\n",
       "      <td>0</td>\n",
       "    </tr>\n",
       "    <tr>\n",
       "      <th>1</th>\n",
       "      <td>16183</td>\n",
       "      <td>634097</td>\n",
       "      <td>418130</td>\n",
       "      <td>sweet lover</td>\n",
       "      <td>1989.0</td>\n",
       "      <td>jack green+ian orkin</td>\n",
       "      <td>robot lover</td>\n",
       "      <td>0</td>\n",
       "      <td>jack oblivian</td>\n",
       "      <td>0</td>\n",
       "    </tr>\n",
       "    <tr>\n",
       "      <th>2</th>\n",
       "      <td>30794</td>\n",
       "      <td>392501</td>\n",
       "      <td>822820</td>\n",
       "      <td>in time</td>\n",
       "      <td>2015.0</td>\n",
       "      <td>find the others</td>\n",
       "      <td>in that number</td>\n",
       "      <td>0</td>\n",
       "      <td>the perrys</td>\n",
       "      <td>0</td>\n",
       "    </tr>\n",
       "    <tr>\n",
       "      <th>3</th>\n",
       "      <td>37332</td>\n",
       "      <td>611536</td>\n",
       "      <td>473233</td>\n",
       "      <td>over the hills and far away</td>\n",
       "      <td>1995.0</td>\n",
       "      <td>john tams</td>\n",
       "      <td>so far away</td>\n",
       "      <td>2004</td>\n",
       "      <td>john lord fonda</td>\n",
       "      <td>0</td>\n",
       "    </tr>\n",
       "    <tr>\n",
       "      <th>4</th>\n",
       "      <td>37484</td>\n",
       "      <td>723458</td>\n",
       "      <td>473233</td>\n",
       "      <td>carried away</td>\n",
       "      <td>2006.0</td>\n",
       "      <td>john dickson</td>\n",
       "      <td>so far away</td>\n",
       "      <td>2004</td>\n",
       "      <td>john lord fonda</td>\n",
       "      <td>0</td>\n",
       "    </tr>\n",
       "  </tbody>\n",
       "</table>\n",
       "</div>"
      ],
      "text/plain": [
       "     _id  ltable_id  rtable_id            ltable_song_title  ltable_year  \\\n",
       "0   7992     172624     543601             you will find me       2003.0   \n",
       "1  16183     634097     418130                  sweet lover       1989.0   \n",
       "2  30794     392501     822820                      in time       2015.0   \n",
       "3  37332     611536     473233  over the hills and far away       1995.0   \n",
       "4  37484     723458     473233                 carried away       2006.0   \n",
       "\n",
       "         ltable_artists rtable_song_title  rtable_year   rtable_artists  \\\n",
       "0           andrew ripp  we will rock you            0   andrew spencer   \n",
       "1  jack green+ian orkin       robot lover            0    jack oblivian   \n",
       "2       find the others    in that number            0       the perrys   \n",
       "3             john tams       so far away         2004  john lord fonda   \n",
       "4          john dickson       so far away         2004  john lord fonda   \n",
       "\n",
       "   gold_labels  \n",
       "0            0  \n",
       "1            0  \n",
       "2            0  \n",
       "3            0  \n",
       "4            0  "
      ]
     },
     "execution_count": 6,
     "metadata": {},
     "output_type": "execute_result"
    }
   ],
   "source": [
    "matchIDPairs.head()"
   ]
  },
  {
   "cell_type": "markdown",
   "metadata": {},
   "source": [
    "### Merging two tables "
   ]
  },
  {
   "cell_type": "code",
   "execution_count": 8,
   "metadata": {
    "collapsed": false
   },
   "outputs": [],
   "source": [
    "import math\n",
    "\n",
    "#Schema of the merged table\n",
    "E = pd.DataFrame(columns = ['movie_title','year','episode','song_title','artists'])\n",
    "\n",
    "for index, row in matchIDPairs.iterrows(): \n",
    "    left_entry = matchedTracks[matchedTracks['id']==row['ltable_id']]\n",
    "    right_entry = matchedSongs[matchedSongs['id']==row['rtable_id']]\n",
    "    \n",
    "    assert(len(left_entry)==1)\n",
    "    assert(len(right_entry)==1)\n",
    "    \n",
    "    track_id = int(left_entry['id'].item())\n",
    "    song_id = int(right_entry['id'].item())\n",
    "    \n",
    "    if(math.isnan(left_entry['year'].item())):\n",
    "        left = 0\n",
    "    else:\n",
    "        left = int(left_entry['year'].item())\n",
    "    \n",
    "    if(math.isnan(right_entry['year'].item())):\n",
    "        right = 0\n",
    "    else:\n",
    "        right = int(right_entry['year'].item())\n",
    "    \n",
    "    if left != right:\n",
    "        if left != 0 and right != 0:\n",
    "            year = [left,right]\n",
    "        elif left != 0:\n",
    "            year = left\n",
    "        else:\n",
    "            year = right\n",
    "    if left == right:\n",
    "        year = right\n",
    "    \n",
    "    #for song title, larger length value is chosen if two value doesn't have exact string match\n",
    "    left = str(left_entry['song_title'].item())\n",
    "    right = str(right_entry['song_title'].item())\n",
    "    \n",
    "    if len(left) >= len(right):\n",
    "        song_title = left\n",
    "    else:\n",
    "        song_title = right\n",
    "    \n",
    "    #for artist, larger length value is chosen if two value doesn't have exact string match\n",
    "    left = str(left_entry['artists'].item())\n",
    "    right = str(right_entry['artists'].item())\n",
    "    \n",
    "    if len(left) >= len(right):\n",
    "        artists = left\n",
    "    else:\n",
    "        artists = right\n",
    "    \n",
    "    #since movie and episode are unique attributes in the left table, keeping the value as it is\n",
    "    movie_title = str(left_entry['movie_title'].item())\n",
    "    episode = str(left_entry['episode'].item())\n",
    "    \n",
    "    if episode == 'NaN':\n",
    "        episode = ''\n",
    "    \n",
    "    #creating an entry for table E with all values\n",
    "    entry = pd.Series([track_id, song_id, movie_title, year, episode, song_title, artists], index=['track_id','song_id','movie_title','year','episode','song_title','artists'])\n",
    "    \n",
    "    #appending the merged value to table E\n",
    "    E = E.append(entry, ignore_index=True)"
   ]
  },
  {
   "cell_type": "code",
   "execution_count": 9,
   "metadata": {
    "collapsed": false
   },
   "outputs": [
    {
     "data": {
      "text/html": [
       "<div>\n",
       "<table border=\"1\" class=\"dataframe\">\n",
       "  <thead>\n",
       "    <tr style=\"text-align: right;\">\n",
       "      <th></th>\n",
       "      <th>movie_title</th>\n",
       "      <th>year</th>\n",
       "      <th>episode</th>\n",
       "      <th>song_title</th>\n",
       "      <th>artists</th>\n",
       "      <th>song_id</th>\n",
       "      <th>track_id</th>\n",
       "    </tr>\n",
       "  </thead>\n",
       "  <tbody>\n",
       "    <tr>\n",
       "      <th>0</th>\n",
       "      <td>the pledge</td>\n",
       "      <td>[2001, 1996]</td>\n",
       "      <td>nan</td>\n",
       "      <td>poor twisted me</td>\n",
       "      <td>james hetfield+lars ulrich+metallica+arrangeme...</td>\n",
       "      <td>511255.0</td>\n",
       "      <td>678831.0</td>\n",
       "    </tr>\n",
       "    <tr>\n",
       "      <th>1</th>\n",
       "      <td>william s. burroughs: commissioner of sewers</td>\n",
       "      <td>[1991, 1990]</td>\n",
       "      <td>nan</td>\n",
       "      <td>batman br�t fische</td>\n",
       "      <td>fm einheit</td>\n",
       "      <td>150981.0</td>\n",
       "      <td>724999.0</td>\n",
       "    </tr>\n",
       "    <tr>\n",
       "      <th>2</th>\n",
       "      <td>the warriors</td>\n",
       "      <td>[2005, 1979]</td>\n",
       "      <td>nan</td>\n",
       "      <td>love is a fire</td>\n",
       "      <td>genya ravan+johnny vastano+vini poncia</td>\n",
       "      <td>328251.0</td>\n",
       "      <td>690267.0</td>\n",
       "    </tr>\n",
       "    <tr>\n",
       "      <th>3</th>\n",
       "      <td>t in the park 2010</td>\n",
       "      <td>2010</td>\n",
       "      <td>muse/calvin harris (#1.3)</td>\n",
       "      <td>map of the problematique [live from wembley st...</td>\n",
       "      <td>matthew bellamy+muse</td>\n",
       "      <td>227686.0</td>\n",
       "      <td>231063.0</td>\n",
       "    </tr>\n",
       "    <tr>\n",
       "      <th>4</th>\n",
       "      <td>dolly parton: live &amp; well</td>\n",
       "      <td>[2004, 2002]</td>\n",
       "      <td>nan</td>\n",
       "      <td>dagger through the heart</td>\n",
       "      <td>dolly parton</td>\n",
       "      <td>531984.0</td>\n",
       "      <td>418267.0</td>\n",
       "    </tr>\n",
       "  </tbody>\n",
       "</table>\n",
       "</div>"
      ],
      "text/plain": [
       "                                    movie_title          year  \\\n",
       "0                                    the pledge  [2001, 1996]   \n",
       "1  william s. burroughs: commissioner of sewers  [1991, 1990]   \n",
       "2                                  the warriors  [2005, 1979]   \n",
       "3                            t in the park 2010          2010   \n",
       "4                     dolly parton: live & well  [2004, 2002]   \n",
       "\n",
       "                     episode  \\\n",
       "0                        nan   \n",
       "1                        nan   \n",
       "2                        nan   \n",
       "3  muse/calvin harris (#1.3)   \n",
       "4                        nan   \n",
       "\n",
       "                                          song_title  \\\n",
       "0                                    poor twisted me   \n",
       "1                                 batman br�t fische   \n",
       "2                                     love is a fire   \n",
       "3  map of the problematique [live from wembley st...   \n",
       "4                           dagger through the heart   \n",
       "\n",
       "                                             artists   song_id  track_id  \n",
       "0  james hetfield+lars ulrich+metallica+arrangeme...  511255.0  678831.0  \n",
       "1                                         fm einheit  150981.0  724999.0  \n",
       "2             genya ravan+johnny vastano+vini poncia  328251.0  690267.0  \n",
       "3                               matthew bellamy+muse  227686.0  231063.0  \n",
       "4                                       dolly parton  531984.0  418267.0  "
      ]
     },
     "execution_count": 9,
     "metadata": {},
     "output_type": "execute_result"
    }
   ],
   "source": [
    "E.head()"
   ]
  },
  {
   "cell_type": "code",
   "execution_count": 10,
   "metadata": {
    "collapsed": true
   },
   "outputs": [],
   "source": [
    "#Writing the table E to file\n",
    "E.to_csv('merged_data.csv',sep=',',index=False)"
   ]
  },
  {
   "cell_type": "code",
   "execution_count": null,
   "metadata": {
    "collapsed": true
   },
   "outputs": [],
   "source": []
  }
 ],
 "metadata": {
  "anaconda-cloud": {},
  "kernelspec": {
   "display_name": "Python [Root]",
   "language": "python",
   "name": "Python [Root]"
  },
  "language_info": {
   "codemirror_mode": {
    "name": "ipython",
    "version": 2
   },
   "file_extension": ".py",
   "mimetype": "text/x-python",
   "name": "python",
   "nbconvert_exporter": "python",
   "pygments_lexer": "ipython2",
   "version": "2.7.12"
  }
 },
 "nbformat": 4,
 "nbformat_minor": 0
}
