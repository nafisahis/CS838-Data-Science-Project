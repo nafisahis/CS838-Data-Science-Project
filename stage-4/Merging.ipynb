{
 "cells": [
  {
   "cell_type": "markdown",
   "metadata": {},
   "source": [
    "## Data Integration\n",
    "\n",
    "This notebook includes steps for integrating of two tables 'tracks_sample.csv' and 'songs_sample.csv' based on the matching pairs. These two table has two different schemas. Thus, schema of the final table E is the union of these two table's schema."
   ]
  },
  {
   "cell_type": "markdown",
   "metadata": {},
   "source": [
    "### Loading libraries and reading data"
   ]
  },
  {
   "cell_type": "code",
   "execution_count": 3,
   "metadata": {
    "collapsed": false
   },
   "outputs": [
    {
     "ename": "AssertionError",
     "evalue": "",
     "output_type": "error",
     "traceback": [
      "\u001b[0;31m---------------------------------------------------------------------------\u001b[0m",
      "\u001b[0;31mAssertionError\u001b[0m                            Traceback (most recent call last)",
      "\u001b[0;32m<ipython-input-3-d0629f68c428>\u001b[0m in \u001b[0;36m<module>\u001b[0;34m()\u001b[0m\n\u001b[1;32m     11\u001b[0m \u001b[0mmatchedSongs\u001b[0m \u001b[0;34m=\u001b[0m \u001b[0msongs\u001b[0m\u001b[0;34m[\u001b[0m\u001b[0msongs\u001b[0m\u001b[0;34m[\u001b[0m\u001b[0;34m'id'\u001b[0m\u001b[0;34m]\u001b[0m\u001b[0;34m.\u001b[0m\u001b[0misin\u001b[0m\u001b[0;34m(\u001b[0m\u001b[0mlist\u001b[0m\u001b[0;34m(\u001b[0m\u001b[0mmatchIDPairs\u001b[0m\u001b[0;34m[\u001b[0m\u001b[0;34m'rtable_id'\u001b[0m\u001b[0;34m]\u001b[0m\u001b[0;34m)\u001b[0m\u001b[0;34m)\u001b[0m\u001b[0;34m]\u001b[0m\u001b[0;34m\u001b[0m\u001b[0m\n\u001b[1;32m     12\u001b[0m \u001b[0;34m\u001b[0m\u001b[0m\n\u001b[0;32m---> 13\u001b[0;31m \u001b[0;32massert\u001b[0m\u001b[0;34m(\u001b[0m\u001b[0mlen\u001b[0m\u001b[0;34m(\u001b[0m\u001b[0mmatchedTracks\u001b[0m\u001b[0;34m)\u001b[0m\u001b[0;34m==\u001b[0m\u001b[0mlen\u001b[0m\u001b[0;34m(\u001b[0m\u001b[0mmatchedSongs\u001b[0m\u001b[0;34m)\u001b[0m\u001b[0;34m)\u001b[0m\u001b[0;34m\u001b[0m\u001b[0m\n\u001b[0m",
      "\u001b[0;31mAssertionError\u001b[0m: "
     ]
    }
   ],
   "source": [
    "import pandas as pd\n",
    "import os\n",
    "import re\n",
    "\n",
    "songs = pd.read_csv('dataset/songs_sample.csv')\n",
    "tracks = pd.read_csv('dataset/tracks_sample.csv')\n",
    "matchIDPairs = pd.read_csv('dataset/matches.csv')\n",
    "\n",
    "# filtering the matched tuples from both dataset \n",
    "matchedTracks = tracks[tracks['id'].isin(list(matchIDPairs['ltable_id']))]\n",
    "matchedSongs = songs[songs['id'].isin(list(matchIDPairs['rtable_id']))]\n",
    "\n",
    "assert(len(matchedTracks)==len(matchedSongs))"
   ]
  },
  {
   "cell_type": "code",
   "execution_count": 2,
   "metadata": {
    "collapsed": false
   },
   "outputs": [
    {
     "data": {
      "text/html": [
       "<div>\n",
       "<table border=\"1\" class=\"dataframe\">\n",
       "  <thead>\n",
       "    <tr style=\"text-align: right;\">\n",
       "      <th></th>\n",
       "      <th>id</th>\n",
       "      <th>movie_title</th>\n",
       "      <th>year</th>\n",
       "      <th>episode</th>\n",
       "      <th>song_title</th>\n",
       "      <th>artists</th>\n",
       "    </tr>\n",
       "  </thead>\n",
       "  <tbody>\n",
       "    <tr>\n",
       "      <th>5</th>\n",
       "      <td>262158</td>\n",
       "      <td>the porter wagoner show</td>\n",
       "      <td>1961.0</td>\n",
       "      <td>the osborne brothers (#1.517)</td>\n",
       "      <td>the carroll county accident</td>\n",
       "      <td>porter wagoner</td>\n",
       "    </tr>\n",
       "    <tr>\n",
       "      <th>70</th>\n",
       "      <td>393455</td>\n",
       "      <td>claudia leitte: ao vivo em copacabana</td>\n",
       "      <td>2008.0</td>\n",
       "      <td>NaN</td>\n",
       "      <td>pensando em você</td>\n",
       "      <td>henrique cerqueira+claudia leitte</td>\n",
       "    </tr>\n",
       "    <tr>\n",
       "      <th>91</th>\n",
       "      <td>459080</td>\n",
       "      <td>greta</td>\n",
       "      <td>2009.0</td>\n",
       "      <td>NaN</td>\n",
       "      <td>i wanna die</td>\n",
       "      <td>jolie holland</td>\n",
       "    </tr>\n",
       "    <tr>\n",
       "      <th>217</th>\n",
       "      <td>426815</td>\n",
       "      <td>el crimen del padre amaro</td>\n",
       "      <td>2002.0</td>\n",
       "      <td>NaN</td>\n",
       "      <td>te odio</td>\n",
       "      <td>rudy pérez+joel numa+pablo montero</td>\n",
       "    </tr>\n",
       "    <tr>\n",
       "      <th>276</th>\n",
       "      <td>328752</td>\n",
       "      <td>22nd annual trumpet awards</td>\n",
       "      <td>2014.0</td>\n",
       "      <td>NaN</td>\n",
       "      <td>i need you now</td>\n",
       "      <td>smokie norful</td>\n",
       "    </tr>\n",
       "  </tbody>\n",
       "</table>\n",
       "</div>"
      ],
      "text/plain": [
       "         id                            movie_title    year  \\\n",
       "5    262158                the porter wagoner show  1961.0   \n",
       "70   393455  claudia leitte: ao vivo em copacabana  2008.0   \n",
       "91   459080                                  greta  2009.0   \n",
       "217  426815              el crimen del padre amaro  2002.0   \n",
       "276  328752             22nd annual trumpet awards  2014.0   \n",
       "\n",
       "                           episode                   song_title  \\\n",
       "5    the osborne brothers (#1.517)  the carroll county accident   \n",
       "70                             NaN             pensando em você   \n",
       "91                             NaN                  i wanna die   \n",
       "217                            NaN                      te odio   \n",
       "276                            NaN               i need you now   \n",
       "\n",
       "                                artists  \n",
       "5                        porter wagoner  \n",
       "70    henrique cerqueira+claudia leitte  \n",
       "91                        jolie holland  \n",
       "217  rudy pérez+joel numa+pablo montero  \n",
       "276                       smokie norful  "
      ]
     },
     "execution_count": 2,
     "metadata": {},
     "output_type": "execute_result"
    }
   ],
   "source": [
    "matchedTracks.head()"
   ]
  },
  {
   "cell_type": "code",
   "execution_count": 3,
   "metadata": {
    "collapsed": false
   },
   "outputs": [
    {
     "data": {
      "text/html": [
       "<div>\n",
       "<table border=\"1\" class=\"dataframe\">\n",
       "  <thead>\n",
       "    <tr style=\"text-align: right;\">\n",
       "      <th></th>\n",
       "      <th>id</th>\n",
       "      <th>song_title</th>\n",
       "      <th>artists</th>\n",
       "      <th>year</th>\n",
       "    </tr>\n",
       "  </thead>\n",
       "  <tbody>\n",
       "    <tr>\n",
       "      <th>147</th>\n",
       "      <td>509218</td>\n",
       "      <td>he can only hold her</td>\n",
       "      <td>amy winehouse</td>\n",
       "      <td>2006</td>\n",
       "    </tr>\n",
       "    <tr>\n",
       "      <th>154</th>\n",
       "      <td>218585</td>\n",
       "      <td>last train home</td>\n",
       "      <td>pat metheny group</td>\n",
       "      <td>1987</td>\n",
       "    </tr>\n",
       "    <tr>\n",
       "      <th>179</th>\n",
       "      <td>261294</td>\n",
       "      <td>soverato</td>\n",
       "      <td>minus 8</td>\n",
       "      <td>2004</td>\n",
       "    </tr>\n",
       "    <tr>\n",
       "      <th>351</th>\n",
       "      <td>958721</td>\n",
       "      <td>sweet talkin' woman</td>\n",
       "      <td>electric light orchestra</td>\n",
       "      <td>1977</td>\n",
       "    </tr>\n",
       "    <tr>\n",
       "      <th>476</th>\n",
       "      <td>679231</td>\n",
       "      <td>god don't never change</td>\n",
       "      <td>blind willie johnson</td>\n",
       "      <td>1989</td>\n",
       "    </tr>\n",
       "  </tbody>\n",
       "</table>\n",
       "</div>"
      ],
      "text/plain": [
       "         id              song_title                   artists  year\n",
       "147  509218    he can only hold her             amy winehouse  2006\n",
       "154  218585         last train home         pat metheny group  1987\n",
       "179  261294                soverato                   minus 8  2004\n",
       "351  958721     sweet talkin' woman  electric light orchestra  1977\n",
       "476  679231  god don't never change      blind willie johnson  1989"
      ]
     },
     "execution_count": 3,
     "metadata": {},
     "output_type": "execute_result"
    }
   ],
   "source": [
    "matchedSongs.head()"
   ]
  },
  {
   "cell_type": "code",
   "execution_count": 4,
   "metadata": {
    "collapsed": false
   },
   "outputs": [
    {
     "data": {
      "text/html": [
       "<div>\n",
       "<table border=\"1\" class=\"dataframe\">\n",
       "  <thead>\n",
       "    <tr style=\"text-align: right;\">\n",
       "      <th></th>\n",
       "      <th>Unnamed: 0</th>\n",
       "      <th>id</th>\n",
       "      <th>ltable_id</th>\n",
       "      <th>rtable_id</th>\n",
       "    </tr>\n",
       "  </thead>\n",
       "  <tbody>\n",
       "    <tr>\n",
       "      <th>0</th>\n",
       "      <td>309</td>\n",
       "      <td>906585</td>\n",
       "      <td>253443</td>\n",
       "      <td>260085</td>\n",
       "    </tr>\n",
       "    <tr>\n",
       "      <th>1</th>\n",
       "      <td>196</td>\n",
       "      <td>591561</td>\n",
       "      <td>723561</td>\n",
       "      <td>68786</td>\n",
       "    </tr>\n",
       "    <tr>\n",
       "      <th>2</th>\n",
       "      <td>246</td>\n",
       "      <td>740185</td>\n",
       "      <td>338596</td>\n",
       "      <td>635283</td>\n",
       "    </tr>\n",
       "    <tr>\n",
       "      <th>3</th>\n",
       "      <td>261</td>\n",
       "      <td>788096</td>\n",
       "      <td>713603</td>\n",
       "      <td>150365</td>\n",
       "    </tr>\n",
       "    <tr>\n",
       "      <th>4</th>\n",
       "      <td>37</td>\n",
       "      <td>114823</td>\n",
       "      <td>246156</td>\n",
       "      <td>315410</td>\n",
       "    </tr>\n",
       "  </tbody>\n",
       "</table>\n",
       "</div>"
      ],
      "text/plain": [
       "   Unnamed: 0      id  ltable_id  rtable_id\n",
       "0         309  906585     253443     260085\n",
       "1         196  591561     723561      68786\n",
       "2         246  740185     338596     635283\n",
       "3         261  788096     713603     150365\n",
       "4          37  114823     246156     315410"
      ]
     },
     "execution_count": 4,
     "metadata": {},
     "output_type": "execute_result"
    }
   ],
   "source": [
    "matchIDPairs.head()"
   ]
  },
  {
   "cell_type": "markdown",
   "metadata": {},
   "source": [
    "### Merging two tables "
   ]
  },
  {
   "cell_type": "code",
   "execution_count": 57,
   "metadata": {
    "collapsed": false
   },
   "outputs": [],
   "source": [
    "import math\n",
    "\n",
    "#Schema of the merged table\n",
    "E = pd.DataFrame(columns = ['movie_title','year','episode','song_title','artists'])\n",
    "\n",
    "for index, row in matchIDPairs.iterrows(): \n",
    "    left_entry = matchedTracks[matchedTracks['id']==row['ltable_id']]\n",
    "    right_entry = matchedSongs[matchedSongs['id']==row['rtable_id']]\n",
    "    \n",
    "    assert(len(left_entry)==1)\n",
    "    assert(len(right_entry)==1)\n",
    "    \n",
    "    track_id = int(left_entry['id'].item())\n",
    "    song_id = int(right_entry['id'].item())\n",
    "    \n",
    "    if(math.isnan(left_entry['year'].item())):\n",
    "        left = 0\n",
    "    else:\n",
    "        left = int(left_entry['year'].item())\n",
    "    \n",
    "    if(math.isnan(right_entry['year'].item())):\n",
    "        right = 0\n",
    "    else:\n",
    "        right = int(right_entry['year'].item())\n",
    "    \n",
    "    if left >= right and left != 0:\n",
    "        year = left\n",
    "    else:\n",
    "        year = right\n",
    "    \n",
    "    #for song title, larger length value is chosen if two value doesn't have exact string match\n",
    "    left = str(left_entry['song_title'].item())\n",
    "    right = str(right_entry['song_title'].item())\n",
    "    \n",
    "    if len(left) >= len(right):\n",
    "        song_title = left\n",
    "    else:\n",
    "        song_title = right\n",
    "    \n",
    "    #for artist, larger length value is chosen if two value doesn't have exact string match\n",
    "    left = str(left_entry['artists'].item())\n",
    "    right = str(right_entry['artists'].item())\n",
    "    \n",
    "    if len(left) >= len(right):\n",
    "        artists = left\n",
    "    else:\n",
    "        artists = right\n",
    "    \n",
    "    #since movie and episode are unique attributes in the left table, keeping the value as it is\n",
    "    movie_title = str(left_entry['movie_title'].item())\n",
    "    episode = str(left_entry['episode'].item())\n",
    "    \n",
    "    if episode == 'NaN':\n",
    "        episode = ''\n",
    "    \n",
    "    #creating an entry for table E with all values\n",
    "    entry = pd.Series([track_id, song_id, movie_title, year, episode, song_title, artists], index=['track_id','song_id','movie_title','year','episode','song_title','artists'])\n",
    "    \n",
    "    #appending the merged value to table E\n",
    "    E = E.append(entry, ignore_index=True)"
   ]
  },
  {
   "cell_type": "code",
   "execution_count": 58,
   "metadata": {
    "collapsed": false
   },
   "outputs": [
    {
     "data": {
      "text/html": [
       "<div>\n",
       "<table border=\"1\" class=\"dataframe\">\n",
       "  <thead>\n",
       "    <tr style=\"text-align: right;\">\n",
       "      <th></th>\n",
       "      <th>movie_title</th>\n",
       "      <th>year</th>\n",
       "      <th>episode</th>\n",
       "      <th>song_title</th>\n",
       "      <th>artists</th>\n",
       "      <th>song_id</th>\n",
       "      <th>track_id</th>\n",
       "    </tr>\n",
       "  </thead>\n",
       "  <tbody>\n",
       "    <tr>\n",
       "      <th>0</th>\n",
       "      <td>the pledge</td>\n",
       "      <td>2001.0</td>\n",
       "      <td>nan</td>\n",
       "      <td>poor twisted me</td>\n",
       "      <td>james hetfield+lars ulrich+metallica+arrangeme...</td>\n",
       "      <td>511255.0</td>\n",
       "      <td>678831.0</td>\n",
       "    </tr>\n",
       "    <tr>\n",
       "      <th>1</th>\n",
       "      <td>william s. burroughs: commissioner of sewers</td>\n",
       "      <td>1991.0</td>\n",
       "      <td>nan</td>\n",
       "      <td>batman br�t fische</td>\n",
       "      <td>fm einheit</td>\n",
       "      <td>150981.0</td>\n",
       "      <td>724999.0</td>\n",
       "    </tr>\n",
       "    <tr>\n",
       "      <th>2</th>\n",
       "      <td>the warriors</td>\n",
       "      <td>2005.0</td>\n",
       "      <td>nan</td>\n",
       "      <td>love is a fire</td>\n",
       "      <td>genya ravan+johnny vastano+vini poncia</td>\n",
       "      <td>328251.0</td>\n",
       "      <td>690267.0</td>\n",
       "    </tr>\n",
       "    <tr>\n",
       "      <th>3</th>\n",
       "      <td>t in the park 2010</td>\n",
       "      <td>2010.0</td>\n",
       "      <td>muse/calvin harris (#1.3)</td>\n",
       "      <td>map of the problematique [live from wembley st...</td>\n",
       "      <td>matthew bellamy+muse</td>\n",
       "      <td>227686.0</td>\n",
       "      <td>231063.0</td>\n",
       "    </tr>\n",
       "    <tr>\n",
       "      <th>4</th>\n",
       "      <td>dolly parton: live &amp; well</td>\n",
       "      <td>2004.0</td>\n",
       "      <td>nan</td>\n",
       "      <td>dagger through the heart</td>\n",
       "      <td>dolly parton</td>\n",
       "      <td>531984.0</td>\n",
       "      <td>418267.0</td>\n",
       "    </tr>\n",
       "  </tbody>\n",
       "</table>\n",
       "</div>"
      ],
      "text/plain": [
       "                                    movie_title    year  \\\n",
       "0                                    the pledge  2001.0   \n",
       "1  william s. burroughs: commissioner of sewers  1991.0   \n",
       "2                                  the warriors  2005.0   \n",
       "3                            t in the park 2010  2010.0   \n",
       "4                     dolly parton: live & well  2004.0   \n",
       "\n",
       "                     episode  \\\n",
       "0                        nan   \n",
       "1                        nan   \n",
       "2                        nan   \n",
       "3  muse/calvin harris (#1.3)   \n",
       "4                        nan   \n",
       "\n",
       "                                          song_title  \\\n",
       "0                                    poor twisted me   \n",
       "1                                 batman br�t fische   \n",
       "2                                     love is a fire   \n",
       "3  map of the problematique [live from wembley st...   \n",
       "4                           dagger through the heart   \n",
       "\n",
       "                                             artists   song_id  track_id  \n",
       "0  james hetfield+lars ulrich+metallica+arrangeme...  511255.0  678831.0  \n",
       "1                                         fm einheit  150981.0  724999.0  \n",
       "2             genya ravan+johnny vastano+vini poncia  328251.0  690267.0  \n",
       "3                               matthew bellamy+muse  227686.0  231063.0  \n",
       "4                                       dolly parton  531984.0  418267.0  "
      ]
     },
     "execution_count": 58,
     "metadata": {},
     "output_type": "execute_result"
    }
   ],
   "source": [
    "E.head()"
   ]
  },
  {
   "cell_type": "code",
   "execution_count": 59,
   "metadata": {
    "collapsed": true
   },
   "outputs": [],
   "source": [
    "#Writing the table E to file\n",
    "E.to_csv('merged_data.csv',sep=',',index=False)"
   ]
  },
  {
   "cell_type": "code",
   "execution_count": null,
   "metadata": {
    "collapsed": true
   },
   "outputs": [],
   "source": []
  }
 ],
 "metadata": {
  "kernelspec": {
   "display_name": "Python 3",
   "language": "python",
   "name": "python3"
  },
  "language_info": {
   "codemirror_mode": {
    "name": "ipython",
    "version": 3
   },
   "file_extension": ".py",
   "mimetype": "text/x-python",
   "name": "python",
   "nbconvert_exporter": "python",
   "pygments_lexer": "ipython3",
   "version": "3.6.0"
  }
 },
 "nbformat": 4,
 "nbformat_minor": 0
}
