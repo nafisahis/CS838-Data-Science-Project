{
 "cells": [
  {
   "cell_type": "markdown",
   "metadata": {},
   "source": [
    "## Data Integration\n",
    "\n",
    "This notebook includes steps for integrating of two tables 'tracks_sample.csv' and 'songs_sample.csv' based on the matching pairs. These two table has two different schemas. Thus, schema of the final table E is the union of these two table's schema."
   ]
  },
  {
   "cell_type": "markdown",
   "metadata": {},
   "source": [
    "### Loading libraries and reading data"
   ]
  },
  {
   "cell_type": "code",
   "execution_count": 1,
   "metadata": {
    "collapsed": true
   },
   "outputs": [],
   "source": [
    "import pandas as pd\n",
    "import os\n",
    "import re\n",
    "\n",
    "fileDir = os.path.join('..','Stage 3','data')\n",
    "\n",
    "songs = pd.read_csv(os.path.join(fileDir,'songs_sample.csv'))\n",
    "tracks = pd.read_csv(os.path.join(fileDir,'tracks_sample.csv'))\n",
    "matchIDPairs = pd.read_csv('final_predictions.csv')\n",
    "\n",
    "# filtering the matched tuples from both dataset \n",
    "matchedTracks = tracks[tracks['id'].isin(list(matchIDPairs['ltable_id']))]\n",
    "matchedSongs = songs[songs['id'].isin(list(matchIDPairs['rtable_id']))]\n",
    "\n",
    "assert(len(matchedTracks)==len(matchedSongs))"
   ]
  },
  {
   "cell_type": "code",
   "execution_count": 2,
   "metadata": {
    "collapsed": false
   },
   "outputs": [
    {
     "data": {
      "text/html": [
       "<div>\n",
       "<table border=\"1\" class=\"dataframe\">\n",
       "  <thead>\n",
       "    <tr style=\"text-align: right;\">\n",
       "      <th></th>\n",
       "      <th>id</th>\n",
       "      <th>movie_title</th>\n",
       "      <th>year</th>\n",
       "      <th>episode</th>\n",
       "      <th>song_title</th>\n",
       "      <th>artists</th>\n",
       "    </tr>\n",
       "  </thead>\n",
       "  <tbody>\n",
       "    <tr>\n",
       "      <th>5</th>\n",
       "      <td>262158</td>\n",
       "      <td>the porter wagoner show</td>\n",
       "      <td>1961.0</td>\n",
       "      <td>the osborne brothers (#1.517)</td>\n",
       "      <td>the carroll county accident</td>\n",
       "      <td>porter wagoner</td>\n",
       "    </tr>\n",
       "    <tr>\n",
       "      <th>70</th>\n",
       "      <td>393455</td>\n",
       "      <td>claudia leitte: ao vivo em copacabana</td>\n",
       "      <td>2008.0</td>\n",
       "      <td>NaN</td>\n",
       "      <td>pensando em você</td>\n",
       "      <td>henrique cerqueira+claudia leitte</td>\n",
       "    </tr>\n",
       "    <tr>\n",
       "      <th>91</th>\n",
       "      <td>459080</td>\n",
       "      <td>greta</td>\n",
       "      <td>2009.0</td>\n",
       "      <td>NaN</td>\n",
       "      <td>i wanna die</td>\n",
       "      <td>jolie holland</td>\n",
       "    </tr>\n",
       "    <tr>\n",
       "      <th>217</th>\n",
       "      <td>426815</td>\n",
       "      <td>el crimen del padre amaro</td>\n",
       "      <td>2002.0</td>\n",
       "      <td>NaN</td>\n",
       "      <td>te odio</td>\n",
       "      <td>rudy pérez+joel numa+pablo montero</td>\n",
       "    </tr>\n",
       "    <tr>\n",
       "      <th>276</th>\n",
       "      <td>328752</td>\n",
       "      <td>22nd annual trumpet awards</td>\n",
       "      <td>2014.0</td>\n",
       "      <td>NaN</td>\n",
       "      <td>i need you now</td>\n",
       "      <td>smokie norful</td>\n",
       "    </tr>\n",
       "  </tbody>\n",
       "</table>\n",
       "</div>"
      ],
      "text/plain": [
       "         id                            movie_title    year  \\\n",
       "5    262158                the porter wagoner show  1961.0   \n",
       "70   393455  claudia leitte: ao vivo em copacabana  2008.0   \n",
       "91   459080                                  greta  2009.0   \n",
       "217  426815              el crimen del padre amaro  2002.0   \n",
       "276  328752             22nd annual trumpet awards  2014.0   \n",
       "\n",
       "                           episode                   song_title  \\\n",
       "5    the osborne brothers (#1.517)  the carroll county accident   \n",
       "70                             NaN             pensando em você   \n",
       "91                             NaN                  i wanna die   \n",
       "217                            NaN                      te odio   \n",
       "276                            NaN               i need you now   \n",
       "\n",
       "                                artists  \n",
       "5                        porter wagoner  \n",
       "70    henrique cerqueira+claudia leitte  \n",
       "91                        jolie holland  \n",
       "217  rudy pérez+joel numa+pablo montero  \n",
       "276                       smokie norful  "
      ]
     },
     "execution_count": 2,
     "metadata": {},
     "output_type": "execute_result"
    }
   ],
   "source": [
    "matchedTracks.head()"
   ]
  },
  {
   "cell_type": "code",
   "execution_count": 3,
   "metadata": {
    "collapsed": false
   },
   "outputs": [
    {
     "data": {
      "text/html": [
       "<div>\n",
       "<table border=\"1\" class=\"dataframe\">\n",
       "  <thead>\n",
       "    <tr style=\"text-align: right;\">\n",
       "      <th></th>\n",
       "      <th>id</th>\n",
       "      <th>song_title</th>\n",
       "      <th>artists</th>\n",
       "      <th>year</th>\n",
       "    </tr>\n",
       "  </thead>\n",
       "  <tbody>\n",
       "    <tr>\n",
       "      <th>147</th>\n",
       "      <td>509218</td>\n",
       "      <td>he can only hold her</td>\n",
       "      <td>amy winehouse</td>\n",
       "      <td>2006</td>\n",
       "    </tr>\n",
       "    <tr>\n",
       "      <th>154</th>\n",
       "      <td>218585</td>\n",
       "      <td>last train home</td>\n",
       "      <td>pat metheny group</td>\n",
       "      <td>1987</td>\n",
       "    </tr>\n",
       "    <tr>\n",
       "      <th>179</th>\n",
       "      <td>261294</td>\n",
       "      <td>soverato</td>\n",
       "      <td>minus 8</td>\n",
       "      <td>2004</td>\n",
       "    </tr>\n",
       "    <tr>\n",
       "      <th>351</th>\n",
       "      <td>958721</td>\n",
       "      <td>sweet talkin' woman</td>\n",
       "      <td>electric light orchestra</td>\n",
       "      <td>1977</td>\n",
       "    </tr>\n",
       "    <tr>\n",
       "      <th>476</th>\n",
       "      <td>679231</td>\n",
       "      <td>god don't never change</td>\n",
       "      <td>blind willie johnson</td>\n",
       "      <td>1989</td>\n",
       "    </tr>\n",
       "  </tbody>\n",
       "</table>\n",
       "</div>"
      ],
      "text/plain": [
       "         id              song_title                   artists  year\n",
       "147  509218    he can only hold her             amy winehouse  2006\n",
       "154  218585         last train home         pat metheny group  1987\n",
       "179  261294                soverato                   minus 8  2004\n",
       "351  958721     sweet talkin' woman  electric light orchestra  1977\n",
       "476  679231  god don't never change      blind willie johnson  1989"
      ]
     },
     "execution_count": 3,
     "metadata": {},
     "output_type": "execute_result"
    }
   ],
   "source": [
    "matchedSongs.head()"
   ]
  },
  {
   "cell_type": "code",
   "execution_count": 4,
   "metadata": {
    "collapsed": false
   },
   "outputs": [
    {
     "data": {
      "text/html": [
       "<div>\n",
       "<table border=\"1\" class=\"dataframe\">\n",
       "  <thead>\n",
       "    <tr style=\"text-align: right;\">\n",
       "      <th></th>\n",
       "      <th>Unnamed: 0</th>\n",
       "      <th>id</th>\n",
       "      <th>ltable_id</th>\n",
       "      <th>rtable_id</th>\n",
       "    </tr>\n",
       "  </thead>\n",
       "  <tbody>\n",
       "    <tr>\n",
       "      <th>0</th>\n",
       "      <td>309</td>\n",
       "      <td>906585</td>\n",
       "      <td>253443</td>\n",
       "      <td>260085</td>\n",
       "    </tr>\n",
       "    <tr>\n",
       "      <th>1</th>\n",
       "      <td>196</td>\n",
       "      <td>591561</td>\n",
       "      <td>723561</td>\n",
       "      <td>68786</td>\n",
       "    </tr>\n",
       "    <tr>\n",
       "      <th>2</th>\n",
       "      <td>246</td>\n",
       "      <td>740185</td>\n",
       "      <td>338596</td>\n",
       "      <td>635283</td>\n",
       "    </tr>\n",
       "    <tr>\n",
       "      <th>3</th>\n",
       "      <td>261</td>\n",
       "      <td>788096</td>\n",
       "      <td>713603</td>\n",
       "      <td>150365</td>\n",
       "    </tr>\n",
       "    <tr>\n",
       "      <th>4</th>\n",
       "      <td>37</td>\n",
       "      <td>114823</td>\n",
       "      <td>246156</td>\n",
       "      <td>315410</td>\n",
       "    </tr>\n",
       "  </tbody>\n",
       "</table>\n",
       "</div>"
      ],
      "text/plain": [
       "   Unnamed: 0      id  ltable_id  rtable_id\n",
       "0         309  906585     253443     260085\n",
       "1         196  591561     723561      68786\n",
       "2         246  740185     338596     635283\n",
       "3         261  788096     713603     150365\n",
       "4          37  114823     246156     315410"
      ]
     },
     "execution_count": 4,
     "metadata": {},
     "output_type": "execute_result"
    }
   ],
   "source": [
    "matchIDPairs.head()"
   ]
  },
  {
   "cell_type": "markdown",
   "metadata": {},
   "source": [
    "### Merging two tables "
   ]
  },
  {
   "cell_type": "code",
   "execution_count": 10,
   "metadata": {
    "collapsed": false
   },
   "outputs": [],
   "source": [
    "#a helper function to extract substring\n",
    "def extractString(st):\n",
    "    text = str(st).split('\\n')[0]\n",
    "    m = re.search('\\D+',text)\n",
    "    if m:\n",
    "        return m.group(0)\n",
    "\n",
    "#Schema of the merged table\n",
    "E = pd.DataFrame(columns = ['movie_title','year','episode','song_title','artists'])\n",
    "\n",
    "for index, row in matchIDPairs.iterrows():\n",
    "    left_entry = matchedTracks[matchedTracks['id']==row['ltable_id']]\n",
    "    right_entry = matchedSongs[matchedSongs['id']==row['rtable_id']]\n",
    "    \n",
    "    assert(len(left_entry)==1)\n",
    "    assert(len(right_entry)==1)\n",
    "    \n",
    "    if(math.isnan(left_entry['year'])):\n",
    "            left=0\n",
    "    else:\n",
    "            left = int(float(str(left_entry['year']).split('\\n')[0].split(' ')[4]))\n",
    "    if(math.isnan(right_entry['year'])):\n",
    "            right=0\n",
    "    else:\n",
    "            right = int(float(str(right_entry['year']).split('\\n')[0].split(' ')[4]))\n",
    "    \n",
    "    if(left > right):\n",
    "            year =  left\n",
    "    elif (left < right):\n",
    "            year =  right\n",
    "    else:\n",
    "        year =  left\n",
    "    \n",
    "    #for song title, larger length value is chosen if two value doesn't have exact string match\n",
    "    left = extractString(left_entry['song_title'])\n",
    "    right = extractString(right_entry['song_title'])\n",
    "    \n",
    "    if(len(left)!=len(right)):\n",
    "        if(len(left) > len(right)):\n",
    "            song_title = left\n",
    "        else:\n",
    "            song_title = right\n",
    "    else:\n",
    "        song_title = left\n",
    "    \n",
    "    #for artist, larger length value is chosen if two value doesn't have exact string match\n",
    "    left = extractString(left_entry['artists'])\n",
    "    right = extractString(right_entry['artists'])\n",
    "    \n",
    "    if(len(left)!=len(right)):\n",
    "        if(len(left) > len(right)):\n",
    "            artists = left\n",
    "        else:\n",
    "            artists = right\n",
    "    else:\n",
    "        artists = left\n",
    "    \n",
    "    #since movie and episode are unique attributes in the left table, keeping the value as it is\n",
    "    movie_title = extractString(left_entry['movie_title'])\n",
    "    episode = extractString(left_entry['episode'])\n",
    "    \n",
    "    #creating an entry for table E with all values\n",
    "    entry = pd.Series([movie_title, year, episode, song_title, artists], index=['movie_title','year','episode','song_title','artists'])\n",
    "    \n",
    "    #appending the merged value to table E\n",
    "    E = E.append(entry, ignore_index=True)"
   ]
  },
  {
   "cell_type": "code",
   "execution_count": 11,
   "metadata": {
    "collapsed": false
   },
   "outputs": [
    {
     "data": {
      "text/html": [
       "<div>\n",
       "<table border=\"1\" class=\"dataframe\">\n",
       "  <thead>\n",
       "    <tr style=\"text-align: right;\">\n",
       "      <th></th>\n",
       "      <th>movie_title</th>\n",
       "      <th>year</th>\n",
       "      <th>episode</th>\n",
       "      <th>song_title</th>\n",
       "      <th>artists</th>\n",
       "    </tr>\n",
       "  </thead>\n",
       "  <tbody>\n",
       "    <tr>\n",
       "      <th>0</th>\n",
       "      <td>the marty stuart show</td>\n",
       "      <td>2008.0</td>\n",
       "      <td>emmy lou harris (#</td>\n",
       "      <td>hearts like ours (album version)</td>\n",
       "      <td>connie smith</td>\n",
       "    </tr>\n",
       "    <tr>\n",
       "      <th>1</th>\n",
       "      <td>wholl stop the rain</td>\n",
       "      <td>1978.0</td>\n",
       "      <td>NaN</td>\n",
       "      <td>gimme some lovin' (re-recorded)</td>\n",
       "      <td>steve winwood+muff winwood+spencer davis+t...</td>\n",
       "    </tr>\n",
       "    <tr>\n",
       "      <th>2</th>\n",
       "      <td>about last night...</td>\n",
       "      <td>1990.0</td>\n",
       "      <td>NaN</td>\n",
       "      <td>words into action</td>\n",
       "      <td>mike leeson+peter vale+jermaine jackson</td>\n",
       "    </tr>\n",
       "    <tr>\n",
       "      <th>3</th>\n",
       "      <td>vidas en vivo</td>\n",
       "      <td>2008.0</td>\n",
       "      <td>NaN</td>\n",
       "      <td>niños</td>\n",
       "      <td>pedro guerra</td>\n",
       "    </tr>\n",
       "    <tr>\n",
       "      <th>4</th>\n",
       "      <td>the go!! show</td>\n",
       "      <td>1964.0</td>\n",
       "      <td>(#</td>\n",
       "      <td>i (who have nothing)</td>\n",
       "      <td>jerry leiber+mike stoller+carlo donida+mog...</td>\n",
       "    </tr>\n",
       "  </tbody>\n",
       "</table>\n",
       "</div>"
      ],
      "text/plain": [
       "                 movie_title    year                 episode  \\\n",
       "0      the marty stuart show  2008.0      emmy lou harris (#   \n",
       "1        wholl stop the rain  1978.0                     NaN   \n",
       "2        about last night...  1990.0                     NaN   \n",
       "3              vidas en vivo  2008.0                     NaN   \n",
       "4              the go!! show  1964.0                      (#   \n",
       "\n",
       "                             song_title  \\\n",
       "0      hearts like ours (album version)   \n",
       "1       gimme some lovin' (re-recorded)   \n",
       "2                     words into action   \n",
       "3                                 niños   \n",
       "4                  i (who have nothing)   \n",
       "\n",
       "                                             artists  \n",
       "0                                       connie smith  \n",
       "1      steve winwood+muff winwood+spencer davis+t...  \n",
       "2            mike leeson+peter vale+jermaine jackson  \n",
       "3                                       pedro guerra  \n",
       "4      jerry leiber+mike stoller+carlo donida+mog...  "
      ]
     },
     "execution_count": 11,
     "metadata": {},
     "output_type": "execute_result"
    }
   ],
   "source": [
    "E.head()"
   ]
  },
  {
   "cell_type": "code",
   "execution_count": 14,
   "metadata": {
    "collapsed": true
   },
   "outputs": [],
   "source": [
    "#Writing the table E to file\n",
    "E.to_csv('Merged table E.csv',sep=',',index=False)"
   ]
  },
  {
   "cell_type": "code",
   "execution_count": null,
   "metadata": {
    "collapsed": true
   },
   "outputs": [],
   "source": []
  }
 ],
 "metadata": {
  "kernelspec": {
   "display_name": "Python 3",
   "language": "python",
   "name": "python3"
  },
  "language_info": {
   "codemirror_mode": {
    "name": "ipython",
    "version": 3
   },
   "file_extension": ".py",
   "mimetype": "text/x-python",
   "name": "python",
   "nbconvert_exporter": "python",
   "pygments_lexer": "ipython3",
   "version": "3.6.0"
  }
 },
 "nbformat": 4,
 "nbformat_minor": 0
}
