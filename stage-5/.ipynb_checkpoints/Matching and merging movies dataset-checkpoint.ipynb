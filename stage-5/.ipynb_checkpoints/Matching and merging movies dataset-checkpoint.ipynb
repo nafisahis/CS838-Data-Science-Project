{
 "cells": [
  {
   "cell_type": "code",
   "execution_count": 1,
   "metadata": {
    "collapsed": true
   },
   "outputs": [],
   "source": [
    "import py_entitymatching as em\n",
    "import pandas as pd\n",
    "import numpy as np\n",
    "import os"
   ]
  },
  {
   "cell_type": "code",
   "execution_count": 2,
   "metadata": {
    "collapsed": false
   },
   "outputs": [],
   "source": [
    "temp_G = em.read_csv_metadata(os.path.join('dataset','labeled_movie_data.csv'))\n",
    "temp_G = temp_G.rename(columns = {'_id':'id'})\n",
    "temp_G.to_csv('labeled_movies.csv',index=False, sep=',')"
   ]
  },
  {
   "cell_type": "code",
   "execution_count": 33,
   "metadata": {
    "collapsed": false
   },
   "outputs": [],
   "source": [
    "A = em.read_csv_metadata('merged_sample.csv',key='id', low_memory=False) # setting the parameter low_memory to False  to speed up loading.\n",
    "B = em.read_csv_metadata('movies_sample.csv',key='id',low_memory=False)\n",
    "G = em.read_csv_metadata('labeled_movies.csv',key='id',low_memory=False,ltable=A, rtable=B, fk_ltable='ltable_id', fk_rtable='rtable_id')"
   ]
  },
  {
   "cell_type": "code",
   "execution_count": 34,
   "metadata": {
    "collapsed": false
   },
   "outputs": [
    {
     "data": {
      "text/html": [
       "<div>\n",
       "<table border=\"1\" class=\"dataframe\">\n",
       "  <thead>\n",
       "    <tr style=\"text-align: right;\">\n",
       "      <th></th>\n",
       "      <th>id</th>\n",
       "      <th>ltable_id</th>\n",
       "      <th>rtable_id</th>\n",
       "      <th>ltable_movie_title</th>\n",
       "      <th>ltable_year</th>\n",
       "      <th>rtable_movie_title</th>\n",
       "      <th>rtable_year</th>\n",
       "      <th>gold_label</th>\n",
       "    </tr>\n",
       "  </thead>\n",
       "  <tbody>\n",
       "    <tr>\n",
       "      <th>0</th>\n",
       "      <td>33</td>\n",
       "      <td>3476</td>\n",
       "      <td>571847</td>\n",
       "      <td>prison break</td>\n",
       "      <td>2005</td>\n",
       "      <td>prison break</td>\n",
       "      <td>2008</td>\n",
       "      <td>1</td>\n",
       "    </tr>\n",
       "    <tr>\n",
       "      <th>1</th>\n",
       "      <td>34</td>\n",
       "      <td>2365</td>\n",
       "      <td>828790</td>\n",
       "      <td>las vegas</td>\n",
       "      <td>[2003, 1963]</td>\n",
       "      <td>viva las vegas</td>\n",
       "      <td>1964</td>\n",
       "      <td>0</td>\n",
       "    </tr>\n",
       "    <tr>\n",
       "      <th>2</th>\n",
       "      <td>40</td>\n",
       "      <td>307</td>\n",
       "      <td>53603</td>\n",
       "      <td>an american tail: fievel goes west</td>\n",
       "      <td>1991</td>\n",
       "      <td>an american tail: fievel goes west</td>\n",
       "      <td>1991</td>\n",
       "      <td>1</td>\n",
       "    </tr>\n",
       "    <tr>\n",
       "      <th>3</th>\n",
       "      <td>42</td>\n",
       "      <td>2634</td>\n",
       "      <td>527545</td>\n",
       "      <td>once upon a wheel</td>\n",
       "      <td>1971</td>\n",
       "      <td>once upon a scoundrel</td>\n",
       "      <td>1974</td>\n",
       "      <td>0</td>\n",
       "    </tr>\n",
       "    <tr>\n",
       "      <th>4</th>\n",
       "      <td>73</td>\n",
       "      <td>4723</td>\n",
       "      <td>700054</td>\n",
       "      <td>the boys are back</td>\n",
       "      <td>2009</td>\n",
       "      <td>the boys are back</td>\n",
       "      <td>2009</td>\n",
       "      <td>1</td>\n",
       "    </tr>\n",
       "  </tbody>\n",
       "</table>\n",
       "</div>"
      ],
      "text/plain": [
       "   id  ltable_id  rtable_id                  ltable_movie_title   ltable_year  \\\n",
       "0  33       3476     571847                        prison break          2005   \n",
       "1  34       2365     828790                           las vegas  [2003, 1963]   \n",
       "2  40        307      53603  an american tail: fievel goes west          1991   \n",
       "3  42       2634     527545                   once upon a wheel          1971   \n",
       "4  73       4723     700054                   the boys are back          2009   \n",
       "\n",
       "                   rtable_movie_title  rtable_year  gold_label  \n",
       "0                        prison break         2008           1  \n",
       "1                      viva las vegas         1964           0  \n",
       "2  an american tail: fievel goes west         1991           1  \n",
       "3               once upon a scoundrel         1974           0  \n",
       "4                   the boys are back         2009           1  "
      ]
     },
     "execution_count": 34,
     "metadata": {},
     "output_type": "execute_result"
    }
   ],
   "source": [
    "G.head()"
   ]
  },
  {
   "cell_type": "code",
   "execution_count": 5,
   "metadata": {
    "collapsed": false
   },
   "outputs": [
    {
     "data": {
      "text/html": [
       "<div>\n",
       "<table border=\"1\" class=\"dataframe\">\n",
       "  <thead>\n",
       "    <tr style=\"text-align: right;\">\n",
       "      <th></th>\n",
       "      <th>id</th>\n",
       "      <th>ltable_id</th>\n",
       "      <th>rtable_id</th>\n",
       "      <th>ltable_movie_title</th>\n",
       "      <th>ltable_year</th>\n",
       "      <th>rtable_movie_title</th>\n",
       "      <th>rtable_year</th>\n",
       "      <th>gold_label</th>\n",
       "    </tr>\n",
       "  </thead>\n",
       "  <tbody>\n",
       "    <tr>\n",
       "      <th>0</th>\n",
       "      <td>33</td>\n",
       "      <td>3476</td>\n",
       "      <td>571847</td>\n",
       "      <td>prison break</td>\n",
       "      <td>2005</td>\n",
       "      <td>prison break</td>\n",
       "      <td>2008</td>\n",
       "      <td>1</td>\n",
       "    </tr>\n",
       "    <tr>\n",
       "      <th>1</th>\n",
       "      <td>34</td>\n",
       "      <td>2365</td>\n",
       "      <td>828790</td>\n",
       "      <td>las vegas</td>\n",
       "      <td>[2003, 1963]</td>\n",
       "      <td>viva las vegas</td>\n",
       "      <td>1964</td>\n",
       "      <td>0</td>\n",
       "    </tr>\n",
       "    <tr>\n",
       "      <th>2</th>\n",
       "      <td>40</td>\n",
       "      <td>307</td>\n",
       "      <td>53603</td>\n",
       "      <td>an american tail: fievel goes west</td>\n",
       "      <td>1991</td>\n",
       "      <td>an american tail: fievel goes west</td>\n",
       "      <td>1991</td>\n",
       "      <td>1</td>\n",
       "    </tr>\n",
       "    <tr>\n",
       "      <th>3</th>\n",
       "      <td>42</td>\n",
       "      <td>2634</td>\n",
       "      <td>527545</td>\n",
       "      <td>once upon a wheel</td>\n",
       "      <td>1971</td>\n",
       "      <td>once upon a scoundrel</td>\n",
       "      <td>1974</td>\n",
       "      <td>0</td>\n",
       "    </tr>\n",
       "    <tr>\n",
       "      <th>4</th>\n",
       "      <td>73</td>\n",
       "      <td>4723</td>\n",
       "      <td>700054</td>\n",
       "      <td>the boys are back</td>\n",
       "      <td>2009</td>\n",
       "      <td>the boys are back</td>\n",
       "      <td>2009</td>\n",
       "      <td>1</td>\n",
       "    </tr>\n",
       "  </tbody>\n",
       "</table>\n",
       "</div>"
      ],
      "text/plain": [
       "   id  ltable_id  rtable_id                  ltable_movie_title   ltable_year  \\\n",
       "0  33       3476     571847                        prison break          2005   \n",
       "1  34       2365     828790                           las vegas  [2003, 1963]   \n",
       "2  40        307      53603  an american tail: fievel goes west          1991   \n",
       "3  42       2634     527545                   once upon a wheel          1971   \n",
       "4  73       4723     700054                   the boys are back          2009   \n",
       "\n",
       "                   rtable_movie_title  rtable_year  gold_label  \n",
       "0                        prison break         2008           1  \n",
       "1                      viva las vegas         1964           0  \n",
       "2  an american tail: fievel goes west         1991           1  \n",
       "3               once upon a scoundrel         1974           0  \n",
       "4                   the boys are back         2009           1  "
      ]
     },
     "execution_count": 5,
     "metadata": {},
     "output_type": "execute_result"
    }
   ],
   "source": [
    "temp_G = G\n",
    "#temp_G = temp_G.rename(columns = {'ltable_year':'ltable_year_old'})\n",
    "temp_G.head()"
   ]
  },
  {
   "cell_type": "code",
   "execution_count": 6,
   "metadata": {
    "collapsed": false
   },
   "outputs": [],
   "source": [
    "for index, row in temp_G.iterrows():\n",
    "    \n",
    "    if row['ltable_year'][0] == '[':\n",
    "        year = row['ltable_year'][1:-1]\n",
    "        year = year.split(',')\n",
    "        a = abs(int(year[0])-int(row['rtable_year']))\n",
    "        b = abs(int(year[1])-int(row['rtable_year'])) \n",
    "        if(a<b):\n",
    "            temp_G.loc[index,'ltable_year'] = year[0]\n",
    "        else:\n",
    "            temp_G.loc[index,'ltable_year'] = year[1]\n",
    "    row['rtable_year'] = int(row['rtable_year'])\n",
    "    #print row['rtable_year']"
   ]
  },
  {
   "cell_type": "code",
   "execution_count": 7,
   "metadata": {
    "collapsed": false
   },
   "outputs": [
    {
     "data": {
      "text/html": [
       "<div>\n",
       "<table border=\"1\" class=\"dataframe\">\n",
       "  <thead>\n",
       "    <tr style=\"text-align: right;\">\n",
       "      <th></th>\n",
       "      <th>id</th>\n",
       "      <th>ltable_id</th>\n",
       "      <th>rtable_id</th>\n",
       "      <th>ltable_movie_title</th>\n",
       "      <th>ltable_year</th>\n",
       "      <th>rtable_movie_title</th>\n",
       "      <th>rtable_year</th>\n",
       "      <th>gold_label</th>\n",
       "    </tr>\n",
       "  </thead>\n",
       "  <tbody>\n",
       "    <tr>\n",
       "      <th>0</th>\n",
       "      <td>33</td>\n",
       "      <td>3476</td>\n",
       "      <td>571847</td>\n",
       "      <td>prison break</td>\n",
       "      <td>2005</td>\n",
       "      <td>prison break</td>\n",
       "      <td>2008</td>\n",
       "      <td>1</td>\n",
       "    </tr>\n",
       "    <tr>\n",
       "      <th>1</th>\n",
       "      <td>34</td>\n",
       "      <td>2365</td>\n",
       "      <td>828790</td>\n",
       "      <td>las vegas</td>\n",
       "      <td>1963</td>\n",
       "      <td>viva las vegas</td>\n",
       "      <td>1964</td>\n",
       "      <td>0</td>\n",
       "    </tr>\n",
       "    <tr>\n",
       "      <th>2</th>\n",
       "      <td>40</td>\n",
       "      <td>307</td>\n",
       "      <td>53603</td>\n",
       "      <td>an american tail: fievel goes west</td>\n",
       "      <td>1991</td>\n",
       "      <td>an american tail: fievel goes west</td>\n",
       "      <td>1991</td>\n",
       "      <td>1</td>\n",
       "    </tr>\n",
       "    <tr>\n",
       "      <th>3</th>\n",
       "      <td>42</td>\n",
       "      <td>2634</td>\n",
       "      <td>527545</td>\n",
       "      <td>once upon a wheel</td>\n",
       "      <td>1971</td>\n",
       "      <td>once upon a scoundrel</td>\n",
       "      <td>1974</td>\n",
       "      <td>0</td>\n",
       "    </tr>\n",
       "    <tr>\n",
       "      <th>4</th>\n",
       "      <td>73</td>\n",
       "      <td>4723</td>\n",
       "      <td>700054</td>\n",
       "      <td>the boys are back</td>\n",
       "      <td>2009</td>\n",
       "      <td>the boys are back</td>\n",
       "      <td>2009</td>\n",
       "      <td>1</td>\n",
       "    </tr>\n",
       "  </tbody>\n",
       "</table>\n",
       "</div>"
      ],
      "text/plain": [
       "   id  ltable_id  rtable_id                  ltable_movie_title ltable_year  \\\n",
       "0  33       3476     571847                        prison break        2005   \n",
       "1  34       2365     828790                           las vegas        1963   \n",
       "2  40        307      53603  an american tail: fievel goes west        1991   \n",
       "3  42       2634     527545                   once upon a wheel        1971   \n",
       "4  73       4723     700054                   the boys are back        2009   \n",
       "\n",
       "                   rtable_movie_title  rtable_year  gold_label  \n",
       "0                        prison break         2008           1  \n",
       "1                      viva las vegas         1964           0  \n",
       "2  an american tail: fievel goes west         1991           1  \n",
       "3               once upon a scoundrel         1974           0  \n",
       "4                   the boys are back         2009           1  "
      ]
     },
     "execution_count": 7,
     "metadata": {},
     "output_type": "execute_result"
    }
   ],
   "source": [
    "temp_G[['rtable_year']] = temp_G[['rtable_year']].astype(int)\n",
    "temp_G.head()\n",
    "#temp_G.to_csv('labeled_movie_ltable_fix.csv',sep='\\t',index = False)"
   ]
  },
  {
   "cell_type": "code",
   "execution_count": 8,
   "metadata": {
    "collapsed": true
   },
   "outputs": [],
   "source": [
    "# Split G into I an J\n",
    "train_test = em.split_train_test(temp_G, train_proportion=0.75,random_state=0)\n",
    "I = train_test['train']\n",
    "J = train_test['test']\n",
    "I.to_csv(os.path.join('dataset','movies_train_0.75.csv'))\n",
    "J.to_csv(os.path.join('dataset','movies_test_0.75.csv'))"
   ]
  },
  {
   "cell_type": "code",
   "execution_count": 9,
   "metadata": {
    "collapsed": false
   },
   "outputs": [
    {
     "data": {
      "text/plain": [
       "(300, 100)"
      ]
     },
     "execution_count": 9,
     "metadata": {},
     "output_type": "execute_result"
    }
   ],
   "source": [
    "len(I),len(J)"
   ]
  },
  {
   "cell_type": "code",
   "execution_count": 26,
   "metadata": {
    "collapsed": false
   },
   "outputs": [
    {
     "name": "stdout",
     "output_type": "stream",
     "text": [
      "0         movie_title_movie_title_jac_qgm_3_qgm_3\n",
      "1     movie_title_movie_title_cos_dlm_dc0_dlm_dc0\n",
      "2     movie_title_movie_title_jac_dlm_dc0_dlm_dc0\n",
      "3                     movie_title_movie_title_mel\n",
      "4                movie_title_movie_title_lev_dist\n",
      "5                 movie_title_movie_title_lev_sim\n",
      "6                     movie_title_movie_title_nmw\n",
      "7                      movie_title_movie_title_sw\n",
      "8                                       id_id_exm\n",
      "9                                       id_id_anm\n",
      "10                                 id_id_lev_dist\n",
      "11                                  id_id_lev_sim\n",
      "Name: feature_name, dtype: object\n",
      "0        movie_title_movie_title_jac_qgm_3_qgm_3\n",
      "1    movie_title_movie_title_cos_dlm_dc0_dlm_dc0\n",
      "2    movie_title_movie_title_jac_dlm_dc0_dlm_dc0\n",
      "3                    movie_title_movie_title_mel\n",
      "4               movie_title_movie_title_lev_dist\n",
      "5                movie_title_movie_title_lev_sim\n",
      "6                    movie_title_movie_title_nmw\n",
      "7                     movie_title_movie_title_sw\n",
      "Name: feature_name, dtype: object\n"
     ]
    }
   ],
   "source": [
    "# Generate a set of features\n",
    "F = em.get_features_for_matching(A, B)\n",
    "print(F.feature_name)\n",
    "# Remove all features on id parameters\n",
    "F = F[0:8]\n",
    "print(F.feature_name)"
   ]
  },
  {
   "cell_type": "code",
   "execution_count": 27,
   "metadata": {
    "collapsed": true
   },
   "outputs": [],
   "source": [
    "#F = F[0:5]"
   ]
  },
  {
   "cell_type": "code",
   "execution_count": 28,
   "metadata": {
    "collapsed": false
   },
   "outputs": [],
   "source": [
    "# Convert I into a set of feature vectors using F\n",
    "H = em.extract_feature_vecs(I, \n",
    "                            feature_table=F, \n",
    "                            attrs_after='gold_label',\n",
    "                            show_progress=False) "
   ]
  },
  {
   "cell_type": "code",
   "execution_count": 12,
   "metadata": {
    "collapsed": false
   },
   "outputs": [
    {
     "data": {
      "text/plain": [
       "True"
      ]
     },
     "execution_count": 12,
     "metadata": {},
     "output_type": "execute_result"
    }
   ],
   "source": [
    "# Check if the feature vectors contain missing values\n",
    "# A return value of True means that there are missing values\n",
    "any(pd.notnull(H))"
   ]
  },
  {
   "cell_type": "code",
   "execution_count": 13,
   "metadata": {
    "collapsed": true
   },
   "outputs": [],
   "source": [
    "# Impute feature vectors with 0.\n",
    "H.fillna(value=0, inplace=True)"
   ]
  },
  {
   "cell_type": "code",
   "execution_count": 14,
   "metadata": {
    "collapsed": true
   },
   "outputs": [],
   "source": [
    "# Create a set of ML-matchers\n",
    "dt = em.DTMatcher(name='DecisionTree', random_state=0,max_depth=5)\n",
    "svm = em.SVMMatcher(name='SVM', random_state=0)\n",
    "rf = em.RFMatcher(name='RF', random_state=0)\n",
    "lg = em.LogRegMatcher(name='LogReg', random_state=0)\n",
    "ln = em.LinRegMatcher(name='LinReg')\n",
    "nb = em.NBMatcher(name='NaiveBayes')"
   ]
  },
  {
   "cell_type": "code",
   "execution_count": 15,
   "metadata": {
    "collapsed": false
   },
   "outputs": [
    {
     "data": {
      "text/html": [
       "<div>\n",
       "<table border=\"1\" class=\"dataframe\">\n",
       "  <thead>\n",
       "    <tr style=\"text-align: right;\">\n",
       "      <th></th>\n",
       "      <th>Name</th>\n",
       "      <th>Matcher</th>\n",
       "      <th>Num folds</th>\n",
       "      <th>Fold 1</th>\n",
       "      <th>Fold 2</th>\n",
       "      <th>Fold 3</th>\n",
       "      <th>Fold 4</th>\n",
       "      <th>Fold 5</th>\n",
       "      <th>Mean score</th>\n",
       "    </tr>\n",
       "  </thead>\n",
       "  <tbody>\n",
       "    <tr>\n",
       "      <th>0</th>\n",
       "      <td>DecisionTree</td>\n",
       "      <td>&lt;py_entitymatching.matcher.dtmatcher.DTMatcher object at 0x000000000C0BDFD0&gt;</td>\n",
       "      <td>5</td>\n",
       "      <td>0.761905</td>\n",
       "      <td>0.842105</td>\n",
       "      <td>0.809524</td>\n",
       "      <td>0.764706</td>\n",
       "      <td>0.800000</td>\n",
       "      <td>0.795648</td>\n",
       "    </tr>\n",
       "    <tr>\n",
       "      <th>1</th>\n",
       "      <td>RF</td>\n",
       "      <td>&lt;py_entitymatching.matcher.rfmatcher.RFMatcher object at 0x000000000C0BDEB8&gt;</td>\n",
       "      <td>5</td>\n",
       "      <td>0.888889</td>\n",
       "      <td>0.842105</td>\n",
       "      <td>0.850000</td>\n",
       "      <td>0.750000</td>\n",
       "      <td>0.863636</td>\n",
       "      <td>0.838926</td>\n",
       "    </tr>\n",
       "    <tr>\n",
       "      <th>2</th>\n",
       "      <td>SVM</td>\n",
       "      <td>&lt;py_entitymatching.matcher.svmmatcher.SVMMatcher object at 0x000000000C0BDEF0&gt;</td>\n",
       "      <td>5</td>\n",
       "      <td>0.789474</td>\n",
       "      <td>0.750000</td>\n",
       "      <td>0.800000</td>\n",
       "      <td>0.733333</td>\n",
       "      <td>0.941176</td>\n",
       "      <td>0.802797</td>\n",
       "    </tr>\n",
       "    <tr>\n",
       "      <th>3</th>\n",
       "      <td>LinReg</td>\n",
       "      <td>&lt;py_entitymatching.matcher.linregmatcher.LinRegMatcher object at 0x000000000C0BDE48&gt;</td>\n",
       "      <td>5</td>\n",
       "      <td>0.782609</td>\n",
       "      <td>0.708333</td>\n",
       "      <td>0.692308</td>\n",
       "      <td>0.722222</td>\n",
       "      <td>0.760000</td>\n",
       "      <td>0.733094</td>\n",
       "    </tr>\n",
       "    <tr>\n",
       "      <th>4</th>\n",
       "      <td>LogReg</td>\n",
       "      <td>&lt;py_entitymatching.matcher.logregmatcher.LogRegMatcher object at 0x000000000C084FD0&gt;</td>\n",
       "      <td>5</td>\n",
       "      <td>0.789474</td>\n",
       "      <td>0.761905</td>\n",
       "      <td>0.791667</td>\n",
       "      <td>0.764706</td>\n",
       "      <td>0.863636</td>\n",
       "      <td>0.794277</td>\n",
       "    </tr>\n",
       "    <tr>\n",
       "      <th>5</th>\n",
       "      <td>NaiveBayes</td>\n",
       "      <td>&lt;py_entitymatching.matcher.nbmatcher.NBMatcher object at 0x000000000C0BD898&gt;</td>\n",
       "      <td>5</td>\n",
       "      <td>0.782609</td>\n",
       "      <td>0.708333</td>\n",
       "      <td>0.692308</td>\n",
       "      <td>0.764706</td>\n",
       "      <td>0.760000</td>\n",
       "      <td>0.741591</td>\n",
       "    </tr>\n",
       "  </tbody>\n",
       "</table>\n",
       "</div>"
      ],
      "text/plain": [
       "           Name  \\\n",
       "0  DecisionTree   \n",
       "1            RF   \n",
       "2           SVM   \n",
       "3        LinReg   \n",
       "4        LogReg   \n",
       "5    NaiveBayes   \n",
       "\n",
       "                                                                                Matcher  \\\n",
       "0          <py_entitymatching.matcher.dtmatcher.DTMatcher object at 0x000000000C0BDFD0>   \n",
       "1          <py_entitymatching.matcher.rfmatcher.RFMatcher object at 0x000000000C0BDEB8>   \n",
       "2        <py_entitymatching.matcher.svmmatcher.SVMMatcher object at 0x000000000C0BDEF0>   \n",
       "3  <py_entitymatching.matcher.linregmatcher.LinRegMatcher object at 0x000000000C0BDE48>   \n",
       "4  <py_entitymatching.matcher.logregmatcher.LogRegMatcher object at 0x000000000C084FD0>   \n",
       "5          <py_entitymatching.matcher.nbmatcher.NBMatcher object at 0x000000000C0BD898>   \n",
       "\n",
       "   Num folds    Fold 1    Fold 2    Fold 3    Fold 4    Fold 5  Mean score  \n",
       "0          5  0.761905  0.842105  0.809524  0.764706  0.800000    0.795648  \n",
       "1          5  0.888889  0.842105  0.850000  0.750000  0.863636    0.838926  \n",
       "2          5  0.789474  0.750000  0.800000  0.733333  0.941176    0.802797  \n",
       "3          5  0.782609  0.708333  0.692308  0.722222  0.760000    0.733094  \n",
       "4          5  0.789474  0.761905  0.791667  0.764706  0.863636    0.794277  \n",
       "5          5  0.782609  0.708333  0.692308  0.764706  0.760000    0.741591  "
      ]
     },
     "execution_count": 15,
     "metadata": {},
     "output_type": "execute_result"
    }
   ],
   "source": [
    "# Compute precision and select the best ML matcher using CV\n",
    "result_precision = em.select_matcher([dt, rf, svm, ln, lg, nb], table=H, \n",
    "        exclude_attrs=['id', 'ltable_id', 'rtable_id', 'gold_label'],\n",
    "        k=5,\n",
    "        target_attr='gold_label', metric='precision', random_state=0)\n",
    "\n",
    "result_precision['cv_stats']"
   ]
  },
  {
   "cell_type": "code",
   "execution_count": 16,
   "metadata": {
    "collapsed": false
   },
   "outputs": [
    {
     "data": {
      "text/html": [
       "<div>\n",
       "<table border=\"1\" class=\"dataframe\">\n",
       "  <thead>\n",
       "    <tr style=\"text-align: right;\">\n",
       "      <th></th>\n",
       "      <th>Name</th>\n",
       "      <th>Matcher</th>\n",
       "      <th>Num folds</th>\n",
       "      <th>Fold 1</th>\n",
       "      <th>Fold 2</th>\n",
       "      <th>Fold 3</th>\n",
       "      <th>Fold 4</th>\n",
       "      <th>Fold 5</th>\n",
       "      <th>Mean score</th>\n",
       "    </tr>\n",
       "  </thead>\n",
       "  <tbody>\n",
       "    <tr>\n",
       "      <th>0</th>\n",
       "      <td>DecisionTree</td>\n",
       "      <td>&lt;py_entitymatching.matcher.dtmatcher.DTMatcher object at 0x000000000C0BDFD0&gt;</td>\n",
       "      <td>5</td>\n",
       "      <td>0.888889</td>\n",
       "      <td>0.888889</td>\n",
       "      <td>0.85</td>\n",
       "      <td>0.866667</td>\n",
       "      <td>0.952381</td>\n",
       "      <td>0.889365</td>\n",
       "    </tr>\n",
       "    <tr>\n",
       "      <th>1</th>\n",
       "      <td>RF</td>\n",
       "      <td>&lt;py_entitymatching.matcher.rfmatcher.RFMatcher object at 0x000000000C0BDEB8&gt;</td>\n",
       "      <td>5</td>\n",
       "      <td>0.888889</td>\n",
       "      <td>0.888889</td>\n",
       "      <td>0.85</td>\n",
       "      <td>0.800000</td>\n",
       "      <td>0.904762</td>\n",
       "      <td>0.866508</td>\n",
       "    </tr>\n",
       "    <tr>\n",
       "      <th>2</th>\n",
       "      <td>SVM</td>\n",
       "      <td>&lt;py_entitymatching.matcher.svmmatcher.SVMMatcher object at 0x000000000C0BDEF0&gt;</td>\n",
       "      <td>5</td>\n",
       "      <td>0.833333</td>\n",
       "      <td>0.833333</td>\n",
       "      <td>0.80</td>\n",
       "      <td>0.733333</td>\n",
       "      <td>0.761905</td>\n",
       "      <td>0.792381</td>\n",
       "    </tr>\n",
       "    <tr>\n",
       "      <th>3</th>\n",
       "      <td>LinReg</td>\n",
       "      <td>&lt;py_entitymatching.matcher.linregmatcher.LinRegMatcher object at 0x000000000C0BDE48&gt;</td>\n",
       "      <td>5</td>\n",
       "      <td>1.000000</td>\n",
       "      <td>0.944444</td>\n",
       "      <td>0.90</td>\n",
       "      <td>0.866667</td>\n",
       "      <td>0.904762</td>\n",
       "      <td>0.923175</td>\n",
       "    </tr>\n",
       "    <tr>\n",
       "      <th>4</th>\n",
       "      <td>LogReg</td>\n",
       "      <td>&lt;py_entitymatching.matcher.logregmatcher.LogRegMatcher object at 0x000000000C084FD0&gt;</td>\n",
       "      <td>5</td>\n",
       "      <td>0.833333</td>\n",
       "      <td>0.888889</td>\n",
       "      <td>0.95</td>\n",
       "      <td>0.866667</td>\n",
       "      <td>0.904762</td>\n",
       "      <td>0.888730</td>\n",
       "    </tr>\n",
       "    <tr>\n",
       "      <th>5</th>\n",
       "      <td>NaiveBayes</td>\n",
       "      <td>&lt;py_entitymatching.matcher.nbmatcher.NBMatcher object at 0x000000000C0BD898&gt;</td>\n",
       "      <td>5</td>\n",
       "      <td>1.000000</td>\n",
       "      <td>0.944444</td>\n",
       "      <td>0.90</td>\n",
       "      <td>0.866667</td>\n",
       "      <td>0.904762</td>\n",
       "      <td>0.923175</td>\n",
       "    </tr>\n",
       "  </tbody>\n",
       "</table>\n",
       "</div>"
      ],
      "text/plain": [
       "           Name  \\\n",
       "0  DecisionTree   \n",
       "1            RF   \n",
       "2           SVM   \n",
       "3        LinReg   \n",
       "4        LogReg   \n",
       "5    NaiveBayes   \n",
       "\n",
       "                                                                                Matcher  \\\n",
       "0          <py_entitymatching.matcher.dtmatcher.DTMatcher object at 0x000000000C0BDFD0>   \n",
       "1          <py_entitymatching.matcher.rfmatcher.RFMatcher object at 0x000000000C0BDEB8>   \n",
       "2        <py_entitymatching.matcher.svmmatcher.SVMMatcher object at 0x000000000C0BDEF0>   \n",
       "3  <py_entitymatching.matcher.linregmatcher.LinRegMatcher object at 0x000000000C0BDE48>   \n",
       "4  <py_entitymatching.matcher.logregmatcher.LogRegMatcher object at 0x000000000C084FD0>   \n",
       "5          <py_entitymatching.matcher.nbmatcher.NBMatcher object at 0x000000000C0BD898>   \n",
       "\n",
       "   Num folds    Fold 1    Fold 2  Fold 3    Fold 4    Fold 5  Mean score  \n",
       "0          5  0.888889  0.888889    0.85  0.866667  0.952381    0.889365  \n",
       "1          5  0.888889  0.888889    0.85  0.800000  0.904762    0.866508  \n",
       "2          5  0.833333  0.833333    0.80  0.733333  0.761905    0.792381  \n",
       "3          5  1.000000  0.944444    0.90  0.866667  0.904762    0.923175  \n",
       "4          5  0.833333  0.888889    0.95  0.866667  0.904762    0.888730  \n",
       "5          5  1.000000  0.944444    0.90  0.866667  0.904762    0.923175  "
      ]
     },
     "execution_count": 16,
     "metadata": {},
     "output_type": "execute_result"
    }
   ],
   "source": [
    "result_recall = em.select_matcher([dt, rf, svm, ln, lg, nb], table=H, \n",
    "        exclude_attrs=['id', 'ltable_id', 'rtable_id', 'gold_label'],\n",
    "        k=5,\n",
    "        target_attr='gold_label', metric='recall', random_state=0)\n",
    "result_recall['cv_stats']"
   ]
  },
  {
   "cell_type": "code",
   "execution_count": 17,
   "metadata": {
    "collapsed": false
   },
   "outputs": [
    {
     "data": {
      "text/html": [
       "<div>\n",
       "<table border=\"1\" class=\"dataframe\">\n",
       "  <thead>\n",
       "    <tr style=\"text-align: right;\">\n",
       "      <th></th>\n",
       "      <th>Name</th>\n",
       "      <th>Matcher</th>\n",
       "      <th>Num folds</th>\n",
       "      <th>Fold 1</th>\n",
       "      <th>Fold 2</th>\n",
       "      <th>Fold 3</th>\n",
       "      <th>Fold 4</th>\n",
       "      <th>Fold 5</th>\n",
       "      <th>Mean score</th>\n",
       "    </tr>\n",
       "  </thead>\n",
       "  <tbody>\n",
       "    <tr>\n",
       "      <th>0</th>\n",
       "      <td>DecisionTree</td>\n",
       "      <td>&lt;py_entitymatching.matcher.dtmatcher.DTMatcher object at 0x000000000C0BDFD0&gt;</td>\n",
       "      <td>5</td>\n",
       "      <td>0.820513</td>\n",
       "      <td>0.864865</td>\n",
       "      <td>0.829268</td>\n",
       "      <td>0.812500</td>\n",
       "      <td>0.869565</td>\n",
       "      <td>0.839342</td>\n",
       "    </tr>\n",
       "    <tr>\n",
       "      <th>1</th>\n",
       "      <td>RF</td>\n",
       "      <td>&lt;py_entitymatching.matcher.rfmatcher.RFMatcher object at 0x000000000C0BDEB8&gt;</td>\n",
       "      <td>5</td>\n",
       "      <td>0.888889</td>\n",
       "      <td>0.864865</td>\n",
       "      <td>0.850000</td>\n",
       "      <td>0.774194</td>\n",
       "      <td>0.883721</td>\n",
       "      <td>0.852334</td>\n",
       "    </tr>\n",
       "    <tr>\n",
       "      <th>2</th>\n",
       "      <td>SVM</td>\n",
       "      <td>&lt;py_entitymatching.matcher.svmmatcher.SVMMatcher object at 0x000000000C0BDEF0&gt;</td>\n",
       "      <td>5</td>\n",
       "      <td>0.810811</td>\n",
       "      <td>0.789474</td>\n",
       "      <td>0.800000</td>\n",
       "      <td>0.733333</td>\n",
       "      <td>0.842105</td>\n",
       "      <td>0.795145</td>\n",
       "    </tr>\n",
       "    <tr>\n",
       "      <th>3</th>\n",
       "      <td>LinReg</td>\n",
       "      <td>&lt;py_entitymatching.matcher.linregmatcher.LinRegMatcher object at 0x000000000C0BDE48&gt;</td>\n",
       "      <td>5</td>\n",
       "      <td>0.878049</td>\n",
       "      <td>0.809524</td>\n",
       "      <td>0.782609</td>\n",
       "      <td>0.787879</td>\n",
       "      <td>0.826087</td>\n",
       "      <td>0.816829</td>\n",
       "    </tr>\n",
       "    <tr>\n",
       "      <th>4</th>\n",
       "      <td>LogReg</td>\n",
       "      <td>&lt;py_entitymatching.matcher.logregmatcher.LogRegMatcher object at 0x000000000C084FD0&gt;</td>\n",
       "      <td>5</td>\n",
       "      <td>0.810811</td>\n",
       "      <td>0.820513</td>\n",
       "      <td>0.863636</td>\n",
       "      <td>0.812500</td>\n",
       "      <td>0.883721</td>\n",
       "      <td>0.838236</td>\n",
       "    </tr>\n",
       "    <tr>\n",
       "      <th>5</th>\n",
       "      <td>NaiveBayes</td>\n",
       "      <td>&lt;py_entitymatching.matcher.nbmatcher.NBMatcher object at 0x000000000C0BD898&gt;</td>\n",
       "      <td>5</td>\n",
       "      <td>0.878049</td>\n",
       "      <td>0.809524</td>\n",
       "      <td>0.782609</td>\n",
       "      <td>0.812500</td>\n",
       "      <td>0.826087</td>\n",
       "      <td>0.821754</td>\n",
       "    </tr>\n",
       "  </tbody>\n",
       "</table>\n",
       "</div>"
      ],
      "text/plain": [
       "           Name  \\\n",
       "0  DecisionTree   \n",
       "1            RF   \n",
       "2           SVM   \n",
       "3        LinReg   \n",
       "4        LogReg   \n",
       "5    NaiveBayes   \n",
       "\n",
       "                                                                                Matcher  \\\n",
       "0          <py_entitymatching.matcher.dtmatcher.DTMatcher object at 0x000000000C0BDFD0>   \n",
       "1          <py_entitymatching.matcher.rfmatcher.RFMatcher object at 0x000000000C0BDEB8>   \n",
       "2        <py_entitymatching.matcher.svmmatcher.SVMMatcher object at 0x000000000C0BDEF0>   \n",
       "3  <py_entitymatching.matcher.linregmatcher.LinRegMatcher object at 0x000000000C0BDE48>   \n",
       "4  <py_entitymatching.matcher.logregmatcher.LogRegMatcher object at 0x000000000C084FD0>   \n",
       "5          <py_entitymatching.matcher.nbmatcher.NBMatcher object at 0x000000000C0BD898>   \n",
       "\n",
       "   Num folds    Fold 1    Fold 2    Fold 3    Fold 4    Fold 5  Mean score  \n",
       "0          5  0.820513  0.864865  0.829268  0.812500  0.869565    0.839342  \n",
       "1          5  0.888889  0.864865  0.850000  0.774194  0.883721    0.852334  \n",
       "2          5  0.810811  0.789474  0.800000  0.733333  0.842105    0.795145  \n",
       "3          5  0.878049  0.809524  0.782609  0.787879  0.826087    0.816829  \n",
       "4          5  0.810811  0.820513  0.863636  0.812500  0.883721    0.838236  \n",
       "5          5  0.878049  0.809524  0.782609  0.812500  0.826087    0.821754  "
      ]
     },
     "execution_count": 17,
     "metadata": {},
     "output_type": "execute_result"
    }
   ],
   "source": [
    "result_f1 = em.select_matcher([dt, rf, svm, ln, lg, nb], table=H, \n",
    "        exclude_attrs=['id', 'ltable_id', 'rtable_id', 'gold_label'],\n",
    "        k=5,\n",
    "        target_attr='gold_label', metric='f1', random_state=0)\n",
    "result_f1['cv_stats']"
   ]
  },
  {
   "cell_type": "code",
   "execution_count": 18,
   "metadata": {
    "collapsed": true
   },
   "outputs": [],
   "source": [
    "#Debug Random Forest Matcher X\n",
    "# Split H into P and Q\n",
    "PQ = em.split_train_test(H, train_proportion=0.5, random_state=0)\n",
    "P = PQ['train']\n",
    "Q = PQ['test']"
   ]
  },
  {
   "cell_type": "code",
   "execution_count": 19,
   "metadata": {
    "collapsed": true
   },
   "outputs": [],
   "source": [
    "# Debug X using GUI\n",
    "em.vis_debug_rf(rf, P, Q, \n",
    "        exclude_attrs=['id', 'ltable_id', 'rtable_id', 'gold_label'],\n",
    "        target_attr='gold_label')"
   ]
  },
  {
   "cell_type": "code",
   "execution_count": 24,
   "metadata": {
    "collapsed": false
   },
   "outputs": [
    {
     "name": "stdout",
     "output_type": "stream",
     "text": [
      "0        movie_title_movie_title_jac_qgm_3_qgm_3\n",
      "1    movie_title_movie_title_cos_dlm_dc0_dlm_dc0\n",
      "2    movie_title_movie_title_jac_dlm_dc0_dlm_dc0\n",
      "3                    movie_title_movie_title_mel\n",
      "4               movie_title_movie_title_lev_dist\n",
      "5                movie_title_movie_title_lev_sim\n",
      "6                    movie_title_movie_title_nmw\n",
      "7                     movie_title_movie_title_sw\n",
      "Name: feature_name, dtype: object\n"
     ]
    }
   ],
   "source": [
    "print(F.feature_name)\n"
   ]
  },
  {
   "cell_type": "code",
   "execution_count": 37,
   "metadata": {
    "collapsed": false
   },
   "outputs": [
    {
     "data": {
      "text/html": [
       "<div>\n",
       "<table border=\"1\" class=\"dataframe\">\n",
       "  <thead>\n",
       "    <tr style=\"text-align: right;\">\n",
       "      <th></th>\n",
       "      <th>id</th>\n",
       "      <th>ltable_id</th>\n",
       "      <th>rtable_id</th>\n",
       "      <th>ltable_movie_title</th>\n",
       "      <th>ltable_year</th>\n",
       "      <th>rtable_movie_title</th>\n",
       "      <th>rtable_year</th>\n",
       "      <th>gold_label</th>\n",
       "    </tr>\n",
       "  </thead>\n",
       "  <tbody>\n",
       "    <tr>\n",
       "      <th>0</th>\n",
       "      <td>32</td>\n",
       "      <td>592.0</td>\n",
       "      <td>571847.0</td>\n",
       "      <td>prison break</td>\n",
       "      <td>[2005, 1978]</td>\n",
       "      <td>prison break</td>\n",
       "      <td>2008.0</td>\n",
       "      <td>0</td>\n",
       "    </tr>\n",
       "    <tr>\n",
       "      <th>1</th>\n",
       "      <td>33</td>\n",
       "      <td>3476.0</td>\n",
       "      <td>571847.0</td>\n",
       "      <td>prison break</td>\n",
       "      <td>2005</td>\n",
       "      <td>prison break</td>\n",
       "      <td>2008.0</td>\n",
       "      <td>0</td>\n",
       "    </tr>\n",
       "    <tr>\n",
       "      <th>2</th>\n",
       "      <td>34</td>\n",
       "      <td>2365.0</td>\n",
       "      <td>828790.0</td>\n",
       "      <td>las vegas</td>\n",
       "      <td>[2003, 1963]</td>\n",
       "      <td>viva las vegas</td>\n",
       "      <td>1964.0</td>\n",
       "      <td>0</td>\n",
       "    </tr>\n",
       "    <tr>\n",
       "      <th>3</th>\n",
       "      <td>37</td>\n",
       "      <td>1450.0</td>\n",
       "      <td>828790.0</td>\n",
       "      <td>las vegas</td>\n",
       "      <td>[2003, 1963]</td>\n",
       "      <td>viva las vegas</td>\n",
       "      <td>1964.0</td>\n",
       "      <td>0</td>\n",
       "    </tr>\n",
       "    <tr>\n",
       "      <th>4</th>\n",
       "      <td>40</td>\n",
       "      <td>307.0</td>\n",
       "      <td>53603.0</td>\n",
       "      <td>an american tail: fievel goes west</td>\n",
       "      <td>1991</td>\n",
       "      <td>an american tail: fievel goes west</td>\n",
       "      <td>1991.0</td>\n",
       "      <td>0</td>\n",
       "    </tr>\n",
       "  </tbody>\n",
       "</table>\n",
       "</div>"
      ],
      "text/plain": [
       "   id  ltable_id  rtable_id                  ltable_movie_title   ltable_year  \\\n",
       "0  32      592.0   571847.0                        prison break  [2005, 1978]   \n",
       "1  33     3476.0   571847.0                        prison break          2005   \n",
       "2  34     2365.0   828790.0                           las vegas  [2003, 1963]   \n",
       "3  37     1450.0   828790.0                           las vegas  [2003, 1963]   \n",
       "4  40      307.0    53603.0  an american tail: fievel goes west          1991   \n",
       "\n",
       "                   rtable_movie_title  rtable_year  gold_label  \n",
       "0                        prison break       2008.0           0  \n",
       "1                        prison break       2008.0           0  \n",
       "2                      viva las vegas       1964.0           0  \n",
       "3                      viva las vegas       1964.0           0  \n",
       "4  an american tail: fievel goes west       1991.0           0  "
      ]
     },
     "execution_count": 37,
     "metadata": {},
     "output_type": "execute_result"
    }
   ],
   "source": [
    "# Evaluate matching output\n",
    "# Convert movies dataset after blocking  into a set of feature vectors using feature table\n",
    "K = em.read_csv_metadata('movie_dataset_after_blocking.csv',key='id', low_memory=False, ltable = A, rtable = B, fk_ltable = 'ltable_id', fk_rtable = 'rtable_id')\n",
    "K['gold_label'] = 0\n",
    "K.head()"
   ]
  },
  {
   "cell_type": "code",
   "execution_count": 38,
   "metadata": {
    "collapsed": false
   },
   "outputs": [],
   "source": [
    "L = em.extract_feature_vecs(K, feature_table=F, attrs_after='gold_label', show_progress=False)"
   ]
  },
  {
   "cell_type": "code",
   "execution_count": 40,
   "metadata": {
    "collapsed": false
   },
   "outputs": [
    {
     "name": "stdout",
     "output_type": "stream",
     "text": [
      "Precision : 0.0% (0/430)\n",
      "Recall : 0.0% (0/0)\n",
      "F1 : 0.0%\n",
      "False positives : 430 (out of 430 positive predictions)\n",
      "False negatives : 0 (out of 814 negative predictions)\n"
     ]
    }
   ],
   "source": [
    "# Train using feature vectors from I using random forest\n",
    "rf.fit(table=H, \n",
    "       exclude_attrs=['id', 'ltable_id', 'rtable_id', 'gold_label'], \n",
    "       target_attr='gold_label')\n",
    "# Predict on L \n",
    "predictions_rf = rf.predict(table=L, exclude_attrs=['id', 'ltable_id', 'rtable_id', 'gold_label'], \n",
    "                         append=True,target_attr='predicted_rf_labels')\n",
    "# Evaluate the predictions\n",
    "eval_result = em.eval_matches(predictions_rf, 'gold_label', 'predicted_rf_labels')\n",
    "em.print_eval_summary(eval_result)"
   ]
  },
  {
   "cell_type": "code",
   "execution_count": 41,
   "metadata": {
    "collapsed": false
   },
   "outputs": [
    {
     "data": {
      "text/html": [
       "<div>\n",
       "<table border=\"1\" class=\"dataframe\">\n",
       "  <thead>\n",
       "    <tr style=\"text-align: right;\">\n",
       "      <th></th>\n",
       "      <th>id</th>\n",
       "      <th>ltable_id</th>\n",
       "      <th>rtable_id</th>\n",
       "      <th>movie_title_movie_title_jac_qgm_3_qgm_3</th>\n",
       "      <th>movie_title_movie_title_cos_dlm_dc0_dlm_dc0</th>\n",
       "      <th>movie_title_movie_title_jac_dlm_dc0_dlm_dc0</th>\n",
       "      <th>movie_title_movie_title_mel</th>\n",
       "      <th>movie_title_movie_title_lev_dist</th>\n",
       "      <th>movie_title_movie_title_lev_sim</th>\n",
       "      <th>movie_title_movie_title_nmw</th>\n",
       "      <th>movie_title_movie_title_sw</th>\n",
       "      <th>gold_label</th>\n",
       "      <th>predicted_rf_labels</th>\n",
       "    </tr>\n",
       "  </thead>\n",
       "  <tbody>\n",
       "    <tr>\n",
       "      <th>0</th>\n",
       "      <td>32</td>\n",
       "      <td>592.0</td>\n",
       "      <td>571847.0</td>\n",
       "      <td>1.0</td>\n",
       "      <td>1.000000</td>\n",
       "      <td>1.000000</td>\n",
       "      <td>1.000000</td>\n",
       "      <td>0.0</td>\n",
       "      <td>1.000000</td>\n",
       "      <td>12.0</td>\n",
       "      <td>12.0</td>\n",
       "      <td>0</td>\n",
       "      <td>1</td>\n",
       "    </tr>\n",
       "    <tr>\n",
       "      <th>1</th>\n",
       "      <td>33</td>\n",
       "      <td>3476.0</td>\n",
       "      <td>571847.0</td>\n",
       "      <td>1.0</td>\n",
       "      <td>1.000000</td>\n",
       "      <td>1.000000</td>\n",
       "      <td>1.000000</td>\n",
       "      <td>0.0</td>\n",
       "      <td>1.000000</td>\n",
       "      <td>12.0</td>\n",
       "      <td>12.0</td>\n",
       "      <td>0</td>\n",
       "      <td>1</td>\n",
       "    </tr>\n",
       "    <tr>\n",
       "      <th>2</th>\n",
       "      <td>34</td>\n",
       "      <td>2365.0</td>\n",
       "      <td>828790.0</td>\n",
       "      <td>0.5</td>\n",
       "      <td>0.816497</td>\n",
       "      <td>0.666667</td>\n",
       "      <td>0.769841</td>\n",
       "      <td>5.0</td>\n",
       "      <td>0.642857</td>\n",
       "      <td>4.0</td>\n",
       "      <td>9.0</td>\n",
       "      <td>0</td>\n",
       "      <td>0</td>\n",
       "    </tr>\n",
       "    <tr>\n",
       "      <th>3</th>\n",
       "      <td>37</td>\n",
       "      <td>1450.0</td>\n",
       "      <td>828790.0</td>\n",
       "      <td>0.5</td>\n",
       "      <td>0.816497</td>\n",
       "      <td>0.666667</td>\n",
       "      <td>0.769841</td>\n",
       "      <td>5.0</td>\n",
       "      <td>0.642857</td>\n",
       "      <td>4.0</td>\n",
       "      <td>9.0</td>\n",
       "      <td>0</td>\n",
       "      <td>0</td>\n",
       "    </tr>\n",
       "    <tr>\n",
       "      <th>4</th>\n",
       "      <td>40</td>\n",
       "      <td>307.0</td>\n",
       "      <td>53603.0</td>\n",
       "      <td>1.0</td>\n",
       "      <td>1.000000</td>\n",
       "      <td>1.000000</td>\n",
       "      <td>1.000000</td>\n",
       "      <td>0.0</td>\n",
       "      <td>1.000000</td>\n",
       "      <td>34.0</td>\n",
       "      <td>34.0</td>\n",
       "      <td>0</td>\n",
       "      <td>1</td>\n",
       "    </tr>\n",
       "  </tbody>\n",
       "</table>\n",
       "</div>"
      ],
      "text/plain": [
       "   id  ltable_id  rtable_id  movie_title_movie_title_jac_qgm_3_qgm_3  \\\n",
       "0  32      592.0   571847.0                                      1.0   \n",
       "1  33     3476.0   571847.0                                      1.0   \n",
       "2  34     2365.0   828790.0                                      0.5   \n",
       "3  37     1450.0   828790.0                                      0.5   \n",
       "4  40      307.0    53603.0                                      1.0   \n",
       "\n",
       "   movie_title_movie_title_cos_dlm_dc0_dlm_dc0  \\\n",
       "0                                     1.000000   \n",
       "1                                     1.000000   \n",
       "2                                     0.816497   \n",
       "3                                     0.816497   \n",
       "4                                     1.000000   \n",
       "\n",
       "   movie_title_movie_title_jac_dlm_dc0_dlm_dc0  movie_title_movie_title_mel  \\\n",
       "0                                     1.000000                     1.000000   \n",
       "1                                     1.000000                     1.000000   \n",
       "2                                     0.666667                     0.769841   \n",
       "3                                     0.666667                     0.769841   \n",
       "4                                     1.000000                     1.000000   \n",
       "\n",
       "   movie_title_movie_title_lev_dist  movie_title_movie_title_lev_sim  \\\n",
       "0                               0.0                         1.000000   \n",
       "1                               0.0                         1.000000   \n",
       "2                               5.0                         0.642857   \n",
       "3                               5.0                         0.642857   \n",
       "4                               0.0                         1.000000   \n",
       "\n",
       "   movie_title_movie_title_nmw  movie_title_movie_title_sw  gold_label  \\\n",
       "0                         12.0                        12.0           0   \n",
       "1                         12.0                        12.0           0   \n",
       "2                          4.0                         9.0           0   \n",
       "3                          4.0                         9.0           0   \n",
       "4                         34.0                        34.0           0   \n",
       "\n",
       "   predicted_rf_labels  \n",
       "0                    1  \n",
       "1                    1  \n",
       "2                    0  \n",
       "3                    0  \n",
       "4                    1  "
      ]
     },
     "execution_count": 41,
     "metadata": {},
     "output_type": "execute_result"
    }
   ],
   "source": [
    "predictions_rf.head()"
   ]
  },
  {
   "cell_type": "code",
   "execution_count": 44,
   "metadata": {
    "collapsed": false
   },
   "outputs": [],
   "source": [
    "predictions_rf = predictions_rf[predictions_rf['predicted_rf_labels']==1]\n",
    "predicted_matches = predictions_rf[['id','ltable_id','rtable_id']]\n",
    "predicted_matches.to_csv('predicted_matches_for_movies_dataset.csv',index=False,sep = ',')"
   ]
  },
  {
   "cell_type": "code",
   "execution_count": 46,
   "metadata": {
    "collapsed": false
   },
   "outputs": [
    {
     "data": {
      "text/plain": [
       "(414, 296)"
      ]
     },
     "execution_count": 46,
     "metadata": {},
     "output_type": "execute_result"
    }
   ],
   "source": [
    "# filtering the matched tuples from both dataset \n",
    "matchedSongsTracks = A[A['id'].isin(list(predicted_matches['ltable_id']))]\n",
    "matchedMovies = B[B['id'].isin(list(predicted_matches['rtable_id']))]\n",
    "\n",
    "#assert(len(matchedTracks)==len(matchedSongs))\n",
    "len(matchedSongsTracks), len(matchedMovies)"
   ]
  },
  {
   "cell_type": "code",
   "execution_count": 48,
   "metadata": {
    "collapsed": false
   },
   "outputs": [
    {
     "data": {
      "text/plain": [
       "(414, 296, 430)"
      ]
     },
     "execution_count": 48,
     "metadata": {},
     "output_type": "execute_result"
    }
   ],
   "source": [
    "len(set(predicted_matches['ltable_id'])), len(set(predicted_matches['rtable_id'])), len(predicted_matches)"
   ]
  },
  {
   "cell_type": "code",
   "execution_count": 49,
   "metadata": {
    "collapsed": false
   },
   "outputs": [
    {
     "data": {
      "text/html": [
       "<div>\n",
       "<table border=\"1\" class=\"dataframe\">\n",
       "  <thead>\n",
       "    <tr style=\"text-align: right;\">\n",
       "      <th></th>\n",
       "      <th>movie_title</th>\n",
       "      <th>year</th>\n",
       "      <th>episode</th>\n",
       "      <th>song_title</th>\n",
       "      <th>artists</th>\n",
       "      <th>song_id</th>\n",
       "      <th>track_id</th>\n",
       "      <th>id</th>\n",
       "    </tr>\n",
       "  </thead>\n",
       "  <tbody>\n",
       "    <tr>\n",
       "      <th>6</th>\n",
       "      <td>you cant hurry love</td>\n",
       "      <td>1988</td>\n",
       "      <td>NaN</td>\n",
       "      <td>you can't hurry love  (lp version)</td>\n",
       "      <td>eddie holland+lamont dozier+brian holland+phil collins+arrangement with warner special products</td>\n",
       "      <td>36942.0</td>\n",
       "      <td>729825.0</td>\n",
       "      <td>6</td>\n",
       "    </tr>\n",
       "    <tr>\n",
       "      <th>11</th>\n",
       "      <td>the good shepherd</td>\n",
       "      <td>[2006, 1998]</td>\n",
       "      <td>NaN</td>\n",
       "      <td>the whiffenpoof song (baa! baa! baa!)</td>\n",
       "      <td>george s. pomeroy+meade minnigerode+tod b. galloway+rev. by rudy vallee</td>\n",
       "      <td>712029.0</td>\n",
       "      <td>662614.0</td>\n",
       "      <td>11</td>\n",
       "    </tr>\n",
       "    <tr>\n",
       "      <th>17</th>\n",
       "      <td>the bleeding</td>\n",
       "      <td>[2011, 2008]</td>\n",
       "      <td>NaN</td>\n",
       "      <td>and it's alright</td>\n",
       "      <td>peter broderick</td>\n",
       "      <td>892960.0</td>\n",
       "      <td>649958.0</td>\n",
       "      <td>17</td>\n",
       "    </tr>\n",
       "    <tr>\n",
       "      <th>35</th>\n",
       "      <td>perkele! kuvia suomesta</td>\n",
       "      <td>1971</td>\n",
       "      <td>NaN</td>\n",
       "      <td>laulu nesteest�</td>\n",
       "      <td>m.a. numminen</td>\n",
       "      <td>532624.0</td>\n",
       "      <td>574812.0</td>\n",
       "      <td>35</td>\n",
       "    </tr>\n",
       "    <tr>\n",
       "      <th>39</th>\n",
       "      <td>the 40 year old virgin</td>\n",
       "      <td>[2005, 1988]</td>\n",
       "      <td>NaN</td>\n",
       "      <td>push it</td>\n",
       "      <td>hurby luv bug azor+ray davies+salt-n-pepa</td>\n",
       "      <td>733866.0</td>\n",
       "      <td>644175.0</td>\n",
       "      <td>39</td>\n",
       "    </tr>\n",
       "  </tbody>\n",
       "</table>\n",
       "</div>"
      ],
      "text/plain": [
       "                movie_title          year episode  \\\n",
       "6       you cant hurry love          1988     NaN   \n",
       "11        the good shepherd  [2006, 1998]     NaN   \n",
       "17             the bleeding  [2011, 2008]     NaN   \n",
       "35  perkele! kuvia suomesta          1971     NaN   \n",
       "39   the 40 year old virgin  [2005, 1988]     NaN   \n",
       "\n",
       "                               song_title  \\\n",
       "6      you can't hurry love  (lp version)   \n",
       "11  the whiffenpoof song (baa! baa! baa!)   \n",
       "17                       and it's alright   \n",
       "35                        laulu nesteest�   \n",
       "39                                push it   \n",
       "\n",
       "                                                                                            artists  \\\n",
       "6   eddie holland+lamont dozier+brian holland+phil collins+arrangement with warner special products   \n",
       "11                          george s. pomeroy+meade minnigerode+tod b. galloway+rev. by rudy vallee   \n",
       "17                                                                                  peter broderick   \n",
       "35                                                                                    m.a. numminen   \n",
       "39                                                        hurby luv bug azor+ray davies+salt-n-pepa   \n",
       "\n",
       "     song_id  track_id  id  \n",
       "6    36942.0  729825.0   6  \n",
       "11  712029.0  662614.0  11  \n",
       "17  892960.0  649958.0  17  \n",
       "35  532624.0  574812.0  35  \n",
       "39  733866.0  644175.0  39  "
      ]
     },
     "execution_count": 49,
     "metadata": {},
     "output_type": "execute_result"
    }
   ],
   "source": [
    "matchedSongsTracks.head()"
   ]
  },
  {
   "cell_type": "code",
   "execution_count": 50,
   "metadata": {
    "collapsed": false
   },
   "outputs": [
    {
     "data": {
      "text/html": [
       "<div>\n",
       "<table border=\"1\" class=\"dataframe\">\n",
       "  <thead>\n",
       "    <tr style=\"text-align: right;\">\n",
       "      <th></th>\n",
       "      <th>id</th>\n",
       "      <th>movie_title</th>\n",
       "      <th>year</th>\n",
       "      <th>length</th>\n",
       "      <th>budget</th>\n",
       "      <th>rating</th>\n",
       "      <th>votes</th>\n",
       "      <th>r1</th>\n",
       "      <th>r2</th>\n",
       "      <th>r3</th>\n",
       "      <th>...</th>\n",
       "      <th>r9</th>\n",
       "      <th>r10</th>\n",
       "      <th>mpaa</th>\n",
       "      <th>Action</th>\n",
       "      <th>Animation</th>\n",
       "      <th>Comedy</th>\n",
       "      <th>Drama</th>\n",
       "      <th>Documentary</th>\n",
       "      <th>Romance</th>\n",
       "      <th>Short</th>\n",
       "    </tr>\n",
       "  </thead>\n",
       "  <tbody>\n",
       "    <tr>\n",
       "      <th>460</th>\n",
       "      <td>571847</td>\n",
       "      <td>prison break</td>\n",
       "      <td>2008</td>\n",
       "      <td>NaN</td>\n",
       "      <td>NaN</td>\n",
       "      <td>8.4</td>\n",
       "      <td>103.0</td>\n",
       "      <td>4.5</td>\n",
       "      <td>4.5</td>\n",
       "      <td>4.5</td>\n",
       "      <td>...</td>\n",
       "      <td>24.5</td>\n",
       "      <td>34.5</td>\n",
       "      <td>NaN</td>\n",
       "      <td>0</td>\n",
       "      <td>0</td>\n",
       "      <td>1</td>\n",
       "      <td>0</td>\n",
       "      <td>0</td>\n",
       "      <td>0</td>\n",
       "      <td>1</td>\n",
       "    </tr>\n",
       "    <tr>\n",
       "      <th>557</th>\n",
       "      <td>53603</td>\n",
       "      <td>an american tail: fievel goes west</td>\n",
       "      <td>1991</td>\n",
       "      <td>75.0</td>\n",
       "      <td>NaN</td>\n",
       "      <td>6.4</td>\n",
       "      <td>17349.0</td>\n",
       "      <td>4.5</td>\n",
       "      <td>4.5</td>\n",
       "      <td>4.5</td>\n",
       "      <td>...</td>\n",
       "      <td>4.5</td>\n",
       "      <td>4.5</td>\n",
       "      <td>NaN</td>\n",
       "      <td>0</td>\n",
       "      <td>1</td>\n",
       "      <td>0</td>\n",
       "      <td>0</td>\n",
       "      <td>0</td>\n",
       "      <td>0</td>\n",
       "      <td>0</td>\n",
       "    </tr>\n",
       "    <tr>\n",
       "      <th>1154</th>\n",
       "      <td>700054</td>\n",
       "      <td>the boys are back</td>\n",
       "      <td>2009</td>\n",
       "      <td>104.0</td>\n",
       "      <td>NaN</td>\n",
       "      <td>6.8</td>\n",
       "      <td>8859.0</td>\n",
       "      <td>4.5</td>\n",
       "      <td>4.5</td>\n",
       "      <td>4.5</td>\n",
       "      <td>...</td>\n",
       "      <td>4.5</td>\n",
       "      <td>4.5</td>\n",
       "      <td>pg-13</td>\n",
       "      <td>0</td>\n",
       "      <td>0</td>\n",
       "      <td>0</td>\n",
       "      <td>1</td>\n",
       "      <td>0</td>\n",
       "      <td>0</td>\n",
       "      <td>0</td>\n",
       "    </tr>\n",
       "    <tr>\n",
       "      <th>1432</th>\n",
       "      <td>407456</td>\n",
       "      <td>lantana</td>\n",
       "      <td>2001</td>\n",
       "      <td>121.0</td>\n",
       "      <td>NaN</td>\n",
       "      <td>7.4</td>\n",
       "      <td>16548.0</td>\n",
       "      <td>4.5</td>\n",
       "      <td>4.5</td>\n",
       "      <td>4.5</td>\n",
       "      <td>...</td>\n",
       "      <td>14.5</td>\n",
       "      <td>14.5</td>\n",
       "      <td>r</td>\n",
       "      <td>0</td>\n",
       "      <td>0</td>\n",
       "      <td>0</td>\n",
       "      <td>1</td>\n",
       "      <td>0</td>\n",
       "      <td>1</td>\n",
       "      <td>0</td>\n",
       "    </tr>\n",
       "    <tr>\n",
       "      <th>2409</th>\n",
       "      <td>833034</td>\n",
       "      <td>wake</td>\n",
       "      <td>2003</td>\n",
       "      <td>90.0</td>\n",
       "      <td>NaN</td>\n",
       "      <td>6.9</td>\n",
       "      <td>348.0</td>\n",
       "      <td>4.5</td>\n",
       "      <td>4.5</td>\n",
       "      <td>4.5</td>\n",
       "      <td>...</td>\n",
       "      <td>4.5</td>\n",
       "      <td>44.5</td>\n",
       "      <td>NaN</td>\n",
       "      <td>0</td>\n",
       "      <td>0</td>\n",
       "      <td>0</td>\n",
       "      <td>1</td>\n",
       "      <td>0</td>\n",
       "      <td>0</td>\n",
       "      <td>0</td>\n",
       "    </tr>\n",
       "  </tbody>\n",
       "</table>\n",
       "<p>5 rows × 25 columns</p>\n",
       "</div>"
      ],
      "text/plain": [
       "          id                         movie_title  year  length  budget  \\\n",
       "460   571847                        prison break  2008     NaN     NaN   \n",
       "557    53603  an american tail: fievel goes west  1991    75.0     NaN   \n",
       "1154  700054                   the boys are back  2009   104.0     NaN   \n",
       "1432  407456                             lantana  2001   121.0     NaN   \n",
       "2409  833034                                wake  2003    90.0     NaN   \n",
       "\n",
       "      rating    votes   r1   r2   r3  ...      r9   r10   mpaa  Action  \\\n",
       "460      8.4    103.0  4.5  4.5  4.5  ...    24.5  34.5    NaN       0   \n",
       "557      6.4  17349.0  4.5  4.5  4.5  ...     4.5   4.5    NaN       0   \n",
       "1154     6.8   8859.0  4.5  4.5  4.5  ...     4.5   4.5  pg-13       0   \n",
       "1432     7.4  16548.0  4.5  4.5  4.5  ...    14.5  14.5      r       0   \n",
       "2409     6.9    348.0  4.5  4.5  4.5  ...     4.5  44.5    NaN       0   \n",
       "\n",
       "      Animation  Comedy  Drama Documentary  Romance  Short  \n",
       "460           0       1      0           0        0      1  \n",
       "557           1       0      0           0        0      0  \n",
       "1154          0       0      1           0        0      0  \n",
       "1432          0       0      1           0        1      0  \n",
       "2409          0       0      1           0        0      0  \n",
       "\n",
       "[5 rows x 25 columns]"
      ]
     },
     "execution_count": 50,
     "metadata": {},
     "output_type": "execute_result"
    }
   ],
   "source": [
    "matchedMovies.head()"
   ]
  },
  {
   "cell_type": "code",
   "execution_count": 51,
   "metadata": {
    "collapsed": false
   },
   "outputs": [
    {
     "data": {
      "text/html": [
       "<div>\n",
       "<table border=\"1\" class=\"dataframe\">\n",
       "  <thead>\n",
       "    <tr style=\"text-align: right;\">\n",
       "      <th></th>\n",
       "      <th>id</th>\n",
       "      <th>ltable_id</th>\n",
       "      <th>rtable_id</th>\n",
       "    </tr>\n",
       "  </thead>\n",
       "  <tbody>\n",
       "    <tr>\n",
       "      <th>0</th>\n",
       "      <td>32</td>\n",
       "      <td>592.0</td>\n",
       "      <td>571847.0</td>\n",
       "    </tr>\n",
       "    <tr>\n",
       "      <th>1</th>\n",
       "      <td>33</td>\n",
       "      <td>3476.0</td>\n",
       "      <td>571847.0</td>\n",
       "    </tr>\n",
       "    <tr>\n",
       "      <th>4</th>\n",
       "      <td>40</td>\n",
       "      <td>307.0</td>\n",
       "      <td>53603.0</td>\n",
       "    </tr>\n",
       "    <tr>\n",
       "      <th>14</th>\n",
       "      <td>73</td>\n",
       "      <td>4723.0</td>\n",
       "      <td>700054.0</td>\n",
       "    </tr>\n",
       "    <tr>\n",
       "      <th>15</th>\n",
       "      <td>86</td>\n",
       "      <td>2281.0</td>\n",
       "      <td>407456.0</td>\n",
       "    </tr>\n",
       "  </tbody>\n",
       "</table>\n",
       "</div>"
      ],
      "text/plain": [
       "    id  ltable_id  rtable_id\n",
       "0   32      592.0   571847.0\n",
       "1   33     3476.0   571847.0\n",
       "4   40      307.0    53603.0\n",
       "14  73     4723.0   700054.0\n",
       "15  86     2281.0   407456.0"
      ]
     },
     "execution_count": 51,
     "metadata": {},
     "output_type": "execute_result"
    }
   ],
   "source": [
    "predicted_matches.head()"
   ]
  },
  {
   "cell_type": "code",
   "execution_count": 134,
   "metadata": {
    "collapsed": false
   },
   "outputs": [
    {
     "data": {
      "text/plain": [
       "['movie_title',\n",
       " 'year',\n",
       " 'length',\n",
       " 'budget',\n",
       " 'rating',\n",
       " 'votes',\n",
       " 'r1',\n",
       " 'r2',\n",
       " 'r3',\n",
       " 'r4',\n",
       " 'r5',\n",
       " 'r6',\n",
       " 'r7',\n",
       " 'r8',\n",
       " 'r9',\n",
       " 'r10',\n",
       " 'mpaa',\n",
       " 'Action',\n",
       " 'Animation',\n",
       " 'Comedy',\n",
       " 'Drama',\n",
       " 'Documentary',\n",
       " 'Romance',\n",
       " 'Short',\n",
       " 'episode',\n",
       " 'song_title',\n",
       " 'artists',\n",
       " 'song_id',\n",
       " 'track_id']"
      ]
     },
     "execution_count": 134,
     "metadata": {},
     "output_type": "execute_result"
    }
   ],
   "source": [
    "column_names = list(pd.merge(matchedMovies, matchedSongsTracks, on='id',how ='outer').columns)\n",
    "column_names.remove('movie_title_y')\n",
    "column_names.remove('year_y')\n",
    "column_names.remove('id')\n",
    "column_names[0] = 'movie_title'\n",
    "column_names[1] = 'year'\n",
    "column_names"
   ]
  },
  {
   "cell_type": "code",
   "execution_count": 148,
   "metadata": {
    "collapsed": false
   },
   "outputs": [
    {
     "data": {
      "text/plain": [
       "29"
      ]
     },
     "execution_count": 148,
     "metadata": {},
     "output_type": "execute_result"
    }
   ],
   "source": [
    "#Schema of the merged table\n",
    "E = pd.DataFrame(columns = column_names)\n",
    "len(E.columns)"
   ]
  },
  {
   "cell_type": "code",
   "execution_count": 150,
   "metadata": {
    "collapsed": false
   },
   "outputs": [
    {
     "name": "stderr",
     "output_type": "stream",
     "text": [
      "C:\\Users\\nafis\\Anaconda2\\lib\\site-packages\\ipykernel\\__main__.py:12: SettingWithCopyWarning: \n",
      "A value is trying to be set on a copy of a slice from a DataFrame.\n",
      "Try using .loc[row_indexer,col_indexer] = value instead\n",
      "\n",
      "See the caveats in the documentation: http://pandas.pydata.org/pandas-docs/stable/indexing.html#indexing-view-versus-copy\n",
      "C:\\Users\\nafis\\Anaconda2\\lib\\site-packages\\ipykernel\\__main__.py:13: SettingWithCopyWarning: \n",
      "A value is trying to be set on a copy of a slice from a DataFrame.\n",
      "Try using .loc[row_indexer,col_indexer] = value instead\n",
      "\n",
      "See the caveats in the documentation: http://pandas.pydata.org/pandas-docs/stable/indexing.html#indexing-view-versus-copy\n"
     ]
    }
   ],
   "source": [
    "import math\n",
    "for index, row in predicted_matches.iterrows(): \n",
    "    \n",
    "    entry = list()\n",
    "    \n",
    "    left_entry = matchedSongsTracks[matchedSongsTracks['id']==row['ltable_id']]\n",
    "    right_entry = matchedMovies[matchedMovies['id']==row['rtable_id']]\n",
    "    \n",
    "    assert(len(left_entry)==1)\n",
    "    assert(len(right_entry)==1)\n",
    "    \n",
    "    left_entry['id'] = 1\n",
    "    right_entry['id'] = 1\n",
    "    \n",
    "    left_entry = left_entry.drop(['movie_title','year'], axis=1)\n",
    "    merged_row = pd.merge(right_entry, left_entry,on='id',how='inner')\n",
    "    merged_row = merged_row.drop('id',axis = 1)\n",
    "    \n",
    "    assert (len(merged_row.columns)==len(E.columns))\n",
    "    \n",
    "    #appending the merged value to table E\n",
    "    E = E.append(merged_row, ignore_index=True)"
   ]
  },
  {
   "cell_type": "code",
   "execution_count": 147,
   "metadata": {
    "collapsed": false
   },
   "outputs": [
    {
     "data": {
      "text/plain": [
       "Index([u'Action', u'Animation', u'Comedy', u'Documentary', u'Drama',\n",
       "       u'Romance', u'Short', u'artists', u'budget', u'episode', u'length',\n",
       "       u'movie_title', u'mpaa', u'r1', u'r10', u'r2', u'r3', u'r4', u'r5',\n",
       "       u'r6', u'r7', u'r8', u'r9', u'rating', u'song_id', u'song_title',\n",
       "       u'track_id', u'votes', u'year'],\n",
       "      dtype='object')"
      ]
     },
     "execution_count": 147,
     "metadata": {},
     "output_type": "execute_result"
    }
   ],
   "source": [
    "E.columns\n"
   ]
  },
  {
   "cell_type": "code",
   "execution_count": 151,
   "metadata": {
    "collapsed": true
   },
   "outputs": [],
   "source": [
    "E.to_csv('Final_merged_table.csv',sep=',',index=False)"
   ]
  },
  {
   "cell_type": "code",
   "execution_count": null,
   "metadata": {
    "collapsed": true
   },
   "outputs": [],
   "source": []
  }
 ],
 "metadata": {
  "kernelspec": {
   "display_name": "Python [Root]",
   "language": "python",
   "name": "Python [Root]"
  },
  "language_info": {
   "codemirror_mode": {
    "name": "ipython",
    "version": 2
   },
   "file_extension": ".py",
   "mimetype": "text/x-python",
   "name": "python",
   "nbconvert_exporter": "python",
   "pygments_lexer": "ipython2",
   "version": "2.7.12"
  }
 },
 "nbformat": 4,
 "nbformat_minor": 0
}
