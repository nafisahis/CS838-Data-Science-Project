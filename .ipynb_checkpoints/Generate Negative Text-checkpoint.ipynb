{
 "cells": [
  {
   "cell_type": "code",
   "execution_count": 1,
   "metadata": {
    "collapsed": true
   },
   "outputs": [],
   "source": [
    "import os,sys\n",
    "import pandas as pd\n",
    "import re\n",
    "import itertools"
   ]
  },
  {
   "cell_type": "code",
   "execution_count": 2,
   "metadata": {
    "collapsed": true
   },
   "outputs": [],
   "source": [
    "inputDir = os.path.join('..','training_texts')\n",
    "outputDir = os.path.join('..','negative_texts')"
   ]
  },
  {
   "cell_type": "code",
   "execution_count": 3,
   "metadata": {
    "collapsed": false
   },
   "outputs": [],
   "source": [
    "if not os.path.exists(outputDir):\n",
    "    os.mkdir(outputDir)"
   ]
  },
  {
   "cell_type": "code",
   "execution_count": 4,
   "metadata": {
    "collapsed": false
   },
   "outputs": [
    {
     "data": {
      "text/plain": [
       "'..\\\\training_texts\\\\Acer AM3470-UC30P.txt'"
      ]
     },
     "execution_count": 4,
     "metadata": {},
     "output_type": "execute_result"
    }
   ],
   "source": [
    "inputFile = os.path.join(inputDir,'Acer AM3470-UC30P.txt')\n",
    "inputFile"
   ]
  },
  {
   "cell_type": "code",
   "execution_count": 5,
   "metadata": {
    "collapsed": true
   },
   "outputs": [],
   "source": [
    "with open(inputFile,'r') as f:\n",
    "    text = f.read()"
   ]
  },
  {
   "cell_type": "code",
   "execution_count": 6,
   "metadata": {
    "collapsed": false
   },
   "outputs": [
    {
     "name": "stdout",
     "output_type": "stream",
     "text": [
      "()\n",
      "(1,)\n",
      "(2,)\n",
      "(3,)\n",
      "(1, 2)\n",
      "(1, 3)\n",
      "(2, 3)\n",
      "(1, 2, 3)\n"
     ]
    }
   ],
   "source": [
    "import itertools\n",
    "\n",
    "stuff = [1, 2, 3]\n",
    "for L in range(0, len(stuff)+1):\n",
    "    for subset in itertools.combinations(stuff, L):\n",
    "        print subset"
   ]
  },
  {
   "cell_type": "code",
   "execution_count": 18,
   "metadata": {
    "collapsed": false
   },
   "outputs": [
    {
     "name": "stdout",
     "output_type": "stream",
     "text": [
      "Based on AMD's A8 Llano APU (Accelerated Processing Unit) technology with on-chip Radeon graphics, the\n",
      "($599.99 list at Costco) won't break any productivity performance records. Even so, it's a great deal for users looking for a complete desktop system that has everything you need to get up and running out of the box, including a nice 23-inch monitor. Throw in forward-thinking USB 3.0, built in Wi-Fi, and a sizable hard drive and you have our newest Editors' Choice for mid-range desktops.Design and FeaturesThe AM3470-UC30P uses a matte black mid-tower case with a curved glossy black front panel and a glossy top. As with the\n",
      "$599.99 list, 4 stars) the top contains a tray for holding cell phones and other small devices, but the M3470's tray has four USB ports to the DX4860-UB33P's two. Here you'll find headphone and microphone jacks as well. At the very top of the front panel are four card reader slots; below them are two optical drive bays, one of which holds a DVD multi-drive (the other is vacant). A shiny Acer logo adorns the center of the panel.Costco bundles this system with a bright 23-inch Acer monitor with built-in speakers and a 1,920-by-1,080 resolution, which means it can display high-definition video and other content at 1080p (full HD). Image quality is crisp and colors are vibrant, but the panel sports a narrow viewing angle; colors lose their pop when viewed from a side angle. On the plus side, the matte anti-glare coating is non-reflective. The monitor has DVI and VGA inputs, but the AM3470 doesn't have a DVI output, so you'll have to use an HDMI-to-DVI adapter (not included) to send a digital signal to the display. The pricier\n",
      "($899.99 list, 4 stars), on the other hand, comes bundled with a 25-inch widescreen monitor and comes with multiple input methods, including HDMI, DVI-D, and VGA. It even comes with all the proper cables to connect the desktop to the monitorall but HDMI, as the system only has DVI-D and VGA video outputs onboard. Of the six additional USB ports at the rear of the case, two are USB 3.0 ports that provide transfer speeds up to ten times faster than USB 2.0. They are joined by HDMI and VGA video ports, an Ethernet port, and a Wi-Fi antenna. You'll need a screwdriver to remove the side panel to gain access to the interior but there's not much room for future expansion inside. There's an available PCIe x16 slot, but the lone PCIe x1 slot is taken up with the Wi-Fi card. If you decide to add a graphics card at a later date you'll probably have to upgrade the 300 Watt power supply. There's also room for an additional hard drive and a secondary optical drive. The AM3470-UC30P's 1TB hard drive provides plenty of storage for applications, photo albums, and audio and video files. It comes with Window 7 Home Premium and a handful of Acer utilities, including eRecovery Management data restoration software, and Clear.fi, Acer's multimedia streaming and sharing software. You also get Microsoft Office 2010 Starter Edition, Nero 10 burning software, and Zune's video and music player. As with all PCs sold at Costco, the AM3470-UC30P comes with a two-year warranty as opposed to the manufacturer's standard one-year plan. It also comes with Costco's Concierge Service, which provides toll-free technical support, troubleshooting, and setup advice.PerformanceAs with the\n",
      "($559.99 list, 3.5 stars), the AM3470-UC30P uses AMD's A8-3800 quad-core APU which runs at 2.4GHz. It also comes with 6GB of DDR3 memory and uses an on-chip Radeon HD 6550D graphics solution. And, as was the case with the P7-1126s, the AM3470 couldn't quite keep up with similarly-priced desktops armed with Intel's Core i3 CPU. Its 2,081 PCMark 7 score was almost 500 points below the\n",
      "(2,536), which was equipped with a 3.1GHz Intel Core i3 processor, but was nearly identical to the A8-based Pavilion p7-1126s (2,083). On our Cinebench R11.5 CPU test, the AM3470's score of 2.94 was slightly higher than the p7-1126s (2.88), but still trailed the\n",
      "(2.98) by a hair and significantly behind the\n",
      "4.92). When it came to handling multimedia tasks, the results were similar. The AM3470-UC30P needed 5 minutes 55 seconds to complete our Photoshop CS5 test, while the Lenovo K330-11691AU finished it in 3:49 and\n",
      "inished it in 3:25. Likewise, the AM3470-UC30P required 2:33 to encode a video in Handbrake,  and the Lenovo K330-11691AU did it in 2:12, and\n",
      "id it in 1:19.The AM3470-UC30P's embedded Radeon GPU is by no means a high-end gaming class graphics solution, as evidenced by its Lost Planet 2 DX11 score of 19.4 fps (frames per second) while running at a resolution of 1,280-by-720 with effects set to middle quality. You typically want at least 30fps for smooth game play. With the resolution set to 1,920-by-1,080 and effects set to high quality, it managed a paltry 5.9 fps. It ran our DirectX 10 Crysis test at 40fps at 1,280-by-720 resolution at Medium quality settings, but with the resolution cranked up to 1,920-by-1,080 and quality set to Very High, the AM3470-UC30P yielded unplayable results (5.29fps). If gaming is on your agenda, you'll have to adjust the in-game settings accordingly.The\n",
      "isn't a powerhouse, but it has enough muscle to handle your everyday home productivity and multimedia workload and offers niceties such as USB 3.0, wireless networking, a hefty hard drive, and a 23-inch monitor. There are better performing desktops in the $600 price range, including the Lenovo K330-11691AU and Gateway DX4860-UB33P, but you'll have to shell out another $200 or more for a monitor. The\n",
      "comes with a monitor, but it's $300 more and won't provide such amenities as four DIMM slots for expansion, USB 3.0, and graphics performance. If you're more concerned with value than performance, the AM3470-UC30P is an excellent choice and joins the\n",
      "as our Editors' Choice for mid-range desktops.More desktop reviews:   HP Envy 34 Curved All-in-One (2017)  \n"
     ]
    }
   ],
   "source": [
    "From = 0\n",
    "\n",
    "for m in re.finditer('<p>(.+?)</>',text):\n",
    "    #print '%02d-%02d: %s' % (m.start(), m.end(), m.group(0))\n",
    "    To = m.start()-1\n",
    "    splittedText = text[From:To]\n",
    "    print splittedText\n",
    "    \n",
    "    wordList = splittedText.split(' ')\n",
    "    for L in range(0, len(wordList)+1):\n",
    "    for subset in itertools.combinations(splittedText, L):\n",
    "        #with open('test.txt','w') as fout:\n",
    "        if len(subset) >= 2 and len(subset) <= 8:\n",
    "            print subset\n",
    "            \n",
    "    From = m.end()+1\n"
   ]
  },
  {
   "cell_type": "code",
   "execution_count": null,
   "metadata": {
    "collapsed": true
   },
   "outputs": [],
   "source": []
  }
 ],
 "metadata": {
  "kernelspec": {
   "display_name": "Python [Root]",
   "language": "python",
   "name": "Python [Root]"
  },
  "language_info": {
   "codemirror_mode": {
    "name": "ipython",
    "version": 2
   },
   "file_extension": ".py",
   "mimetype": "text/x-python",
   "name": "python",
   "nbconvert_exporter": "python",
   "pygments_lexer": "ipython2",
   "version": "2.7.12"
  }
 },
 "nbformat": 4,
 "nbformat_minor": 0
}
