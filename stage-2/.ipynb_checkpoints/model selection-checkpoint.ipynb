{
 "cells": [
  {
   "cell_type": "code",
   "execution_count": 8,
   "metadata": {
    "collapsed": false
   },
   "outputs": [],
   "source": [
    "import numpy as np\n",
    "import pandas as pd\n",
    "\n",
    "# reading positive and negative csv files into dataframe\n",
    "pos_file = \"pos_feat_vec.csv\"\n",
    "neg_file = \"neg_feat_vec.csv\"\n",
    "\n",
    "pos = pd.read_csv(pos_file, header = 0)\n",
    "neg = pd.read_csv(neg_file, header = 0)\n",
    "data = pd.concat([pos, neg])"
   ]
  },
  {
   "cell_type": "code",
   "execution_count": 9,
   "metadata": {
    "collapsed": false
   },
   "outputs": [],
   "source": [
    "# shuffling the data frames\n",
    "from sklearn.utils import shuffle\n",
    "\n",
    "data = shuffle(data, random_state=0)"
   ]
  },
  {
   "cell_type": "code",
   "execution_count": 10,
   "metadata": {
    "collapsed": false,
    "scrolled": true
   },
   "outputs": [],
   "source": [
    "names = data.ix[:,0]\n",
    "labels = data.ix[:, len(data.columns) - 1]\n",
    "features = data.ix[:, 1: len(data.columns) - 1]\n",
    "\n",
    "features = features.as_matrix()\n",
    "labels = labels.as_matrix()"
   ]
  },
  {
   "cell_type": "code",
   "execution_count": 11,
   "metadata": {
    "collapsed": false
   },
   "outputs": [
    {
     "name": "stdout",
     "output_type": "stream",
     "text": [
      "('Accuracy: ', 0.90715083685407871)\n",
      "('Precision: ', 0.88181900957726977)\n",
      "('Recall: ', 0.91061694663698312)\n"
     ]
    }
   ],
   "source": [
    "# training decision trees and performing cross-validation\n",
    "from sklearn.tree import DecisionTreeClassifier\n",
    "from sklearn.model_selection import cross_val_predict\n",
    "from sklearn.model_selection import cross_val_score\n",
    "\n",
    "dt = DecisionTreeClassifier(criterion = 'gini', max_depth = 15)\n",
    "fold = 10\n",
    "\n",
    "accuracy = cross_val_score(dt, features, labels, cv = fold)\n",
    "precision = cross_val_score(dt, features, labels, cv = fold, scoring='precision')\n",
    "recall = cross_val_score(dt, features, labels, cv = fold, scoring='recall')\n",
    "\n",
    "print('Accuracy: ', accuracy.sum() / fold)\n",
    "print('Precision: ', precision.sum() / fold)\n",
    "print('Recall: ', recall.sum() / fold)"
   ]
  },
  {
   "cell_type": "code",
   "execution_count": 23,
   "metadata": {
    "collapsed": false
   },
   "outputs": [
    {
     "data": {
      "text/plain": [
       "(5439L, 24L)"
      ]
     },
     "execution_count": 23,
     "metadata": {},
     "output_type": "execute_result"
    }
   ],
   "source": [
    "np.shape(features)"
   ]
  },
  {
   "cell_type": "code",
   "execution_count": 29,
   "metadata": {
    "collapsed": false
   },
   "outputs": [],
   "source": [
    "train_set,set2,test_set = np.split(features,3,0)\n",
    "train_set = np.append(train_set,set2,0)\n",
    "\n",
    "dt2 = DecisionTreeClassifier(criterion = 'gini', max_depth = 10)\n",
    "\n",
    "dt2.fit()\n",
    "print('Accuracy: ', accuracy.sum() / fold)\n",
    "print('Precision: ', precision.sum() / fold)\n",
    "print('Recall: ', recall.sum() / fold)"
   ]
  },
  {
   "cell_type": "code",
   "execution_count": 5,
   "metadata": {
    "collapsed": false
   },
   "outputs": [
    {
     "name": "stdout",
     "output_type": "stream",
     "text": [
      "('Accuracy: ', 0)\n",
      "('Precision: ', 0)\n",
      "('Recall: ', 0)\n"
     ]
    }
   ],
   "source": [
    "# training linear regressors and performing cross-validation\n",
    "from sklearn.linear_model import LinearRegression\n",
    "from sklearn.model_selection import KFold\n",
    "\n",
    "fold = 10\n",
    "threshold = 0.3\n",
    "rg = LinearRegression()\n",
    "kf = KFold(n_splits = fold, shuffle = True)\n",
    "\n",
    "accuracy = []\n",
    "precision = []\n",
    "recall = []\n",
    "\n",
    "for train_index, test_index in kf.split(features):\n",
    "    features_train, features_test = features[train_index], features[test_index]\n",
    "    labels_train, labels_test = labels[train_index], labels[test_index]\n",
    "    \n",
    "    rg.fit(features_train, labels_train)\n",
    "    result = rg.predict(features_test)\n",
    "    \n",
    "    tp = 0\n",
    "    fp = 0\n",
    "    tn = 0\n",
    "    fn = 0\n",
    "\n",
    "    for k in range(0, len(result)):\n",
    "        if labels_test[k] == 1:\n",
    "            if result[k] > threshold:\n",
    "                tp += 1\n",
    "            else:\n",
    "                fn += 1\n",
    "        else:\n",
    "            if result[k] > threshold:\n",
    "                fp += 1\n",
    "            else:\n",
    "                tn += 1\n",
    "\n",
    "    accuracy.append((tp + tn) / len(result))\n",
    "    precision.append(tp / (tp + fn))\n",
    "    recall.append(tp / (tp + fp))\n",
    "\n",
    "print('Accuracy: ', sum(accuracy) / fold)\n",
    "print('Precision: ', sum(precision) / fold)\n",
    "print('Recall: ', sum(recall) / fold)"
   ]
  },
  {
   "cell_type": "code",
   "execution_count": 6,
   "metadata": {
    "collapsed": false
   },
   "outputs": [
    {
     "name": "stdout",
     "output_type": "stream",
     "text": [
      "('Accuracy: ', 0.90549608655616942)\n",
      "('Precision: ', 0.88488615730188458)\n",
      "('Recall: ', 0.91225629089927818)\n"
     ]
    }
   ],
   "source": [
    "# training logistic regressors and performing cross-validation\n",
    "from sklearn.linear_model import LogisticRegression\n",
    "from sklearn.model_selection import cross_val_predict\n",
    "from sklearn.model_selection import cross_val_score\n",
    "\n",
    "lr = LogisticRegression()\n",
    "fold = 10\n",
    "\n",
    "accuracy = cross_val_score(dt, features, labels, cv = fold)\n",
    "precision = cross_val_score(dt, features, labels, cv = fold, scoring='precision')\n",
    "recall = cross_val_score(dt, features, labels, cv = fold, scoring='recall')\n",
    "\n",
    "print('Accuracy: ', accuracy.sum() / fold)\n",
    "print('Precision: ', precision.sum() / fold)\n",
    "print('Recall: ', recall.sum() / fold)"
   ]
  },
  {
   "cell_type": "code",
   "execution_count": 7,
   "metadata": {
    "collapsed": false
   },
   "outputs": [
    {
     "ename": "AttributeError",
     "evalue": "'numpy.ndarray' object has no attribute 'as_matrix'",
     "output_type": "error",
     "traceback": [
      "\u001b[1;31m---------------------------------------------------------------------------\u001b[0m",
      "\u001b[1;31mAttributeError\u001b[0m                            Traceback (most recent call last)",
      "\u001b[1;32m<ipython-input-7-9b89ad6213e5>\u001b[0m in \u001b[0;36m<module>\u001b[1;34m()\u001b[0m\n\u001b[0;32m      8\u001b[0m \u001b[1;33m\u001b[0m\u001b[0m\n\u001b[0;32m      9\u001b[0m \u001b[0mfeatures\u001b[0m \u001b[1;33m=\u001b[0m \u001b[0mfeatures\u001b[0m\u001b[1;33m.\u001b[0m\u001b[0mas_matrix\u001b[0m\u001b[1;33m(\u001b[0m\u001b[1;33m)\u001b[0m\u001b[1;33m\u001b[0m\u001b[0m\n\u001b[1;32m---> 10\u001b[1;33m \u001b[0mlabels\u001b[0m \u001b[1;33m=\u001b[0m \u001b[0mlabels\u001b[0m\u001b[1;33m.\u001b[0m\u001b[0mas_matrix\u001b[0m\u001b[1;33m(\u001b[0m\u001b[1;33m)\u001b[0m\u001b[1;33m\u001b[0m\u001b[0m\n\u001b[0m\u001b[0;32m     11\u001b[0m \u001b[1;33m\u001b[0m\u001b[0m\n\u001b[0;32m     12\u001b[0m \u001b[0mdt_result\u001b[0m \u001b[1;33m=\u001b[0m \u001b[0mdt\u001b[0m\u001b[1;33m.\u001b[0m\u001b[0mpredict\u001b[0m\u001b[1;33m(\u001b[0m\u001b[0mfeatures\u001b[0m\u001b[1;33m)\u001b[0m\u001b[1;33m\u001b[0m\u001b[0m\n",
      "\u001b[1;31mAttributeError\u001b[0m: 'numpy.ndarray' object has no attribute 'as_matrix'"
     ]
    }
   ],
   "source": [
    "# reading test csv files into dataframe\n",
    "test_file = \"test_feat_vec.csv\"\n",
    "test = pd.read_csv(test_file, header = 0)\n",
    "\n",
    "names = test.ix[:,0]\n",
    "positions = test.ix[:, 1: 2]\n",
    "features = test.ix[:, 3:]\n",
    "\n",
    "features = features.as_matrix()\n",
    "labels = labels.as_matrix()\n",
    "\n",
    "dt_result = dt.predict(features)\n",
    "rg_result = rg.predict(features)\n",
    "lr_result = lr.predict(features)"
   ]
  },
  {
   "cell_type": "code",
   "execution_count": null,
   "metadata": {
    "collapsed": true
   },
   "outputs": [],
   "source": []
  }
 ],
 "metadata": {
  "anaconda-cloud": {},
  "kernelspec": {
   "display_name": "Python [Root]",
   "language": "python",
   "name": "Python [Root]"
  },
  "language_info": {
   "codemirror_mode": {
    "name": "ipython",
    "version": 2
   },
   "file_extension": ".py",
   "mimetype": "text/x-python",
   "name": "python",
   "nbconvert_exporter": "python",
   "pygments_lexer": "ipython2",
   "version": "2.7.12"
  }
 },
 "nbformat": 4,
 "nbformat_minor": 1
}
