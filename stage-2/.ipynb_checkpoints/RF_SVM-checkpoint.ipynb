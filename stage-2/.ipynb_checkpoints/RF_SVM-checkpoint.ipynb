{
 "cells": [
  {
   "cell_type": "code",
   "execution_count": 1,
   "metadata": {
    "collapsed": false
   },
   "outputs": [],
   "source": [
    "import numpy as np\n",
    "import pandas as pd\n",
    "import os,sys\n",
    "\n",
    "# reading positive and negative csv files into dataframe\n",
    "pos_file = \"pos_feat_vec.csv\"\n",
    "neg_file = \"neg_feat_vec.csv\"\n",
    "\n",
    "pos = pd.read_csv(pos_file, header = 0)\n",
    "neg = pd.read_csv(neg_file, header = 0)\n",
    "Data = pd.concat([pos, neg])\n",
    "\n",
    "# shuffling the data frames\n",
    "from sklearn.utils import shuffle\n",
    "\n",
    "data = shuffle(Data, random_state=0)\n",
    "names = data.ix[:,0]\n",
    "labels = data.ix[:, len(data.columns) - 1]\n",
    "features = data.ix[:, 1: len(data.columns) - 1]\n",
    "\n",
    "features = features.as_matrix()\n",
    "labels = labels.as_matrix()"
   ]
  },
  {
   "cell_type": "code",
   "execution_count": 2,
   "metadata": {
    "collapsed": false
   },
   "outputs": [],
   "source": [
    "#reading test dataset\n",
    "test_file = \"test_feat_vec.csv\"\n",
    "test_product = \"test_product_list.txt\"\n",
    "test = pd.read_csv(test_file, header = 0)\n",
    "names_position =  test.ix[:,0:3]\n",
    "test_feature = test.ix[:, 3: len(test.columns)]\n",
    "\n",
    "true_product = []\n",
    "start = []\n",
    "end = []\n",
    "with open(test_product) as f:\n",
    "    for line in f:\n",
    "        words =  line.strip('\\n').split(' ')\n",
    "        start.append(words[len(words)-2])\n",
    "        end.append(words[len(words)-1])\n",
    "        true_product.append(' '.join(words[0:len(words)-2]))"
   ]
  },
  {
   "cell_type": "code",
   "execution_count": 3,
   "metadata": {
    "collapsed": false
   },
   "outputs": [
    {
     "data": {
      "text/plain": [
       "(['Acer Aspire 5755-6482',\n",
       "  'Lenovo IdeaPad V570-1066AJU',\n",
       "  'Asus U56E-BBL6',\n",
       "  'Toshiba Satellite P755-S5215',\n",
       "  'Samsung NP300E5A-A01UB'],\n",
       " ['119', '4901', '4974', '5051', '5122'],\n",
       " ['140', '4928', '4988', '5079', '5144'],\n",
       "             product_name  start   end\n",
       " 0            Acer Aspire    119   130\n",
       " 1  Acer Aspire 5755-6482    119   140\n",
       " 2              Acer logo    718   727\n",
       " 3             Intel Core   2476  2486\n",
       " 4    Intel Core i3-2330M   2476  2495)"
      ]
     },
     "execution_count": 3,
     "metadata": {},
     "output_type": "execute_result"
    }
   ],
   "source": [
    "true_product[0:5], start[0:5], end[0:5], names_position.head()"
   ]
  },
  {
   "cell_type": "code",
   "execution_count": 4,
   "metadata": {
    "collapsed": false
   },
   "outputs": [
    {
     "name": "stdout",
     "output_type": "stream",
     "text": [
      "('Accuracy: ', 0.92112244068898286)\n",
      "('Precision: ', 0.90546543630914267)\n",
      "('Recall: ', 0.91266950010119419)\n"
     ]
    }
   ],
   "source": [
    "from sklearn.ensemble import RandomForestClassifier\n",
    "from sklearn.model_selection import cross_val_score\n",
    "rf = RandomForestClassifier(n_estimators=10)\n",
    "fold = 10\n",
    "\n",
    "accuracy = cross_val_score(rf, features, labels, cv=fold)\n",
    "precision = cross_val_score(rf, features, labels, cv=fold, scoring='precision')\n",
    "recall = cross_val_score(rf, features, labels, cv=fold, scoring='recall')\n",
    "\n",
    "print('Accuracy: ', accuracy.sum() / fold)\n",
    "print('Precision: ', precision.sum() / fold)\n",
    "print('Recall: ', recall.sum() / fold)"
   ]
  },
  {
   "cell_type": "code",
   "execution_count": 5,
   "metadata": {
    "collapsed": false
   },
   "outputs": [
    {
     "data": {
      "text/plain": [
       "array([0, 1, 0, ..., 0, 0, 0], dtype=int64)"
      ]
     },
     "execution_count": 5,
     "metadata": {},
     "output_type": "execute_result"
    }
   ],
   "source": [
    "#running RF classifier to predict test set\n",
    "rf.fit(features,labels)\n",
    "prediction = rf.predict(test_feature)\n",
    "prediction\n",
    "#calulate_metrices(names_position,true_product,prediction)"
   ]
  },
  {
   "cell_type": "code",
   "execution_count": 8,
   "metadata": {
    "collapsed": false
   },
   "outputs": [
    {
     "name": "stdout",
     "output_type": "stream",
     "text": [
      "510 9164 2993 1815 14482\n"
     ]
    }
   ],
   "source": [
    "\n",
    "#def calulate_metrices(names_position,true_product,prediction):\n",
    "Tp = 0\n",
    "Tn = 0\n",
    "Fp = 0\n",
    "Fn = 0\n",
    "\n",
    "for i, row in names_position.iterrows():\n",
    "    if str(row[1]) in start:\n",
    "        \n",
    "        indices = [i for i, x in enumerate(start) if x == str(row[1])]\n",
    "        \n",
    "        #print len(indices)\n",
    "        for index in indices:\n",
    "            #print row[0], true_product[index]\n",
    "            if row[0] in true_product[index]:\n",
    "                if (prediction[index] == 1):\n",
    "                    #print(\"here\")\n",
    "                    Tp=Tp+1\n",
    "                else:\n",
    "                    Fn=Fn+1\n",
    "            else:\n",
    "                if (prediction[index] == 1):\n",
    "                    Fp=Fp+1\n",
    "                else:\n",
    "                    Tn=Tn+1\n",
    "\n",
    "    else:\n",
    "        if (prediction[index] == 1):\n",
    "            Fp=Fp+1\n",
    "        else:\n",
    "            Tn=Tn+1\n",
    "print Tp,Tn,Fp,Fn, (Tp+Tn+Fp+Fn) \n",
    "\n",
    "\n",
    "\n"
   ]
  },
  {
   "cell_type": "code",
   "execution_count": 9,
   "metadata": {
    "collapsed": false
   },
   "outputs": [
    {
     "name": "stdout",
     "output_type": "stream",
     "text": [
      "0.145589494719 0.21935483871\n"
     ]
    }
   ],
   "source": [
    "precision = (float(Tp)/float(Tp+Fp))\n",
    "recall = (float(Tp)/float(Tp+Fn))\n",
    "print precision, recall "
   ]
  },
  {
   "cell_type": "code",
   "execution_count": 8,
   "metadata": {
    "collapsed": true
   },
   "outputs": [],
   "source": [
    "with open('prediction_new.txt','w') as f:\n",
    "    for i, row in names_position.iterrows():\n",
    "            f.write('\\t'.join([row[0],str(prediction[i])]))\n",
    "            f.write('\\n')\n",
    "f.close()"
   ]
  },
  {
   "cell_type": "code",
   "execution_count": 13,
   "metadata": {
    "collapsed": false
   },
   "outputs": [
    {
     "name": "stdout",
     "output_type": "stream",
     "text": [
      "('Accuracy: ', 0.8856400985808689)\n",
      "('Precision: ', 0.87857810569316952)\n",
      "('Recall: ', 0.86510996424475484)\n"
     ]
    }
   ],
   "source": [
    "from sklearn import svm\n",
    "svm = svm.SVC()\n",
    "fold = 10\n",
    "\n",
    "accuracy = cross_val_score(svm, features, labels, cv=fold)\n",
    "precision = cross_val_score(svm, features, labels, cv=fold, scoring='precision')\n",
    "recall = cross_val_score(svm, features, labels, cv=fold, scoring='recall')\n",
    "\n",
    "print('Accuracy: ', accuracy.sum() / fold)\n",
    "print('Precision: ', precision.sum() / fold)\n",
    "print('Recall: ', recall.sum() / fold)"
   ]
  },
  {
   "cell_type": "code",
   "execution_count": 14,
   "metadata": {
    "collapsed": false
   },
   "outputs": [
    {
     "name": "stdout",
     "output_type": "stream",
     "text": [
      "329 5820 1081 44 7274\n",
      "0.233333333333 0.882037533512\n"
     ]
    }
   ],
   "source": [
    "#running RF classifier to predict test set\n",
    "svm.fit(features,labels)\n",
    "prediction = svm.predict(test_feature)\n",
    "prediction\n",
    "calulate_metrices(names_position,true_product,prediction)"
   ]
  },
  {
   "cell_type": "code",
   "execution_count": null,
   "metadata": {
    "collapsed": true
   },
   "outputs": [],
   "source": []
  }
 ],
 "metadata": {
  "anaconda-cloud": {},
  "kernelspec": {
   "display_name": "Python [Root]",
   "language": "python",
   "name": "Python [Root]"
  },
  "language_info": {
   "codemirror_mode": {
    "name": "ipython",
    "version": 2
   },
   "file_extension": ".py",
   "mimetype": "text/x-python",
   "name": "python",
   "nbconvert_exporter": "python",
   "pygments_lexer": "ipython2",
   "version": "2.7.12"
  }
 },
 "nbformat": 4,
 "nbformat_minor": 0
}
