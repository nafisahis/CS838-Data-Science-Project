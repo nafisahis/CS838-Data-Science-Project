{
 "cells": [
  {
   "cell_type": "code",
   "execution_count": 9,
   "metadata": {
    "collapsed": false
   },
   "outputs": [],
   "source": [
    "import glob\n",
    "import os\n",
    "import shutil\n",
    "\n",
    "all_file_path = 'Downloads/selected_texts/unlabelled_texts/'\n",
    "labelled_test_file_path = 'Downloads/selected_texts/labelled_test_texts/'\n",
    "unlabelled_test_file_path = 'Downloads/selected_texts/unlabelled_test_texts/'\n",
    "\n",
    "all_files = glob.glob(all_file_path + '*.txt')\n",
    "labelled_test_files = glob.glob(labelled_test_file_path + '*.txt')\n",
    "\n",
    "for i, file in enumerate(labelled_test_files):\n",
    "    labelled_test_files[i] = file[45:]\n",
    "\n",
    "for file in all_files:\n",
    "    file = file[42:]\n",
    "    \n",
    "    if file in labelled_test_files:\n",
    "        with open(os.path.join(all_file_path, file), 'r') as f:\n",
    "            text = f.read()\n",
    "            text = text.replace('\\x95', ' ')\n",
    "            words = text.split()\n",
    "            text = ' '.join(s for s in words)\n",
    "        \n",
    "        with open(os.path.join(unlabelled_test_file_path, file), 'w') as f:\n",
    "            f.write(text)"
   ]
  },
  {
   "cell_type": "code",
   "execution_count": null,
   "metadata": {
    "collapsed": true
   },
   "outputs": [],
   "source": []
  }
 ],
 "metadata": {
  "anaconda-cloud": {},
  "kernelspec": {
   "display_name": "Python [default]",
   "language": "python",
   "name": "python3"
  },
  "language_info": {
   "codemirror_mode": {
    "name": "ipython",
    "version": 3
   },
   "file_extension": ".py",
   "mimetype": "text/x-python",
   "name": "python",
   "nbconvert_exporter": "python",
   "pygments_lexer": "ipython3",
   "version": "3.5.2"
  }
 },
 "nbformat": 4,
 "nbformat_minor": 1
}
