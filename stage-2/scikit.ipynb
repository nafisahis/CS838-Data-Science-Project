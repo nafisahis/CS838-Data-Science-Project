{
 "cells": [
  {
   "cell_type": "code",
   "execution_count": 88,
   "metadata": {
    "collapsed": false
   },
   "outputs": [
    {
     "name": "stdout",
     "output_type": "stream",
     "text": [
      "{'NEG': 0, 'POS': 1}\n",
      "[ 0.98095238  0.98090692  0.9928401   0.99045346  0.98806683  0.98568019\n",
      "  0.99522673  0.99045346  0.99522673  0.99043062]\n",
      "[ 1.  1.  1.  1.  1.  1.  1.  1.  1.  1.]\n",
      "[ 0.96707819  0.96694215  0.98760331  0.98347107  0.97933884  0.97520661\n",
      "  0.99173554  0.98347107  0.99173554  0.98347107]\n"
     ]
    }
   ],
   "source": [
    "import numpy as np\n",
    "import pandas as pd\n",
    "\n",
    "#reading positive and negative csv files into dataframe\n",
    "pos_input_file = \"C:/Users/Meera George/Desktop/Feature_Extraction/pos_feat_vec.csv\"\n",
    "neg_input_file = \"C:/Users/Meera George/Desktop/Feature_Extraction/neg_feat_vec.csv\"\n",
    "categorical_columns=[]\n",
    "df_pos = pd.read_csv(pos_input_file, header = 0, usecols= range(1,24))\n",
    "df_neg = pd.read_csv(neg_input_file, header = 0, usecols= range(1,24))\n",
    "\n",
    "#reading labels from csv files\n",
    "df_posLabel = pd.read_csv(pos_input_file, header = 0, usecols= [25])\n",
    "df_negLabel = pd.read_csv(neg_input_file, header = 0, usecols= [25])\n",
    "\n",
    "df = pd.concat([df_pos,df_neg])\n",
    "df_label = pd.concat([df_posLabel,df_negLabel])\n",
    "columns = df.columns\n",
    "\n",
    "\n",
    "for i in range(6,23):\n",
    "    categorical_columns.append(columns[i])\n",
    "    \n",
    "for column in categorical_columns:\n",
    "    df_mod = df.copy()\n",
    "    target_column = column\n",
    "    targets=df_mod[target_column].unique()\n",
    "    map_to_int = {name: n for n, name in enumerate(targets)}\n",
    "    df_mod[target_column] = df_mod[target_column].replace(map_to_int)\n",
    "    df = df_mod\n",
    "    \n",
    "df_label_mod = df_label.copy()\n",
    "targets=['NEG','POS']\n",
    "map_to_int = {name: n for n, name in enumerate(targets)}\n",
    "df_label_mod['label'] = df_label_mod['label'].replace(map_to_int)\n",
    "df_label = df_label_mod\n",
    "print(map_to_int)\n",
    "numpy_array = np.array(df)\n",
    "label_array = np.array(df_label)\n",
    "\n",
    "#shuffling the data frames\n",
    "from sklearn.utils import shuffle\n",
    "numpy_array, label_array = shuffle(numpy_array, label_array, random_state=0)\n",
    "c, r = label_array.shape\n",
    "label_array = label_array.reshape(c,)\n",
    "\n",
    "#decision tree classifier and cross validation\n",
    "from sklearn.tree import DecisionTreeClassifier, export_graphviz\n",
    "from sklearn.model_selection import cross_val_score\n",
    "clf = tree.DecisionTreeClassifier(max_depth=1)\n",
    "scores = cross_val_score(clf, numpy_array, label_array, cv=10)\n",
    "precision = cross_val_score(clf, numpy_array, label_array, cv=10, scoring='precision')\n",
    "recall = cross_val_score(clf, numpy_array, label_array, cv=10, scoring='recall')\n",
    "\n",
    "print(scores)\n",
    "print(precision)\n",
    "print(recall)\n",
    "\n",
    "\n",
    "\n",
    "    \n"
   ]
  },
  {
   "cell_type": "code",
   "execution_count": 65,
   "metadata": {
    "collapsed": false
   },
   "outputs": [
    {
     "ename": "IndentationError",
     "evalue": "unexpected indent (<ipython-input-65-47cb5edcf177>, line 3)",
     "output_type": "error",
     "traceback": [
      "\u001b[0;36m  File \u001b[0;32m\"<ipython-input-65-47cb5edcf177>\"\u001b[0;36m, line \u001b[0;32m3\u001b[0m\n\u001b[0;31m    subprocess.check_call(command)\u001b[0m\n\u001b[0m    ^\u001b[0m\n\u001b[0;31mIndentationError\u001b[0m\u001b[0;31m:\u001b[0m unexpected indent\n"
     ]
    }
   ],
   "source": [
    "#command = [\"dot\", \"-Tpng\", \"dt.dot\", \"-o\", \"dt.png\"]\n",
    "#try:\n",
    "    subprocess.check_call(command)\n",
    "except:\n",
    "    print(\"Exit\")\n",
    "    exit(\"Could not run dot,to produce viz\")"
   ]
  },
  {
   "cell_type": "code",
   "execution_count": null,
   "metadata": {
    "collapsed": false
   },
   "outputs": [],
   "source": [
    "\n",
    "with open(\"dt.dot\", 'w') as f:\n",
    "    export_graphviz(clf, out_file=f, feature_names=columns)\n",
    "import pydot\n",
    "dotfile = StringIO()\n",
    "tree.export_graphviz(clf,out_file=dotfile)\n",
    "pydot.graph_from_dot_data(dotfile.getValue()).write_png(\"dtree2.png\")\n"
   ]
  },
  {
   "cell_type": "code",
   "execution_count": null,
   "metadata": {
    "collapsed": false
   },
   "outputs": [],
   "source": []
  },
  {
   "cell_type": "code",
   "execution_count": null,
   "metadata": {
    "collapsed": false
   },
   "outputs": [],
   "source": []
  },
  {
   "cell_type": "code",
   "execution_count": null,
   "metadata": {
    "collapsed": false
   },
   "outputs": [],
   "source": []
  },
  {
   "cell_type": "code",
   "execution_count": null,
   "metadata": {
    "collapsed": false
   },
   "outputs": [],
   "source": []
  },
  {
   "cell_type": "code",
   "execution_count": null,
   "metadata": {
    "collapsed": false
   },
   "outputs": [],
   "source": []
  },
  {
   "cell_type": "code",
   "execution_count": null,
   "metadata": {
    "collapsed": false
   },
   "outputs": [],
   "source": []
  },
  {
   "cell_type": "code",
   "execution_count": null,
   "metadata": {
    "collapsed": false
   },
   "outputs": [],
   "source": [
    "\n"
   ]
  },
  {
   "cell_type": "code",
   "execution_count": null,
   "metadata": {
    "collapsed": false
   },
   "outputs": [],
   "source": []
  },
  {
   "cell_type": "code",
   "execution_count": null,
   "metadata": {
    "collapsed": false
   },
   "outputs": [],
   "source": []
  },
  {
   "cell_type": "code",
   "execution_count": null,
   "metadata": {
    "collapsed": false
   },
   "outputs": [],
   "source": []
  },
  {
   "cell_type": "code",
   "execution_count": null,
   "metadata": {
    "collapsed": false
   },
   "outputs": [],
   "source": []
  },
  {
   "cell_type": "code",
   "execution_count": null,
   "metadata": {
    "collapsed": false
   },
   "outputs": [],
   "source": []
  },
  {
   "cell_type": "code",
   "execution_count": null,
   "metadata": {
    "collapsed": true
   },
   "outputs": [],
   "source": []
  },
  {
   "cell_type": "code",
   "execution_count": null,
   "metadata": {
    "collapsed": true
   },
   "outputs": [],
   "source": []
  }
 ],
 "metadata": {
  "kernelspec": {
   "display_name": "Python 3",
   "language": "python",
   "name": "python3"
  },
  "language_info": {
   "codemirror_mode": {
    "name": "ipython",
    "version": 3
   },
   "file_extension": ".py",
   "mimetype": "text/x-python",
   "name": "python",
   "nbconvert_exporter": "python",
   "pygments_lexer": "ipython3",
   "version": "3.6.0"
  }
 },
 "nbformat": 4,
 "nbformat_minor": 2
}
