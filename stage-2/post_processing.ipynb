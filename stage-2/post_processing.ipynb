{
 "cells": [
  {
   "cell_type": "code",
   "execution_count": 1,
   "metadata": {
    "collapsed": true
   },
   "outputs": [],
   "source": [
    "import os, sys, pandas as pd"
   ]
  },
  {
   "cell_type": "code",
   "execution_count": 4,
   "metadata": {
    "collapsed": false
   },
   "outputs": [
    {
     "data": {
      "text/html": [
       "<div>\n",
       "<table border=\"1\" class=\"dataframe\">\n",
       "  <thead>\n",
       "    <tr style=\"text-align: right;\">\n",
       "      <th></th>\n",
       "      <th>name</th>\n",
       "      <th>false_prob</th>\n",
       "      <th>true_prob</th>\n",
       "    </tr>\n",
       "  </thead>\n",
       "  <tbody>\n",
       "    <tr>\n",
       "      <th>0</th>\n",
       "      <td>Acer Aspire</td>\n",
       "      <td>1.0</td>\n",
       "      <td>0.0</td>\n",
       "    </tr>\n",
       "    <tr>\n",
       "      <th>1</th>\n",
       "      <td>Acer logo</td>\n",
       "      <td>0.997037037037</td>\n",
       "      <td>0.00296296296296</td>\n",
       "    </tr>\n",
       "    <tr>\n",
       "      <th>2</th>\n",
       "      <td>Intel Core</td>\n",
       "      <td>1.0</td>\n",
       "      <td>0.0</td>\n",
       "    </tr>\n",
       "    <tr>\n",
       "      <th>3</th>\n",
       "      <td>Intel Core i3-2330M</td>\n",
       "      <td>1.0</td>\n",
       "      <td>0.0</td>\n",
       "    </tr>\n",
       "    <tr>\n",
       "      <th>4</th>\n",
       "      <td>Intel HD</td>\n",
       "      <td>0.994405594406</td>\n",
       "      <td>0.00559440559441</td>\n",
       "    </tr>\n",
       "  </tbody>\n",
       "</table>\n",
       "</div>"
      ],
      "text/plain": [
       "                  name      false_prob         true_prob\n",
       "0          Acer Aspire             1.0               0.0\n",
       "1            Acer logo  0.997037037037  0.00296296296296\n",
       "2           Intel Core             1.0               0.0\n",
       "3  Intel Core i3-2330M             1.0               0.0\n",
       "4             Intel HD  0.994405594406  0.00559440559441"
      ]
     },
     "execution_count": 4,
     "metadata": {},
     "output_type": "execute_result"
    }
   ],
   "source": [
    "l = []\n",
    "with open('test_predict_negatives.txt') as f:\n",
    "    examples = f.readlines()\n",
    "    for example in examples:\n",
    "        tmp = []\n",
    "        example = example.split()\n",
    "        false_prob = example[len(example)-2]\n",
    "        true_prob = example[len(example) - 1]\n",
    "        name = ' '.join(t for t in example[:-2])\n",
    "        tmp.append(name)\n",
    "        tmp.append(false_prob) \n",
    "        tmp.append(true_prob)\n",
    "        l.append(tmp)\n",
    "test_predict = pd.DataFrame(l)\n",
    "test_predict.columns=['name','false_prob','true_prob']\n",
    "test_predict.head()"
   ]
  },
  {
   "cell_type": "code",
   "execution_count": 5,
   "metadata": {
    "collapsed": false
   },
   "outputs": [
    {
     "name": "stderr",
     "output_type": "stream",
     "text": [
      "C:\\Users\\nafis\\Anaconda2\\lib\\site-packages\\ipykernel\\__main__.py:1: FutureWarning: sort(columns=....) is deprecated, use sort_values(by=.....)\n",
      "  if __name__ == '__main__':\n"
     ]
    }
   ],
   "source": [
    "filtered = test_predict.sort(['true_prob'],ascending=False)\n"
   ]
  },
  {
   "cell_type": "code",
   "execution_count": 6,
   "metadata": {
    "collapsed": false
   },
   "outputs": [],
   "source": [
    "filtered.to_csv('test_predict_neg_sorted.txt',sep='\\t',index=False)"
   ]
  },
  {
   "cell_type": "code",
   "execution_count": 7,
   "metadata": {
    "collapsed": false
   },
   "outputs": [
    {
     "data": {
      "text/html": [
       "<div>\n",
       "<table border=\"1\" class=\"dataframe\">\n",
       "  <thead>\n",
       "    <tr style=\"text-align: right;\">\n",
       "      <th></th>\n",
       "      <th>name</th>\n",
       "      <th>start</th>\n",
       "      <th>end</th>\n",
       "    </tr>\n",
       "  </thead>\n",
       "  <tbody>\n",
       "    <tr>\n",
       "      <th>0</th>\n",
       "      <td>Acer Aspire 5755-6482</td>\n",
       "      <td>119</td>\n",
       "      <td>140</td>\n",
       "    </tr>\n",
       "    <tr>\n",
       "      <th>1</th>\n",
       "      <td>Lenovo IdeaPad V570-1066AJU</td>\n",
       "      <td>4901</td>\n",
       "      <td>4928</td>\n",
       "    </tr>\n",
       "    <tr>\n",
       "      <th>2</th>\n",
       "      <td>Asus U56E-BBL6</td>\n",
       "      <td>4974</td>\n",
       "      <td>4988</td>\n",
       "    </tr>\n",
       "    <tr>\n",
       "      <th>3</th>\n",
       "      <td>Toshiba Satellite P755-S5215</td>\n",
       "      <td>5051</td>\n",
       "      <td>5079</td>\n",
       "    </tr>\n",
       "    <tr>\n",
       "      <th>4</th>\n",
       "      <td>Samsung NP300E5A-A01UB</td>\n",
       "      <td>5122</td>\n",
       "      <td>5144</td>\n",
       "    </tr>\n",
       "  </tbody>\n",
       "</table>\n",
       "</div>"
      ],
      "text/plain": [
       "                           name start   end\n",
       "0         Acer Aspire 5755-6482   119   140\n",
       "1   Lenovo IdeaPad V570-1066AJU  4901  4928\n",
       "2                Asus U56E-BBL6  4974  4988\n",
       "3  Toshiba Satellite P755-S5215  5051  5079\n",
       "4        Samsung NP300E5A-A01UB  5122  5144"
      ]
     },
     "execution_count": 7,
     "metadata": {},
     "output_type": "execute_result"
    }
   ],
   "source": [
    "l = []\n",
    "with open('test_product_list.txt') as f:\n",
    "    examples = f.readlines()\n",
    "    for example in examples:\n",
    "        tmp = []\n",
    "        example = example.split()\n",
    "        start = example[len(example)-2]\n",
    "        end = example[len(example) - 1]\n",
    "        name = ' '.join(t for t in example[:-2])\n",
    "        tmp.append(name)\n",
    "        tmp.append(start) \n",
    "        tmp.append(end)\n",
    "        l.append(tmp)\n",
    "test_product = pd.DataFrame(l)\n",
    "test_product.columns=['name','start','end']\n",
    "test_product.head()"
   ]
  },
  {
   "cell_type": "code",
   "execution_count": 8,
   "metadata": {
    "collapsed": false
   },
   "outputs": [
    {
     "data": {
      "text/plain": [
       "1247"
      ]
     },
     "execution_count": 8,
     "metadata": {},
     "output_type": "execute_result"
    }
   ],
   "source": [
    "#product names from test product\n",
    "names = list(test_product['name'])\n",
    "len(names)"
   ]
  },
  {
   "cell_type": "code",
   "execution_count": 9,
   "metadata": {
    "collapsed": true
   },
   "outputs": [],
   "source": [
    "#product names from test predict filtering on 0.75\n",
    "predict_filter =  test_predict[test_predict['true_prob'] >= '0.75']"
   ]
  },
  {
   "cell_type": "code",
   "execution_count": 10,
   "metadata": {
    "collapsed": false
   },
   "outputs": [
    {
     "data": {
      "text/plain": [
       "(168,\n",
       " ['Asus U56E-BBL6',\n",
       "  'Gateway NV55S05u',\n",
       "  'Sony EB33FM/BJ',\n",
       "  'Lenovo Yoga 2 11',\n",
       "  'Asus Transformer Book T100TA',\n",
       "  'Asus K53E-B1',\n",
       "  'Dell XPS 15z',\n",
       "  'Dell XPS 15z',\n",
       "  'HP Stream 13',\n",
       "  'HP Stream 13 (13-c020nr)',\n",
       "  'Toshiba CB35-B3340',\n",
       "  'Acer Chromebook R 11',\n",
       "  'Lenovo ThinkPad 11e',\n",
       "  'Lenovo ThinkPad 11e',\n",
       "  'Acer Chromebook R 11',\n",
       "  'Alienware Aurora ALX (Core i7)',\n",
       "  'Dell Studio XPS 435',\n",
       "  'Falcon Northwest Talon (Core-i7 950)',\n",
       "  'Falcon Northwest Fragbook DRX and Gateway P-7808u',\n",
       "  'Alienware M17x',\n",
       "  'Asus G74SX-A2',\n",
       "  'Asus G74SX-BBK7',\n",
       "  'Asus G74SX-A2',\n",
       "  'Alienware M17x',\n",
       "  'Asus A53E-XA2',\n",
       "  'Lenovo V570-1066A9U',\n",
       "  'Lenovo V570-1066A9U',\n",
       "  'Alienware M17x',\n",
       "  'Asus G73JH-BST7',\n",
       "  'Asus G74SX-BBK7',\n",
       "  'Asus G74SX-BBK7',\n",
       "  'HP Envy Phoenix h9-1320t (31 seconds)',\n",
       "  'ASUS N10Jc-A1',\n",
       "  'Acer Aspire AS8943G-6782',\n",
       "  'Acer Aspire AS7745G-6214',\n",
       "  'HP Spectre XT TouchSmart 15-4010nr',\n",
       "  'Nvidia GeForce GT740',\n",
       "  'Sony Duo 11',\n",
       "  'Lenovo Yoga 13',\n",
       "  'Lenovo Yoga 13',\n",
       "  'MSI Gaming 24GE 2QE-014US',\n",
       "  'Dell Studio XPS 435',\n",
       "  'HP Firebird 803',\n",
       "  'Polywell Poly 790GX3',\n",
       "  'Lenovo V570-1066AJU',\n",
       "  'Gateway NV55S05u',\n",
       "  'Intel Core powered Dell XPS 13',\n",
       "  'HP Folio 13-1020us',\n",
       "  'HP Folio 13-1020us',\n",
       "  'Dell Inspiron 546',\n",
       "  'Toshiba A665D-S6085',\n",
       "  'Toshiba DX1215',\n",
       "  'Getac F110',\n",
       "  'Getac F110',\n",
       "  'Panasonic Toughpad FZ-M1',\n",
       "  'Getac F110',\n",
       "  'Dell Latitude E6420-ATG',\n",
       "  'Toshiba P505-S8010',\n",
       "  'Dell Studio 17',\n",
       "  'Dell Inspiron 580s',\n",
       "  'Gateway FX6831-01',\n",
       "  'Dell XPS 410',\n",
       "  'Dell XPS 410',\n",
       "  'Dell XPS 410',\n",
       "  'Dell XPS 410',\n",
       "  'Dell XPS 420',\n",
       "  'Dell XPS One',\n",
       "  'Dell XPS One is',\n",
       "  'Dell XPS One is',\n",
       "  'AVADirect Custom Gaming PC',\n",
       "  'Falcon Northwest Tiki',\n",
       "  'Fujitsu Lifebook S6510',\n",
       "  'Fujitsu LifeBook U810',\n",
       "  'Fujitsu LifeBook U810',\n",
       "  'Intel Z530',\n",
       "  'Gateway DX4870',\n",
       "  'Gateway DX4860',\n",
       "  'Gateway GX7020',\n",
       "  'Gateway FX7020',\n",
       "  'Gateway FX7020',\n",
       "  'Gateway FX7020',\n",
       "  'Nvidia GeForce GT330M',\n",
       "  'Lenovo ThinkCentre M90z',\n",
       "  'Gateway One ZX6900',\n",
       "  'Getac F110',\n",
       "  'Getac F110',\n",
       "  'Getac F110',\n",
       "  'Microsoft Surface Pro 2',\n",
       "  'Getac F110',\n",
       "  'HP Envy 13',\n",
       "  'HP Envy 4-1043cl',\n",
       "  'HP Mini 2140',\n",
       "  'Lenovo IdeaPad S12 and Samsung NC20 (21GBK)',\n",
       "  'Samsung LN55A950',\n",
       "  'Intel Atom N280',\n",
       "  'Nvidia GeForce 9400M',\n",
       "  'Samsung LN55A950',\n",
       "  'Toshiba E205-S1980',\n",
       "  'Gateway ID49C13u',\n",
       "  'Toshiba E205-S1980',\n",
       "  'Gateway ID49C13u',\n",
       "  'Samsung QX410-J01 (60WH)',\n",
       "  'Asus U45Jc-A1',\n",
       "  'HP Mini 2140',\n",
       "  'Dell Mini 12',\n",
       "  'Toshiba R600-S4202',\n",
       "  'Acer Aspire AS5745-7247',\n",
       "  'Dell XPS 15z',\n",
       "  'Toshiba X505-Q850',\n",
       "  'Toshiba X505-Q850',\n",
       "  'HP Pavilion Elite m9200t',\n",
       "  'Gateway FX7020',\n",
       "  'HP Pavilion Elite m9400t',\n",
       "  'Dell Vostro 1310',\n",
       "  'Gateway MD7801u\\xc2\\x97both',\n",
       "  'Lenovo ThinkPad SL400',\n",
       "  'HP ProBook 4510s',\n",
       "  'Lenovo ThinkPad T400',\n",
       "  'HP ProBook 4510s',\n",
       "  'Samsung ATIV Book 9 Plus',\n",
       "  'HP Spectre x2',\n",
       "  'Microsoft Surface Pro 4',\n",
       "  'Lenovo Yoga 900',\n",
       "  'Microsoft Surface Pro 4',\n",
       "  'Microsoft Surface Pro 4',\n",
       "  'Lenovo Yoga 900',\n",
       "  'HP Z1 G2',\n",
       "  'HP EliteOne 800',\n",
       "  'HP EliteOne 800',\n",
       "  'Dell Precision T3610',\n",
       "  'Dell Precision T3610',\n",
       "  'HP ZBook 14',\n",
       "  'MSI GX60 1AC-02US',\n",
       "  'HP Omni 100',\n",
       "  'Lenovo IdeaPad U400',\n",
       "  'HP Envy 14',\n",
       "  'Lenovo IdeaPad U400',\n",
       "  'HP Pavilion dv6500t',\n",
       "  'Fujitsu LifeBook A6120',\n",
       "  'Dell Inspiron 1420',\n",
       "  'Dell Inspiron 1420',\n",
       "  'Dell Inspiron 1420',\n",
       "  'Microsoft Surface Windows 8 Pro',\n",
       "  'Lenovo Yoga 11S',\n",
       "  'Samsung Ativ Book 9 Plus',\n",
       "  'Lenovo ThinkCentre M58p',\n",
       "  'Lenovo Yoga 2 13',\n",
       "  'Cyberpower Zeus Thunder 3000SE',\n",
       "  'Lenovo Erazer X510',\n",
       "  'MSI Gaming 24GE',\n",
       "  'Origin EON17-SLX',\n",
       "  'AMD Radeon R9 295X2-equipped',\n",
       "  'HP EliteBook 2560p',\n",
       "  'Polywell Poly i2303 i5-2467M',\n",
       "  'Polywell Poly i2303',\n",
       "  'Acer Revo RL100',\n",
       "  'Razer Blade Stealth (4K UHD)',\n",
       "  'Razer Stealth (4K UHD)',\n",
       "  'Asus U45Jc-A1',\n",
       "  'Asus Zenbook Prime Touch UX31A-BHI5T',\n",
       "  'Samsung Scala NP300E5A-A01UB',\n",
       "  'Sony VAIO Z13 (SVZ13114GXX)',\n",
       "  'Toshiba Portege R835-P88',\n",
       "  'Samsung Exynos-powered Galaxy',\n",
       "  'Acer C720P-2600',\n",
       "  'Xplore XC6',\n",
       "  'Xplore XC6',\n",
       "  'Getac FZ-110'])"
      ]
     },
     "execution_count": 10,
     "metadata": {},
     "output_type": "execute_result"
    }
   ],
   "source": [
    "predict_names = list(predict_filter['name'])\n",
    "len(predict_names), predict_names"
   ]
  },
  {
   "cell_type": "code",
   "execution_count": 11,
   "metadata": {
    "collapsed": false
   },
   "outputs": [
    {
     "data": {
      "text/plain": [
       "(71,\n",
       " {'ASUS N10Jc-A1',\n",
       "  'AVADirect Custom Gaming PC',\n",
       "  'Acer Aspire AS5745-7247',\n",
       "  'Acer Aspire AS7745G-6214',\n",
       "  'Acer Aspire AS8943G-6782',\n",
       "  'Alienware Aurora ALX (Core i7)',\n",
       "  'Alienware M17x',\n",
       "  'Asus A53E-XA2',\n",
       "  'Asus G73JH-BST7',\n",
       "  'Asus G74SX-A2',\n",
       "  'Asus G74SX-BBK7',\n",
       "  'Asus K53E-B1',\n",
       "  'Asus U45Jc-A1',\n",
       "  'Asus U56E-BBL6',\n",
       "  'Asus Zenbook Prime Touch UX31A-BHI5T',\n",
       "  'Cyberpower Zeus Thunder 3000SE',\n",
       "  'Dell Inspiron 1420',\n",
       "  'Dell Inspiron 580s',\n",
       "  'Dell Latitude E6420-ATG',\n",
       "  'Dell Precision T3610',\n",
       "  'Dell Studio 17',\n",
       "  'Dell Studio XPS 435',\n",
       "  'Dell Vostro 1310',\n",
       "  'Dell XPS 15z',\n",
       "  'Dell XPS 410',\n",
       "  'Dell XPS 420',\n",
       "  'Dell XPS One',\n",
       "  'Falcon Northwest Tiki',\n",
       "  'Fujitsu LifeBook A6120',\n",
       "  'Fujitsu Lifebook S6510',\n",
       "  'Gateway FX6831-01',\n",
       "  'Gateway FX7020',\n",
       "  'Gateway ID49C13u',\n",
       "  'Gateway NV55S05u',\n",
       "  'Getac F110',\n",
       "  'HP EliteBook 2560p',\n",
       "  'HP EliteOne 800',\n",
       "  'HP Envy 13',\n",
       "  'HP Envy 14',\n",
       "  'HP Envy 4-1043cl',\n",
       "  'HP Folio 13-1020us',\n",
       "  'HP Mini 2140',\n",
       "  'HP Omni 100',\n",
       "  'HP Pavilion Elite m9200t',\n",
       "  'HP Pavilion Elite m9400t',\n",
       "  'HP Pavilion dv6500t',\n",
       "  'HP ProBook 4510s',\n",
       "  'HP Spectre x2',\n",
       "  'HP Z1 G2',\n",
       "  'HP ZBook 14',\n",
       "  'Lenovo Erazer X510',\n",
       "  'Lenovo IdeaPad U400',\n",
       "  'Lenovo ThinkCentre M90z',\n",
       "  'Lenovo ThinkPad SL400',\n",
       "  'Lenovo ThinkPad T400',\n",
       "  'Lenovo Yoga 2 11',\n",
       "  'Lenovo Yoga 2 13',\n",
       "  'Lenovo Yoga 900',\n",
       "  'MSI Gaming 24GE 2QE-014US',\n",
       "  'Microsoft Surface Pro 2',\n",
       "  'Microsoft Surface Pro 4',\n",
       "  'Microsoft Surface Windows 8 Pro',\n",
       "  'Origin EON17-SLX',\n",
       "  'Panasonic Toughpad FZ-M1',\n",
       "  'Polywell Poly 790GX3',\n",
       "  'Polywell Poly i2303 i5-2467M',\n",
       "  'Samsung ATIV Book 9 Plus',\n",
       "  'Samsung Ativ Book 9 Plus',\n",
       "  'Sony VAIO Z13 (SVZ13114GXX)',\n",
       "  'Toshiba Portege R835-P88',\n",
       "  'Xplore XC6'})"
      ]
     },
     "execution_count": 11,
     "metadata": {},
     "output_type": "execute_result"
    }
   ],
   "source": [
    "#finding the overlap between test product name and predicted product name\n",
    "common = set(predict_names).intersection(names)\n",
    "len(common), common"
   ]
  },
  {
   "cell_type": "code",
   "execution_count": 12,
   "metadata": {
    "collapsed": false
   },
   "outputs": [
    {
     "data": {
      "text/plain": [
       "(53,\n",
       " ['MSI GX60 1AC-02US',\n",
       "  'Getac FZ-110',\n",
       "  'Lenovo Yoga 11S',\n",
       "  'HP Spectre XT TouchSmart 15-4010nr',\n",
       "  'Intel Atom N280',\n",
       "  'HP Stream 13',\n",
       "  'Sony Duo 11',\n",
       "  'Gateway DX4870',\n",
       "  'Intel Z530',\n",
       "  'Acer Chromebook R 11',\n",
       "  'Razer Stealth (4K UHD)',\n",
       "  'Dell Inspiron 546',\n",
       "  'Lenovo ThinkPad 11e',\n",
       "  'Toshiba X505-Q850',\n",
       "  'Toshiba DX1215',\n",
       "  'Falcon Northwest Talon (Core-i7 950)',\n",
       "  'Toshiba E205-S1980',\n",
       "  'Toshiba R600-S4202',\n",
       "  'Samsung Scala NP300E5A-A01UB',\n",
       "  'HP Firebird 803',\n",
       "  'Samsung QX410-J01 (60WH)',\n",
       "  'Toshiba CB35-B3340',\n",
       "  'Gateway GX7020',\n",
       "  'Razer Blade Stealth (4K UHD)',\n",
       "  'Sony EB33FM/BJ',\n",
       "  'MSI Gaming 24GE',\n",
       "  'Acer Revo RL100',\n",
       "  'Gateway MD7801u\\xc2\\x97both',\n",
       "  'Nvidia GeForce GT740',\n",
       "  'Intel Core powered Dell XPS 13',\n",
       "  'Lenovo V570-1066AJU',\n",
       "  'Toshiba P505-S8010',\n",
       "  'Nvidia GeForce 9400M',\n",
       "  'Acer C720P-2600',\n",
       "  'Dell Mini 12',\n",
       "  'Gateway DX4860',\n",
       "  'Asus Transformer Book T100TA',\n",
       "  'Samsung LN55A950',\n",
       "  'AMD Radeon R9 295X2-equipped',\n",
       "  'Lenovo V570-1066A9U',\n",
       "  'Gateway One ZX6900',\n",
       "  'Polywell Poly i2303',\n",
       "  'Dell XPS One is',\n",
       "  'Fujitsu LifeBook U810',\n",
       "  'Lenovo ThinkCentre M58p',\n",
       "  'Nvidia GeForce GT330M',\n",
       "  'Lenovo IdeaPad S12 and Samsung NC20 (21GBK)',\n",
       "  'Falcon Northwest Fragbook DRX and Gateway P-7808u',\n",
       "  'HP Envy Phoenix h9-1320t (31 seconds)',\n",
       "  'Samsung Exynos-powered Galaxy',\n",
       "  'Lenovo Yoga 13',\n",
       "  'Toshiba A665D-S6085',\n",
       "  'HP Stream 13 (13-c020nr)'])"
      ]
     },
     "execution_count": 12,
     "metadata": {},
     "output_type": "execute_result"
    }
   ],
   "source": [
    "#finding the non-overlapped set of predicted product name meeting filtration threshold\n",
    "diff = list(set(predict_names) - set(common))\n",
    "len(diff),diff"
   ]
  },
  {
   "cell_type": "code",
   "execution_count": 13,
   "metadata": {
    "collapsed": false
   },
   "outputs": [
    {
     "data": {
      "text/plain": [
       "set()"
      ]
     },
     "execution_count": 13,
     "metadata": {},
     "output_type": "execute_result"
    }
   ],
   "source": [
    "#checking if common and diff set does have anything in common\n",
    "set(common).intersection(diff)"
   ]
  },
  {
   "cell_type": "code",
   "execution_count": null,
   "metadata": {
    "collapsed": true
   },
   "outputs": [],
   "source": []
  }
 ],
 "metadata": {
  "kernelspec": {
   "display_name": "Python [Root]",
   "language": "python",
   "name": "Python [Root]"
  },
  "language_info": {
   "codemirror_mode": {
    "name": "ipython",
    "version": 2
   },
   "file_extension": ".py",
   "mimetype": "text/x-python",
   "name": "python",
   "nbconvert_exporter": "python",
   "pygments_lexer": "ipython2",
   "version": "2.7.12"
  }
 },
 "nbformat": 4,
 "nbformat_minor": 0
}
