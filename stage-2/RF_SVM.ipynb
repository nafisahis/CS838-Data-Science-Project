{
 "cells": [
  {
   "cell_type": "code",
   "execution_count": 1,
   "metadata": {
    "collapsed": false
   },
   "outputs": [],
   "source": [
    "import numpy as np\n",
    "import pandas as pd\n",
    "import os,sys\n",
    "\n",
    "# reading positive and negative csv files into dataframe\n",
    "pos_file = \"pos_feat_vec.csv\"\n",
    "neg_file = \"neg_feat_vec.csv\"\n",
    "\n",
    "pos = pd.read_csv(pos_file, header = 0)\n",
    "neg = pd.read_csv(neg_file, header = 0)\n",
    "Data = pd.concat([pos, neg])\n",
    "\n",
    "# shuffling the data frames\n",
    "from sklearn.utils import shuffle\n",
    "\n",
    "data = shuffle(Data, random_state=0)\n",
    "names = data.ix[:,0]\n",
    "labels = data.ix[:, len(data.columns) - 1]\n",
    "features = data.ix[:, 1: len(data.columns) - 1]\n",
    "\n",
    "features = features.as_matrix()\n",
    "labels = labels.as_matrix()"
   ]
  },
  {
   "cell_type": "code",
   "execution_count": 4,
   "metadata": {
    "collapsed": false
   },
   "outputs": [
    {
     "name": "stdout",
     "output_type": "stream",
     "text": [
      "('Accuracy: ', 0.91817957155237784)\n",
      "('Precision: ', 0.90376574365282281)\n",
      "('Recall: ', 0.90610537677932934)\n"
     ]
    }
   ],
   "source": [
    "from sklearn.ensemble import RandomForestClassifier\n",
    "from sklearn.model_selection import cross_val_score\n",
    "clf = RandomForestClassifier(n_estimators=10)\n",
    "fold = 10\n",
    "\n",
    "accuracy = cross_val_score(clf, features, labels, cv=fold)\n",
    "precision = cross_val_score(clf, features, labels, cv=fold, scoring='precision')\n",
    "recall = cross_val_score(clf, features, labels, cv=fold, scoring='recall')\n",
    "\n",
    "print('Accuracy: ', accuracy.sum() / fold)\n",
    "print('Precision: ', precision.sum() / fold)\n",
    "print('Recall: ', recall.sum() / fold)"
   ]
  },
  {
   "cell_type": "code",
   "execution_count": 5,
   "metadata": {
    "collapsed": false
   },
   "outputs": [
    {
     "name": "stdout",
     "output_type": "stream",
     "text": [
      "('Accuracy: ', 0.8856400985808689)\n",
      "('Precision: ', 0.87857810569316952)\n",
      "('Recall: ', 0.86510996424475484)\n"
     ]
    }
   ],
   "source": [
    "from sklearn import svm\n",
    "clf = svm.SVC()\n",
    "fold = 10\n",
    "\n",
    "accuracy = cross_val_score(clf, features, labels, cv=fold)\n",
    "precision = cross_val_score(clf, features, labels, cv=fold, scoring='precision')\n",
    "recall = cross_val_score(clf, features, labels, cv=fold, scoring='recall')\n",
    "\n",
    "print('Accuracy: ', accuracy.sum() / fold)\n",
    "print('Precision: ', precision.sum() / fold)\n",
    "print('Recall: ', recall.sum() / fold)"
   ]
  }
 ],
 "metadata": {
  "anaconda-cloud": {},
  "kernelspec": {
   "display_name": "Python [Root]",
   "language": "python",
   "name": "Python [Root]"
  },
  "language_info": {
   "codemirror_mode": {
    "name": "ipython",
    "version": 2
   },
   "file_extension": ".py",
   "mimetype": "text/x-python",
   "name": "python",
   "nbconvert_exporter": "python",
   "pygments_lexer": "ipython2",
   "version": "2.7.12"
  }
 },
 "nbformat": 4,
 "nbformat_minor": 0
}
