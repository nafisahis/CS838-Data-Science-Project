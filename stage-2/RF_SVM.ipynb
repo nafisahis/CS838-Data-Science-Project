{
 "cells": [
  {
   "cell_type": "code",
   "execution_count": 1,
   "metadata": {
    "collapsed": false
   },
   "outputs": [],
   "source": [
    "import numpy as np\n",
    "import pandas as pd\n",
    "import os,sys\n",
    "\n",
    "# reading positive and negative csv files into dataframe\n",
    "pos_file = \"pos_feat_vec.csv\"\n",
    "neg_file = \"neg_feat_vec.csv\"\n",
    "\n",
    "pos = pd.read_csv(pos_file, header = 0)\n",
    "neg = pd.read_csv(neg_file, header = 0)\n",
    "Data = pd.concat([pos, neg])\n",
    "\n",
    "# shuffling the data frames\n",
    "from sklearn.utils import shuffle\n",
    "\n",
    "data = shuffle(Data, random_state=0)\n",
    "names = data.ix[:,0]\n",
    "labels = data.ix[:, len(data.columns) - 1]\n",
    "features = data.ix[:, 1: len(data.columns) - 1]\n",
    "\n",
    "features = features.as_matrix()\n",
    "labels = labels.as_matrix()"
   ]
  },
  {
   "cell_type": "code",
   "execution_count": 2,
   "metadata": {
    "collapsed": false
   },
   "outputs": [],
   "source": [
    "#reading test dataset\n",
    "test_file = \"test_feat_vec.csv\"\n",
    "test_product = \"test_product_list.txt\"\n",
    "test = pd.read_csv(test_file, header = 0)\n",
    "names_position =  test.ix[:,0:3]\n",
    "test_feature = test.ix[:, 3: len(test.columns)]\n",
    "\n",
    "true_product = []\n",
    "start = []\n",
    "end = []\n",
    "with open(test_product) as f:\n",
    "    for line in f:\n",
    "        words =  line.strip('\\n').split(' ')\n",
    "        start.append(words[len(words)-2])\n",
    "        end.append(words[len(words)-1])\n",
    "        true_product.append(' '.join(words[0:len(words)-2]))"
   ]
  },
  {
   "cell_type": "code",
   "execution_count": 3,
   "metadata": {
    "collapsed": false
   },
   "outputs": [
    {
     "data": {
      "text/plain": [
       "(['Acer Aspire 5755-6482',\n",
       "  'Lenovo IdeaPad V570-1066AJU',\n",
       "  'Asus U56E-BBL6',\n",
       "  'Toshiba Satellite P755-S5215',\n",
       "  'Samsung NP300E5A-A01UB'],\n",
       " ['119', '4901', '4974', '5051', '5122'],\n",
       " ['140', '4928', '4988', '5079', '5144'],\n",
       " product_name    object\n",
       " start            int64\n",
       " end              int64\n",
       " dtype: object)"
      ]
     },
     "execution_count": 3,
     "metadata": {},
     "output_type": "execute_result"
    }
   ],
   "source": [
    "true_product[0:5], start[0:5], end[0:5], names_position.dtypes"
   ]
  },
  {
   "cell_type": "code",
   "execution_count": 4,
   "metadata": {
    "collapsed": false
   },
   "outputs": [
    {
     "name": "stdout",
     "output_type": "stream",
     "text": [
      "('Accuracy: ', 0.91542424981042136)\n",
      "('Precision: ', 0.90752400639916808)\n",
      "('Recall: ', 0.91431053093166048)\n"
     ]
    }
   ],
   "source": [
    "from sklearn.ensemble import RandomForestClassifier\n",
    "from sklearn.model_selection import cross_val_score\n",
    "rf = RandomForestClassifier(n_estimators=10)\n",
    "fold = 10\n",
    "\n",
    "accuracy = cross_val_score(rf, features, labels, cv=fold)\n",
    "precision = cross_val_score(rf, features, labels, cv=fold, scoring='precision')\n",
    "recall = cross_val_score(rf, features, labels, cv=fold, scoring='recall')\n",
    "\n",
    "print('Accuracy: ', accuracy.sum() / fold)\n",
    "print('Precision: ', precision.sum() / fold)\n",
    "print('Recall: ', recall.sum() / fold)"
   ]
  },
  {
   "cell_type": "code",
   "execution_count": 5,
   "metadata": {
    "collapsed": false
   },
   "outputs": [
    {
     "data": {
      "text/plain": [
       "array([0, 1, 0, ..., 0, 1, 0], dtype=int64)"
      ]
     },
     "execution_count": 5,
     "metadata": {},
     "output_type": "execute_result"
    }
   ],
   "source": [
    "rf.fit(features,labels)\n",
    "prediction = rf.predict(test_feature)\n",
    "prediction"
   ]
  },
  {
   "cell_type": "code",
   "execution_count": 120,
   "metadata": {
    "collapsed": false
   },
   "outputs": [],
   "source": [
    "with open('prediction_new.txt','w') as f:\n",
    "    for i, row in names_position.iterrows():\n",
    "            f.write('\\t'.join([row[0],str(prediction[i])]))\n",
    "            f.write('\\n')\n",
    "f.close()"
   ]
  },
  {
   "cell_type": "code",
   "execution_count": 6,
   "metadata": {
    "collapsed": false
   },
   "outputs": [
    {
     "data": {
      "text/plain": [
       "(337, 5778, 1123, 36, 7274)"
      ]
     },
     "execution_count": 6,
     "metadata": {},
     "output_type": "execute_result"
    }
   ],
   "source": [
    "Tp = 0\n",
    "Tn = 0\n",
    "Fp = 0\n",
    "Fn = 0\n",
    "\n",
    "for i, row in names_position.iterrows():\n",
    "    if row[0] in true_product:\n",
    "        index = true_product.index(row[0])\n",
    "        if (start[index] == str(row[1]) and end[index] == str(row[2])):\n",
    "            if (prediction[i] == 1):\n",
    "                Tp=Tp+1\n",
    "            else:\n",
    "                Fn=Fn+1\n",
    "        else:\n",
    "            if (prediction[i] == 1):\n",
    "                Fp=Fp+1\n",
    "            else:\n",
    "                Tn=Tn+1\n",
    "    else:\n",
    "        if (prediction[i] == 1):\n",
    "            Fp=Fp+1\n",
    "        else:\n",
    "            Tn=Tn+1\n",
    "Tp,Tn,Fp,Fn, (Tp+Tn+Fp+Fn)   \n",
    "\n"
   ]
  },
  {
   "cell_type": "code",
   "execution_count": 7,
   "metadata": {
    "collapsed": false
   },
   "outputs": [
    {
     "data": {
      "text/plain": [
       "(0.23082191780821917, 0.903485254691689)"
      ]
     },
     "execution_count": 7,
     "metadata": {},
     "output_type": "execute_result"
    }
   ],
   "source": [
    "precision = (float(Tp)/float(Tp+Fp))\n",
    "recall = (float(Tp)/float(Tp+Fn))\n",
    "precision, recall "
   ]
  },
  {
   "cell_type": "code",
   "execution_count": 5,
   "metadata": {
    "collapsed": false
   },
   "outputs": [
    {
     "name": "stdout",
     "output_type": "stream",
     "text": [
      "('Accuracy: ', 0.8856400985808689)\n",
      "('Precision: ', 0.87857810569316952)\n",
      "('Recall: ', 0.86510996424475484)\n"
     ]
    }
   ],
   "source": [
    "from sklearn import svm\n",
    "clf = svm.SVC()\n",
    "fold = 10\n",
    "\n",
    "accuracy = cross_val_score(clf, features, labels, cv=fold)\n",
    "precision = cross_val_score(clf, features, labels, cv=fold, scoring='precision')\n",
    "recall = cross_val_score(clf, features, labels, cv=fold, scoring='recall')\n",
    "\n",
    "print('Accuracy: ', accuracy.sum() / fold)\n",
    "print('Precision: ', precision.sum() / fold)\n",
    "print('Recall: ', recall.sum() / fold)"
   ]
  }
 ],
 "metadata": {
  "anaconda-cloud": {},
  "kernelspec": {
   "display_name": "Python [Root]",
   "language": "python",
   "name": "Python [Root]"
  },
  "language_info": {
   "codemirror_mode": {
    "name": "ipython",
    "version": 2
   },
   "file_extension": ".py",
   "mimetype": "text/x-python",
   "name": "python",
   "nbconvert_exporter": "python",
   "pygments_lexer": "ipython2",
   "version": "2.7.12"
  }
 },
 "nbformat": 4,
 "nbformat_minor": 0
}
