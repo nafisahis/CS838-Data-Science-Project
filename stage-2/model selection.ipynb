{
 "cells": [
  {
   "cell_type": "code",
   "execution_count": 1,
   "metadata": {
    "collapsed": false
   },
   "outputs": [],
   "source": [
    "import numpy as np\n",
    "import pandas as pd\n",
    "\n",
    "# reading positive and negative csv files into dataframe\n",
    "pos_file = \"Downloads/pos_feat_vec.csv\"\n",
    "neg_file = \"Downloads/neg_feat_vec.csv\"\n",
    "\n",
    "pos = pd.read_csv(pos_file, header = 0)\n",
    "neg = pd.read_csv(neg_file, header = 0)\n",
    "data = pd.concat([pos, neg])"
   ]
  },
  {
   "cell_type": "code",
   "execution_count": 2,
   "metadata": {
    "collapsed": false
   },
   "outputs": [],
   "source": [
    "# shuffling the data frames\n",
    "from sklearn.utils import shuffle\n",
    "\n",
    "data = shuffle(data, random_state=0)"
   ]
  },
  {
   "cell_type": "code",
   "execution_count": 3,
   "metadata": {
    "collapsed": false,
    "scrolled": true
   },
   "outputs": [],
   "source": [
    "names = data.ix[:,0]\n",
    "labels = data.ix[:, len(data.columns) - 1]\n",
    "features = data.ix[:, 1: len(data.columns) - 1]\n",
    "# features = features.drop('starts_with_brand', axis = 1)\n",
    "\n",
    "features = features.as_matrix()\n",
    "labels = labels.as_matrix()"
   ]
  },
  {
   "cell_type": "code",
   "execution_count": 4,
   "metadata": {
    "collapsed": false
   },
   "outputs": [
    {
     "name": "stdout",
     "output_type": "stream",
     "text": [
      "Accuracy:  0.8499732558769365\n",
      "Precision:  0.9085941457683895\n",
      "Recall:  0.7414671588523094\n"
     ]
    }
   ],
   "source": [
    "# training decision trees and performing cross-validation\n",
    "from sklearn.tree import DecisionTreeClassifier\n",
    "from sklearn.model_selection import KFold\n",
    "\n",
    "fold = 10\n",
    "threshold = 0.85\n",
    "\n",
    "dt = DecisionTreeClassifier(criterion = 'entropy', max_depth = 10)\n",
    "kf = KFold(n_splits = fold, shuffle = True)\n",
    "\n",
    "accuracy = []\n",
    "precision = []\n",
    "recall = []\n",
    "\n",
    "for train_index, test_index in kf.split(features):\n",
    "    features_train, features_test = features[train_index], features[test_index]\n",
    "    labels_train, labels_test = labels[train_index], labels[test_index]\n",
    "    \n",
    "    dt.fit(features_train, labels_train)\n",
    "    result = dt.predict_proba(features_test)\n",
    "    \n",
    "    tp = 0\n",
    "    fp = 0\n",
    "    tn = 0\n",
    "    fn = 0\n",
    "\n",
    "    for k in range(0, len(result)):\n",
    "        if labels_test[k] == 1:\n",
    "            if result[k][1] > threshold:\n",
    "                tp += 1\n",
    "            else:\n",
    "                fn += 1\n",
    "        else:\n",
    "            if result[k][1] > threshold:\n",
    "                fp += 1\n",
    "            else:\n",
    "                tn += 1\n",
    "\n",
    "    accuracy.append((tp + tn) / len(result))\n",
    "    precision.append(tp / (tp + fp))\n",
    "    recall.append(tp / (tp + fn))\n",
    "\n",
    "print('Accuracy: ', sum(accuracy) / fold)\n",
    "print('Precision: ', sum(precision) / fold)\n",
    "print('Recall: ', sum(recall) / fold)"
   ]
  },
  {
   "cell_type": "code",
   "execution_count": 5,
   "metadata": {
    "collapsed": false
   },
   "outputs": [
    {
     "name": "stdout",
     "output_type": "stream",
     "text": [
      "Accuracy:  0.8391263135088289\n",
      "Precision:  0.9578731616657912\n",
      "Recall:  0.6705862055814731\n"
     ]
    }
   ],
   "source": [
    "# training random forests and performing cross-validation\n",
    "from sklearn.ensemble import RandomForestClassifier\n",
    "\n",
    "fold = 10\n",
    "threshold = 0.85\n",
    "\n",
    "rf = RandomForestClassifier(criterion = 'entropy', n_estimators = 10, max_depth = 15)\n",
    "kf = KFold(n_splits = fold, shuffle = True)\n",
    "\n",
    "accuracy = []\n",
    "precision = []\n",
    "recall = []\n",
    "\n",
    "for train_index, test_index in kf.split(features):\n",
    "    features_train, features_test = features[train_index], features[test_index]\n",
    "    labels_train, labels_test = labels[train_index], labels[test_index]\n",
    "    \n",
    "    rf.fit(features_train, labels_train)\n",
    "    result = rf.predict_proba(features_test)\n",
    "    \n",
    "    tp = 0\n",
    "    fp = 0\n",
    "    tn = 0\n",
    "    fn = 0\n",
    "\n",
    "    for k in range(0, len(result)):\n",
    "        if labels_test[k] == 1:\n",
    "            if result[k][1] > threshold:\n",
    "                tp += 1\n",
    "            else:\n",
    "                fn += 1\n",
    "        else:\n",
    "            if result[k][1] > threshold:\n",
    "                fp += 1\n",
    "            else:\n",
    "                tn += 1\n",
    "\n",
    "    accuracy.append((tp + tn) / len(result))\n",
    "    precision.append(tp / (tp + fp))\n",
    "    recall.append(tp / (tp + fn))\n",
    "\n",
    "print('Accuracy: ', sum(accuracy) / fold)\n",
    "print('Precision: ', sum(precision) / fold)\n",
    "print('Recall: ', sum(recall) / fold)"
   ]
  },
  {
   "cell_type": "code",
   "execution_count": 6,
   "metadata": {
    "collapsed": false
   },
   "outputs": [
    {
     "name": "stdout",
     "output_type": "stream",
     "text": [
      "Accuracy:  0.885640098581\n",
      "Precision:  0.878578105693\n",
      "Recall:  0.865109964245\n"
     ]
    }
   ],
   "source": [
    "# training SVMs and performing cross-validation\n",
    "from sklearn import svm\n",
    "from sklearn.model_selection import cross_val_predict\n",
    "from sklearn.model_selection import cross_val_score\n",
    "\n",
    "s = svm.SVC()\n",
    "fold = 10\n",
    "\n",
    "s.fit(features, labels)\n",
    "\n",
    "accuracy = cross_val_score(s, features, labels, cv = fold)\n",
    "precision = cross_val_score(s, features, labels, cv = fold, scoring = 'precision')\n",
    "recall = cross_val_score(s, features, labels, cv = fold, scoring = 'recall')\n",
    "\n",
    "print('Accuracy: ', accuracy.sum() / fold)\n",
    "print('Precision: ', precision.sum() / fold)\n",
    "print('Recall: ', recall.sum() / fold)"
   ]
  },
  {
   "cell_type": "code",
   "execution_count": 7,
   "metadata": {
    "collapsed": false
   },
   "outputs": [
    {
     "name": "stdout",
     "output_type": "stream",
     "text": [
      "Accuracy:  0.8497921406131512\n",
      "Precision:  0.8237657812216856\n",
      "Recall:  0.8465529012084134\n"
     ]
    }
   ],
   "source": [
    "# training linear regressors and performing cross-validation\n",
    "from sklearn.linear_model import LinearRegression\n",
    "from sklearn.model_selection import KFold\n",
    "\n",
    "fold = 10\n",
    "threshold = 0.5\n",
    "rg = LinearRegression()\n",
    "kf = KFold(n_splits = fold, shuffle = True)\n",
    "\n",
    "accuracy = []\n",
    "precision = []\n",
    "recall = []\n",
    "\n",
    "for train_index, test_index in kf.split(features):\n",
    "    features_train, features_test = features[train_index], features[test_index]\n",
    "    labels_train, labels_test = labels[train_index], labels[test_index]\n",
    "    \n",
    "    rg.fit(features_train, labels_train)\n",
    "    result = rg.predict(features_test)\n",
    "    \n",
    "    tp = 0\n",
    "    fp = 0\n",
    "    tn = 0\n",
    "    fn = 0\n",
    "\n",
    "    for k in range(0, len(result)):\n",
    "        if labels_test[k] == 1:\n",
    "            if result[k] > threshold:\n",
    "                tp += 1\n",
    "            else:\n",
    "                fn += 1\n",
    "        else:\n",
    "            if result[k] > threshold:\n",
    "                fp += 1\n",
    "            else:\n",
    "                tn += 1\n",
    "\n",
    "    accuracy.append((tp + tn) / len(result))\n",
    "    precision.append(tp / (tp + fp))\n",
    "    recall.append(tp / (tp + fn))\n",
    "\n",
    "print('Accuracy: ', sum(accuracy) / fold)\n",
    "print('Precision: ', sum(precision) / fold)\n",
    "print('Recall: ', sum(recall) / fold)"
   ]
  },
  {
   "cell_type": "code",
   "execution_count": 8,
   "metadata": {
    "collapsed": false
   },
   "outputs": [
    {
     "name": "stdout",
     "output_type": "stream",
     "text": [
      "Accuracy:  0.894277773264\n",
      "Precision:  0.878551620938\n",
      "Recall:  0.890120083654\n"
     ]
    }
   ],
   "source": [
    "# training logistic regressors and performing cross-validation\n",
    "from sklearn.linear_model import LogisticRegression\n",
    "from sklearn.model_selection import cross_val_predict\n",
    "from sklearn.model_selection import cross_val_score\n",
    "\n",
    "lr = LogisticRegression()\n",
    "fold = 10\n",
    "\n",
    "lr.fit(features, labels)\n",
    "\n",
    "accuracy = cross_val_score(dt, features, labels, cv = fold)\n",
    "precision = cross_val_score(dt, features, labels, cv = fold, scoring='precision')\n",
    "recall = cross_val_score(dt, features, labels, cv = fold, scoring='recall')\n",
    "\n",
    "print('Accuracy: ', accuracy.sum() / fold)\n",
    "print('Precision: ', precision.sum() / fold)\n",
    "print('Recall: ', recall.sum() / fold)"
   ]
  },
  {
   "cell_type": "code",
   "execution_count": 9,
   "metadata": {
    "collapsed": false
   },
   "outputs": [],
   "source": [
    "# reading test csv files into dataframe\n",
    "test_file = 'Downloads/test_feat_vec.csv'\n",
    "test = pd.read_csv(test_file, header = 0)\n",
    "\n",
    "test_names = test.ix[:,0]\n",
    "test_positions = test.ix[:, 1: 3]\n",
    "test_features = test.ix[:, 3:]\n",
    "\n",
    "test_names = test_names.as_matrix()\n",
    "test_positions = test_positions.as_matrix()\n",
    "test_features = test_features.as_matrix()\n",
    "\n",
    "dt_result = dt.predict_proba(test_features)\n",
    "rf_result = rf.predict_proba(test_features)\n",
    "s.result = s.predict(test_features)\n",
    "rg_result = rg.predict(test_features)\n",
    "lr_result = lr.predict(test_features)"
   ]
  },
  {
   "cell_type": "code",
   "execution_count": 21,
   "metadata": {
    "collapsed": false
   },
   "outputs": [],
   "source": [
    "product_list = 'Downloads/test_product_list.txt'\n",
    "\n",
    "with open(product_list, 'r') as f:\n",
    "    ref = f.readlines()\n",
    "\n",
    "ref_names = []\n",
    "ref_positions = []\n",
    "\n",
    "for i, product in enumerate(ref):\n",
    "    ref[i] = product.split()\n",
    "    product_name = ' '.join(word for word in ref[i][:-2])\n",
    "    start_pos = int(ref[i][-2])\n",
    "    end_pos = int(ref[i][-1])\n",
    "\n",
    "    ref_names.append(product_name)\n",
    "    ref_positions.append([start_pos, end_pos])"
   ]
  },
  {
   "cell_type": "code",
   "execution_count": 32,
   "metadata": {
    "collapsed": false,
    "scrolled": true
   },
   "outputs": [
    {
     "name": "stdout",
     "output_type": "stream",
     "text": [
      "761 1014 5362 137\n",
      "Total number of test examples:  7274\n",
      "Accuracy:  0.841765191091559\n",
      "Precision:  0.4287323943661972\n",
      "Recall:  0.8474387527839644\n"
     ]
    }
   ],
   "source": [
    "tp = 0\n",
    "tn = 0\n",
    "fp = 0\n",
    "fn = 0\n",
    "\n",
    "threshold = 0.85\n",
    "\n",
    "for i, test_name in enumerate(test_names):\n",
    "    found = False\n",
    "    \n",
    "    for j, ref_name in enumerate(ref_names):\n",
    "        if test_name == ref_name and test_positions[i][0] == ref_positions[j][0] and test_positions[i][1] == ref_positions[j][1]:\n",
    "            found = True\n",
    "            \n",
    "            if rf_result[i][1] > threshold:\n",
    "                tp += 1\n",
    "            else:\n",
    "                fn += 1\n",
    "            break\n",
    "    \n",
    "    if not found:\n",
    "        if rf_result[i][1] > threshold:\n",
    "            fp += 1\n",
    "        else:\n",
    "            tn += 1\n",
    "\n",
    "print(tp, fp, tn, fn)\n",
    "print('Total number of test examples: ', tp + fp + tn + fn)\n",
    "\n",
    "accuracy = (tp + tn) / (tp + fp + tn + fn)\n",
    "precision = tp / (tp + fp)\n",
    "recall = tp / (tp + fn)\n",
    "\n",
    "print('Accuracy: ', accuracy)\n",
    "print('Precision: ', precision)\n",
    "print('Recall: ', recall)"
   ]
  },
  {
   "cell_type": "code",
   "execution_count": null,
   "metadata": {
    "collapsed": true
   },
   "outputs": [],
   "source": []
  }
 ],
 "metadata": {
  "anaconda-cloud": {},
  "kernelspec": {
   "display_name": "Python [Root]",
   "language": "python",
   "name": "Python [Root]"
  },
  "language_info": {
   "codemirror_mode": {
    "name": "ipython",
    "version": 2
   },
   "file_extension": ".py",
   "mimetype": "text/x-python",
   "name": "python",
   "nbconvert_exporter": "python",
   "pygments_lexer": "ipython2",
   "version": "2.7.12"
  }
 },
 "nbformat": 4,
 "nbformat_minor": 1
}
