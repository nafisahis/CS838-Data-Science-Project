{
 "cells": [
  {
   "cell_type": "code",
   "execution_count": 12,
   "metadata": {
    "collapsed": false
   },
   "outputs": [],
   "source": [
    "import numpy as np\n",
    "import pandas as pd\n",
    "\n",
    "# reading positive and negative csv files into dataframe\n",
    "pos_file = \"Downloads/pos_feat_vec.csv\"\n",
    "neg_file = \"Downloads/neg_feat_vec.csv\"\n",
    "\n",
    "pos = pd.read_csv(pos_file, header = 0)\n",
    "neg = pd.read_csv(neg_file, header = 0)\n",
    "data = pd.concat([pos, neg])"
   ]
  },
  {
   "cell_type": "code",
   "execution_count": 13,
   "metadata": {
    "collapsed": false
   },
   "outputs": [],
   "source": [
    "# shuffling the data frames\n",
    "from sklearn.utils import shuffle\n",
    "\n",
    "data = shuffle(data, random_state=0)"
   ]
  },
  {
   "cell_type": "code",
   "execution_count": 14,
   "metadata": {
    "collapsed": false,
    "scrolled": true
   },
   "outputs": [],
   "source": [
    "names = data.ix[:,0]\n",
    "labels = data.ix[:, len(data.columns) - 1]\n",
    "features = data.ix[:, 1: len(data.columns) - 1]\n",
    "\n",
    "features = features.as_matrix()\n",
    "labels = labels.as_matrix()"
   ]
  },
  {
   "cell_type": "code",
   "execution_count": 36,
   "metadata": {
    "collapsed": false
   },
   "outputs": [
    {
     "name": "stdout",
     "output_type": "stream",
     "text": [
      "Accuracy:  0.905128439497\n",
      "Precision:  0.883588501093\n",
      "Recall:  0.91307596303\n"
     ]
    }
   ],
   "source": [
    "# training decision trees and performing cross-validation\n",
    "from sklearn.tree import DecisionTreeClassifier\n",
    "from sklearn.model_selection import cross_val_predict\n",
    "from sklearn.model_selection import cross_val_score\n",
    "\n",
    "dt = DecisionTreeClassifier(criterion = 'gini', max_depth = 15)\n",
    "fold = 10\n",
    "\n",
    "accuracy = cross_val_score(dt, features, labels, cv = fold)\n",
    "precision = cross_val_score(dt, features, labels, cv = fold, scoring='precision')\n",
    "recall = cross_val_score(dt, features, labels, cv = fold, scoring='recall')\n",
    "\n",
    "print('Accuracy: ', accuracy.sum() / fold)\n",
    "print('Precision: ', precision.sum() / fold)\n",
    "print('Recall: ', recall.sum() / fold)"
   ]
  },
  {
   "cell_type": "code",
   "execution_count": 46,
   "metadata": {
    "collapsed": false
   },
   "outputs": [
    {
     "name": "stdout",
     "output_type": "stream",
     "text": [
      "Accuracy:  0.8027248537536561\n",
      "Precision:  0.9476116795825895\n",
      "Recall:  0.7095452841947075\n"
     ]
    }
   ],
   "source": [
    "# training linear regressors and performing cross-validation\n",
    "from sklearn.linear_model import LinearRegression\n",
    "from sklearn.model_selection import KFold\n",
    "\n",
    "fold = 10\n",
    "threshold = 0.3\n",
    "rg = LinearRegression()\n",
    "kf = KFold(n_splits = fold, shuffle = True)\n",
    "\n",
    "accuracy = []\n",
    "precision = []\n",
    "recall = []\n",
    "\n",
    "for train_index, test_index in kf.split(features):\n",
    "    features_train, features_test = features[train_index], features[test_index]\n",
    "    labels_train, labels_test = labels[train_index], labels[test_index]\n",
    "    \n",
    "    rg.fit(features_train, labels_train)\n",
    "    result = rg.predict(features_test)\n",
    "    \n",
    "    tp = 0\n",
    "    fp = 0\n",
    "    tn = 0\n",
    "    fn = 0\n",
    "\n",
    "    for k in range(0, len(result)):\n",
    "        if labels_test[k] == 1:\n",
    "            if result[k] > threshold:\n",
    "                tp += 1\n",
    "            else:\n",
    "                fn += 1\n",
    "        else:\n",
    "            if result[k] > threshold:\n",
    "                fp += 1\n",
    "            else:\n",
    "                tn += 1\n",
    "\n",
    "    accuracy.append((tp + tn) / len(result))\n",
    "    precision.append(tp / (tp + fn))\n",
    "    recall.append(tp / (tp + fp))\n",
    "\n",
    "print('Accuracy: ', sum(accuracy) / fold)\n",
    "print('Precision: ', sum(precision) / fold)\n",
    "print('Recall: ', sum(recall) / fold)"
   ]
  },
  {
   "cell_type": "code",
   "execution_count": 47,
   "metadata": {
    "collapsed": false
   },
   "outputs": [
    {
     "name": "stdout",
     "output_type": "stream",
     "text": [
      "Accuracy:  0.90641486567\n",
      "Precision:  0.882174759435\n",
      "Recall:  0.912256290899\n"
     ]
    }
   ],
   "source": [
    "# training logistic regressors and performing cross-validation\n",
    "from sklearn.linear_model import LogisticRegression\n",
    "from sklearn.model_selection import cross_val_predict\n",
    "from sklearn.model_selection import cross_val_score\n",
    "\n",
    "lr = LogisticRegression()\n",
    "fold = 10\n",
    "\n",
    "accuracy = cross_val_score(dt, features, labels, cv = fold)\n",
    "precision = cross_val_score(dt, features, labels, cv = fold, scoring='precision')\n",
    "recall = cross_val_score(dt, features, labels, cv = fold, scoring='recall')\n",
    "\n",
    "print('Accuracy: ', accuracy.sum() / fold)\n",
    "print('Precision: ', precision.sum() / fold)\n",
    "print('Recall: ', recall.sum() / fold)"
   ]
  },
  {
   "cell_type": "code",
   "execution_count": null,
   "metadata": {
    "collapsed": true
   },
   "outputs": [],
   "source": [
    "# reading test csv files into dataframe\n",
    "test_file = \"Downloads/test_feat_vec.csv\"\n",
    "test = pd.read_csv(test_file, header = 0)\n",
    "\n",
    "names = test.ix[:,0]\n",
    "positions = test.ix[:, 1: 2]\n",
    "features = test.ix[:, 3:]\n",
    "\n",
    "features = features.as_matrix()\n",
    "labels = labels.as_matrix()\n",
    "\n",
    "dt_result = dt.predict(features)\n",
    "rg_result = rg.predict(features)\n",
    "lr_result = lr.predict(features)"
   ]
  }
 ],
 "metadata": {
  "anaconda-cloud": {},
  "kernelspec": {
   "display_name": "Python [default]",
   "language": "python",
   "name": "python3"
  },
  "language_info": {
   "codemirror_mode": {
    "name": "ipython",
    "version": 3
   },
   "file_extension": ".py",
   "mimetype": "text/x-python",
   "name": "python",
   "nbconvert_exporter": "python",
   "pygments_lexer": "ipython3",
   "version": "3.5.2"
  }
 },
 "nbformat": 4,
 "nbformat_minor": 1
}
