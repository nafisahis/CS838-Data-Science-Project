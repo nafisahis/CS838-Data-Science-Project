{
 "cells": [
  {
   "cell_type": "markdown",
   "metadata": {},
   "source": [
    "## Entity Matching Workflow - 31st March 2017\n",
    "\n",
    "This notebook contains EM steps that has been done on songs using py_entitymatching. Our goal is to come up with a workflow to match songs from the datasets from a research lab from Silicon Valley. Specifically, we want Precision as 90% and Recall as high as possible. The datasets contain information about the songs.\n",
    "\n",
    "First, we need to import py_entitymatching package and other libraries:"
   ]
  },
  {
   "cell_type": "code",
   "execution_count": null,
   "metadata": {
    "collapsed": true
   },
   "outputs": [],
   "source": [
    "import py_entitymatching as em\n",
    "import pandas as pd\n",
    "import numpy as np"
   ]
  },
  {
   "cell_type": "markdown",
   "metadata": {},
   "source": [
    "### Reading tables"
   ]
  },
  {
   "cell_type": "code",
   "execution_count": null,
   "metadata": {
    "collapsed": true
   },
   "outputs": [],
   "source": [
    "path_A = os.path.join('..','dataset','datasets','tracks.csv')\n",
    "path_B = os.path.join('..','dataset','datasets','songs.csv')\n",
    "\n",
    "# Read the CSV files\n",
    "A = em.read_csv_metadata(path_A,low_memory=False) # setting the parameter low_memory to False  to speed up loading.\n",
    "B = em.read_csv_metadata(path_B,low_memory=False)"
   ]
  },
  {
   "cell_type": "markdown",
   "metadata": {},
   "source": [
    "### Down sampling tabels\n",
    "\n",
    "Two smaller datasets, track_sample.csv and songs_sample.csv, are produced by down sampling the full datasets. They contain 8592 and 10000 tuples, respectively."
   ]
  },
  {
   "cell_type": "code",
   "execution_count": null,
   "metadata": {
    "collapsed": true
   },
   "outputs": [],
   "source": [
    "#Down sample the tables\n",
    "sample_A, sample_B = em.down_sample(A, B, size=10000, y_param=1, show_progress=False)\n",
    "\n",
    "# Set 'ID as the keys to the input tables\n",
    "em.set_key(sample_A,'id')\n",
    "em.set_key(sample_B,'id')\n",
    "\n",
    "sample_A = sample_A.apply(lambda x: x.astype(str).str.lower())\n",
    "sample_B = sample_B.apply(lambda x: x.astype(str).str.lower())\n",
    "\n",
    "#Print lengths of the sampled tables\n",
    "print(len(sample_A))\n",
    "print(len(sample_B))\n",
    "\n",
    "#saving the down sampled datasets\n",
    "sample_A.to_csv('tracks_sample.csv', index = False, sep = ',')\n",
    "sample_B.to_csv('songs_sample.csv', index = False, sep = ',')\n",
    "\n",
    "#Get headers of sampled tables\n",
    "headers_A = list(A.columns)\n",
    "headers_B = list(B.columns)"
   ]
  },
  {
   "cell_type": "markdown",
   "metadata": {},
   "source": [
    "### Applying blocker on down sampled datasets\n"
   ]
  },
  {
   "cell_type": "code",
   "execution_count": null,
   "metadata": {
    "collapsed": true
   },
   "outputs": [],
   "source": [
    "block_f = em.get_features_for_blocking(sample_A, sample_B)\n",
    "block_f"
   ]
  },
  {
   "cell_type": "code",
   "execution_count": null,
   "metadata": {
    "collapsed": true
   },
   "outputs": [],
   "source": []
  }
 ],
 "metadata": {
  "kernelspec": {
   "display_name": "Python [Root]",
   "language": "python",
   "name": "Python [Root]"
  },
  "language_info": {
   "codemirror_mode": {
    "name": "ipython",
    "version": 2
   },
   "file_extension": ".py",
   "mimetype": "text/x-python",
   "name": "python",
   "nbconvert_exporter": "python",
   "pygments_lexer": "ipython2",
   "version": "2.7.12"
  }
 },
 "nbformat": 4,
 "nbformat_minor": 0
}
