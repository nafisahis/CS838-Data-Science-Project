{
 "cells": [
  {
   "cell_type": "markdown",
   "metadata": {},
   "source": [
    "## Entity Matching Workflow - 31st March 2017\n",
    "\n",
    "This notebook contains EM steps that has been done on songs using py_entitymatching. Our goal is to come up with a workflow to match songs from the datasets from a research lab from Silicon Valley. Specifically, we want Precision as 90% and Recall as high as possible. The datasets contain information about the songs.\n",
    "\n",
    "First, we need to import py_entitymatching package and other libraries:"
   ]
  },
  {
   "cell_type": "code",
   "execution_count": null,
   "metadata": {
    "collapsed": true
   },
   "outputs": [],
   "source": [
    "import py_entitymatching as em\n",
    "import pandas as pd\n",
    "import numpy as np"
   ]
  },
  {
   "cell_type": "markdown",
   "metadata": {},
   "source": [
    "### Reading tables"
   ]
  },
  {
   "cell_type": "code",
   "execution_count": null,
   "metadata": {
    "collapsed": true
   },
   "outputs": [],
   "source": [
    "path_A = os.path.join('..','dataset','datasets','tracks.csv')\n",
    "path_B = os.path.join('..','dataset','datasets','songs.csv')\n",
    "\n",
    "# Read the CSV files\n",
    "A = em.read_csv_metadata(path_A,low_memory=False) # setting the parameter low_memory to False  to speed up loading.\n",
    "B = em.read_csv_metadata(path_B,low_memory=False)"
   ]
  },
  {
   "cell_type": "markdown",
   "metadata": {},
   "source": [
    "### Down sampling tabels\n",
    "\n",
    "Two smaller datasets, track_sample.csv and songs_sample.csv, are produced by down sampling the full datasets. They contain 8592 and 10000 tuples, respectively. \n",
    "\n",
    "To avoid case-sensitive string matching, we also changed the entire tables to lowercase. "
   ]
  },
  {
   "cell_type": "code",
   "execution_count": null,
   "metadata": {
    "collapsed": true
   },
   "outputs": [],
   "source": [
    "#Down sample the tables\n",
    "sample_A, sample_B = em.down_sample(A, B, size=10000, y_param=1, show_progress=False)\n",
    "\n",
    "# Set 'ID as the keys to the input tables\n",
    "em.set_key(sample_A,'id')\n",
    "em.set_key(sample_B,'id')\n",
    "\n",
    "sample_A = sample_A.apply(lambda x: x.astype(str).str.lower())\n",
    "sample_B = sample_B.apply(lambda x: x.astype(str).str.lower())\n",
    "\n",
    "#Print lengths of the sampled tables\n",
    "print(len(sample_A))\n",
    "print(len(sample_B))\n",
    "\n",
    "#saving the down sampled datasets\n",
    "sample_A.to_csv('tracks_sample.csv', index = False, sep = ',')\n",
    "sample_B.to_csv('songs_sample.csv', index = False, sep = ',')\n",
    "\n",
    "#Get headers of sampled tables\n",
    "headers_A = list(A.columns)\n",
    "headers_B = list(B.columns)"
   ]
  },
  {
   "cell_type": "markdown",
   "metadata": {},
   "source": [
    "### Applying blocker on down sampled datasets\n"
   ]
  },
  {
   "cell_type": "markdown",
   "metadata": {},
   "source": [
    "Before we do the matching, we would like to remove the obviously non-matching tuple pairs from the down sampled tables. This would reduce the number of tuple pairs considered for matching."
   ]
  },
  {
   "cell_type": "markdown",
   "metadata": {},
   "source": [
    "We know that two songs with different artist names and vice versa will not match. So we decide to apply blocking over song title and artist name."
   ]
  },
  {
   "cell_type": "code",
   "execution_count": null,
   "metadata": {
    "collapsed": true
   },
   "outputs": [],
   "source": [
    "block_f = em.get_features_for_blocking(sample_A, sample_B)\n",
    "\n",
    "path_A = 'tracks_sample.csv'\n",
    "path_B = 'songs_sample.csv'\n",
    "\n",
    "# Read the CSV files\n",
    "sample_A = em.read_csv_metadata(path_A,key='id',low_memory=False)\n",
    "sample_B = em.read_csv_metadata(path_B,key='id',low_memory=False)"
   ]
  },
  {
   "cell_type": "markdown",
   "metadata": {},
   "source": [
    "Three rules were applied in a sequence to remove tuple pairs that are unlikely to match.\n",
    "\n",
    "**1)\tPairs whose song names have a jaccard score (3-grams) lower than 0.1 were removed.**\n",
    "\n",
    "**2)\tPairs whose song names have less than 25% common words were removed. **\n",
    "\n",
    "**3)\tPairs whose artists have less than 25% common words were removed. **\n",
    "\n",
    "Two helper functions ***title_function*** and ***artists_function***, defined above, were used to filter out tuples according to these rules"
   ]
  },
  {
   "cell_type": "code",
   "execution_count": null,
   "metadata": {
    "collapsed": true
   },
   "outputs": [],
   "source": [
    "def title_function(x, y):\n",
    "\n",
    "    x_title = str(x['song_title'])\n",
    "    y_title = str(y['song_title'])\n",
    "    \n",
    "    if (x_title in y_title) or (y_title in x_title):\n",
    "        return False\n",
    "    else:\n",
    "        x_split = x_title.split()\n",
    "        y_split = y_title.split()\n",
    "        \n",
    "        intersection = len(set(x_split) & set(y_split))\n",
    "        union = len(set(x_split) | set(y_split))\n",
    "        \n",
    "        if(intersection / union < 0.25):\n",
    "            return True\n",
    "        else:\n",
    "            return False"
   ]
  },
  {
   "cell_type": "code",
   "execution_count": null,
   "metadata": {
    "collapsed": true
   },
   "outputs": [],
   "source": [
    "def artists_function(x, y):\n",
    "\n",
    "    x_artists = str(x['artists'])\n",
    "    y_artists = str(y['artists'])\n",
    "    \n",
    "    if (x_artists in y_artists) or (y_artists in x_artists):\n",
    "        return False\n",
    "    else:\n",
    "        x_split = x_artists.split()\n",
    "        y_split = y_artists.split()\n",
    "        \n",
    "        intersection = len(set(x_split) & set(y_split))\n",
    "        union = len(set(x_split) | set(y_split))\n",
    "        \n",
    "        if(intersection / union < 0.25):\n",
    "            return True\n",
    "        else:\n",
    "            return False"
   ]
  },
  {
   "cell_type": "code",
   "execution_count": null,
   "metadata": {
    "collapsed": true
   },
   "outputs": [],
   "source": [
    "rb = em.RuleBasedBlocker()\n",
    "ob = em.OverlapBlocker()\n",
    "bb = em.BlackBoxBlocker()\n",
    "\n",
    "# remove pairs that don't share similar titles\n",
    "rule1 = ['song_title_song_title_jac_qgm_3_qgm_3(ltuple, rtuple) < 0.1']\n",
    "rb.add_rule(rule1, block_f)\n",
    "\n",
    "C1 = rb.block_tables(sample_A, sample_B, l_output_attrs=['song_title','year','artists'], r_output_attrs=['song_title','year','artists'], show_progress=False)\n",
    "\n",
    "bb.set_black_box_function(title_function)\n",
    "C2 = bb.block_candset(C1)\n",
    "\n",
    "bb.set_black_box_function(artists_function)\n",
    "C3 = bb.block_candset(C2)"
   ]
  },
  {
   "cell_type": "code",
   "execution_count": null,
   "metadata": {
    "collapsed": true
   },
   "outputs": [],
   "source": [
    "print(len(C3))\n",
    "C3.head(50)"
   ]
  },
  {
   "cell_type": "code",
   "execution_count": 1,
   "metadata": {
    "collapsed": false
   },
   "outputs": [
    {
     "ename": "NameError",
     "evalue": "name 'em' is not defined",
     "output_type": "error",
     "traceback": [
      "\u001b[1;31m---------------------------------------------------------------------------\u001b[0m",
      "\u001b[1;31mNameError\u001b[0m                                 Traceback (most recent call last)",
      "\u001b[1;32m<ipython-input-1-428507275af4>\u001b[0m in \u001b[0;36m<module>\u001b[1;34m()\u001b[0m\n\u001b[0;32m      1\u001b[0m \u001b[1;31m# debug the blocker\u001b[0m\u001b[1;33m\u001b[0m\u001b[1;33m\u001b[0m\u001b[0m\n\u001b[1;32m----> 2\u001b[1;33m \u001b[0mdbg\u001b[0m \u001b[1;33m=\u001b[0m \u001b[0mem\u001b[0m\u001b[1;33m.\u001b[0m\u001b[0mdebug_blocker\u001b[0m\u001b[1;33m(\u001b[0m\u001b[0mC2\u001b[0m\u001b[1;33m,\u001b[0m \u001b[0msample_A\u001b[0m\u001b[1;33m,\u001b[0m \u001b[0msample_B\u001b[0m\u001b[1;33m,\u001b[0m \u001b[0moutput_size\u001b[0m\u001b[1;33m=\u001b[0m\u001b[1;36m50\u001b[0m\u001b[1;33m)\u001b[0m\u001b[1;33m\u001b[0m\u001b[0m\n\u001b[0m",
      "\u001b[1;31mNameError\u001b[0m: name 'em' is not defined"
     ]
    }
   ],
   "source": [
    "# debug the blocker\n",
    "dbg = em.debug_blocker(C2, sample_A, sample_B, output_size=50)\n",
    "dbg"
   ]
  },
  {
   "cell_type": "code",
   "execution_count": null,
   "metadata": {
    "collapsed": true
   },
   "outputs": [],
   "source": [
    "#Sample the result set C6\n",
    "S= em.sample_table(C3,400)\n",
    "\n",
    "# label the sampled data\n",
    "\n",
    "# CRITERIA:\n",
    "#\n",
    "# - same song name (excluding version information)\n",
    "#    - same or common artist(s) -> MATCH\n",
    "#    - completely different artist(s) -> MISMATCH\n",
    "#    - artist(s) missing -> MISMATCH\n",
    "\n",
    "G = em.label_table(S, label_column_name='gold_labels')\n",
    "\n",
    "G.to_csv('labeled_data.csv', index = False, sep = ',')"
   ]
  }
 ],
 "metadata": {
  "kernelspec": {
   "display_name": "Python [Root]",
   "language": "python",
   "name": "Python [Root]"
  },
  "language_info": {
   "codemirror_mode": {
    "name": "ipython",
    "version": 2
   },
   "file_extension": ".py",
   "mimetype": "text/x-python",
   "name": "python",
   "nbconvert_exporter": "python",
   "pygments_lexer": "ipython2",
   "version": "2.7.12"
  }
 },
 "nbformat": 4,
 "nbformat_minor": 0
}
