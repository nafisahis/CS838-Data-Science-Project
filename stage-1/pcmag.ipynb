{
 "cells": [
  {
   "cell_type": "code",
   "execution_count": 2,
   "metadata": {
    "collapsed": true
   },
   "outputs": [],
   "source": [
    "import urllib.request\n",
    "import re\n",
    "import time\n",
    "\n",
    "links = []\n",
    "\n",
    "# laptops\n",
    "for page_no in range(1,187) :\n",
    "    url = \"http://www.pcmag.com/products/1565/\" + str(page_no)\n",
    "    website = urllib.request.urlopen(url)\n",
    "    html = website.read().decode('utf8')\n",
    "    new_links = re.findall('\"http://www.pcmag.com/review/\\d+/[\\w+-]+\"', html)\n",
    "    new_links = re.findall('\"http://www.pcmag.com/article2/[\\d,]+.asp\"', html)\n",
    "    links = links + new_links\n",
    "    time.sleep(0.1)"
   ]
  },
  {
   "cell_type": "code",
   "execution_count": 3,
   "metadata": {
    "collapsed": true
   },
   "outputs": [],
   "source": [
    "# desktops\n",
    "for page_no in range(1,132) :\n",
    "    url = \"http://www.pcmag.com/products/1564/\" + str(page_no)\n",
    "    website = urllib.request.urlopen(url)\n",
    "    html = website.read().decode('utf8')\n",
    "    new_links = re.findall('\"http://www.pcmag.com/review/\\d+/[\\w+-]+\"', html)\n",
    "    new_links = re.findall('\"http://www.pcmag.com/article2/[\\d,]+.asp\"', html)\n",
    "    links = links + new_links\n",
    "    time.sleep(0.1)"
   ]
  },
  {
   "cell_type": "code",
   "execution_count": 4,
   "metadata": {
    "collapsed": true
   },
   "outputs": [],
   "source": [
    "# desktops\n",
    "for page_no in range(1,39) :\n",
    "    url = \"http://www.pcmag.com/products/27996/\" + str(page_no)\n",
    "    website = urllib.request.urlopen(url)\n",
    "    html = website.read().decode('utf8')\n",
    "    new_links = re.findall('\"http://www.pcmag.com/review/\\d+/[\\w+-]+\"', html)\n",
    "    new_links = re.findall('\"http://www.pcmag.com/article2/[\\d,]+.asp\"', html)\n",
    "    links = links + new_links\n",
    "    time.sleep(0.1)"
   ]
  },
  {
   "cell_type": "code",
   "execution_count": 5,
   "metadata": {
    "collapsed": false
   },
   "outputs": [
    {
     "data": {
      "text/plain": [
       "3255"
      ]
     },
     "execution_count": 5,
     "metadata": {},
     "output_type": "execute_result"
    }
   ],
   "source": [
    "links = list(set(links))\n",
    "len(links)"
   ]
  },
  {
   "cell_type": "code",
   "execution_count": 6,
   "metadata": {
    "collapsed": false
   },
   "outputs": [],
   "source": [
    "spec_links = []\n",
    "\n",
    "for link in links:\n",
    "    spec_link = link[1:-1] + \"?tab=Specs\"\n",
    "    spec_links.append(spec_link)"
   ]
  },
  {
   "cell_type": "code",
   "execution_count": 7,
   "metadata": {
    "collapsed": false
   },
   "outputs": [
    {
     "data": {
      "text/plain": [
       "3255"
      ]
     },
     "execution_count": 7,
     "metadata": {},
     "output_type": "execute_result"
    }
   ],
   "source": [
    "spec_links = list(set(spec_links))\n",
    "len(spec_links)"
   ]
  },
  {
   "cell_type": "code",
   "execution_count": 10,
   "metadata": {
    "collapsed": false
   },
   "outputs": [
    {
     "ename": "FileNotFoundError",
     "evalue": "[Errno 2] No such file or directory: 'Downloads/product_names.txt'",
     "output_type": "error",
     "traceback": [
      "\u001b[0;31m---------------------------------------------------------------------------\u001b[0m",
      "\u001b[0;31mFileNotFoundError\u001b[0m                         Traceback (most recent call last)",
      "\u001b[0;32m<ipython-input-10-39cdfb8b98ce>\u001b[0m in \u001b[0;36m<module>\u001b[0;34m()\u001b[0m\n\u001b[1;32m     20\u001b[0m     \u001b[0mtitles\u001b[0m\u001b[0;34m.\u001b[0m\u001b[0mappend\u001b[0m\u001b[0;34m(\u001b[0m\u001b[0mtitle\u001b[0m\u001b[0;34m)\u001b[0m\u001b[0;34m\u001b[0m\u001b[0m\n\u001b[1;32m     21\u001b[0m \u001b[0;34m\u001b[0m\u001b[0m\n\u001b[0;32m---> 22\u001b[0;31m \u001b[0mf\u001b[0m \u001b[0;34m=\u001b[0m \u001b[0mopen\u001b[0m\u001b[0;34m(\u001b[0m\u001b[0;34m\"Downloads/product_names.txt\"\u001b[0m\u001b[0;34m,\u001b[0m \u001b[0;34m'w'\u001b[0m\u001b[0;34m)\u001b[0m\u001b[0;34m\u001b[0m\u001b[0m\n\u001b[0m\u001b[1;32m     23\u001b[0m \u001b[0mf\u001b[0m\u001b[0;34m.\u001b[0m\u001b[0mwrite\u001b[0m\u001b[0;34m(\u001b[0m\u001b[0mtitles\u001b[0m\u001b[0;34m)\u001b[0m\u001b[0;34m\u001b[0m\u001b[0m\n\u001b[1;32m     24\u001b[0m \u001b[0mf\u001b[0m\u001b[0;34m.\u001b[0m\u001b[0mclose\u001b[0m\u001b[0;34m\u001b[0m\u001b[0m\n",
      "\u001b[0;31mFileNotFoundError\u001b[0m: [Errno 2] No such file or directory: 'Downloads/product_names.txt'"
     ]
    }
   ],
   "source": [
    "from bs4 import BeautifulSoup\n",
    "\n",
    "titles = []\n",
    "\n",
    "for page in spec_links:\n",
    "    website = urllib.request.urlopen(page)\n",
    "    html = website.read().decode('utf8')\n",
    "    \n",
    "    # parse html\n",
    "    soup = BeautifulSoup(html, \"lxml\")\n",
    "    \n",
    "    # fetch item name\n",
    "    title_block = soup.find('h1', class_=\"item fn\")\n",
    "    \n",
    "    if title_block is None:\n",
    "        title = ''\n",
    "    else:\n",
    "        title = title_block.text\n",
    "    \n",
    "    titles.append(title)"
   ]
  },
  {
   "cell_type": "code",
   "execution_count": 11,
   "metadata": {
    "collapsed": false
   },
   "outputs": [
    {
     "data": {
      "text/plain": [
       "3255"
      ]
     },
     "execution_count": 11,
     "metadata": {},
     "output_type": "execute_result"
    }
   ],
   "source": [
    "len(titles)"
   ]
  },
  {
   "cell_type": "code",
   "execution_count": 14,
   "metadata": {
    "collapsed": false
   },
   "outputs": [],
   "source": [
    "f = open(\"product_names.txt\", 'w')\n",
    "\n",
    "for title in titles:\n",
    "    if title != '':\n",
    "        f.write(title + '\\n')\n",
    "\n",
    "f.close()"
   ]
  },
  {
   "cell_type": "code",
   "execution_count": 65,
   "metadata": {
    "collapsed": false
   },
   "outputs": [
    {
     "data": {
      "text/plain": [
       "1346"
      ]
     },
     "execution_count": 65,
     "metadata": {},
     "output_type": "execute_result"
    }
   ],
   "source": [
    "import csv\n",
    "f = open('pcmag.csv', 'w')\n",
    "fields = ['Title', 'Rating', 'Editor Rating', 'MSRP', 'Type', 'Processor Name', 'Processor Speed', 'Operating System', 'RAM', 'Graphics Card', 'Storage Capacity (as Tested)', 'Storage Type', 'Screen Size', 'Resolution', 'Screen Type', 'Weight', 'Battery Rundown', 'PCMark7', 'PCMark 8 - Work Conventional', '3-D BENCHMARK TESTS - 3DMark06 - 1,024 x 768 - Default', '3-D BENCHMARK TESTS - 3DMark06 - Native – 0X/4X', '3DMark 11 Entry - 3D Benchmark Tests', '3DMark 11 Extreme - 3D Benchmark Tests', '3DMark - Cloud Gate', '3DMark - Fire Strike Extreme', 'Lost Planet 2 (DX9) - Middle quality - 1,024 x 768- AA/AF=Off/Off', 'Lost Planet 2 (DX9) - High quality - Native - AA/AF= 0X/4X', 'Crysis - Medium quality - 1,024 x 768 - AA/AF=Off/Off', 'Crysis - High quality - Native - AA/AF= 0X/4X', 'Heaven - Mid quality - 1,366 x 768 - AA/AF=Off/Off', 'Heaven - Max quality - Native - AA/AF=4X/4X:', 'Heaven 4.0 - Medium Quality - 1366 x 768 - Off', 'Heaven 4.0 - Ultra Quality - Native - 4X', 'Aliens vs. Predator - Mid quality - 1,366 x 768 - AA/AF=Off/Off', 'Aliens vs. Predator - Max quality - Native - AA/AF=4X/4X', 'Valley 1.0 - Medium Quality - 1366 x 768 - Off', 'Valley 1.0 - Ultra Quality - Native 4X', 'Handbrake Multimedia Tests', 'Handbrake 0.9.9', 'CineBench 11.5 Multimedia Tests', 'CineBench R15', 'MULTIMEDIA TESTS - PhotoShop CS5', 'Photoshop CS6 Multimedia Tests', 'MobileMark 2007- Performance score', 'MobileMark 2007 – Standard Battery Productivity Load (hrs:min)']\n",
    "writer = csv.writer(f, delimiter = ',')\n",
    "writer.writerow(fields)"
   ]
  },
  {
   "cell_type": "code",
   "execution_count": 66,
   "metadata": {
    "collapsed": false
   },
   "outputs": [],
   "source": [
    "for page in spec_links:\n",
    "    website = urllib.request.urlopen(page)\n",
    "    html = website.read().decode('utf8')\n",
    "    \n",
    "    # parse html\n",
    "    soup = BeautifulSoup(html, \"lxml\")\n",
    "    \n",
    "    # fetch item name\n",
    "    title_block = soup.find('h1', class_=\"item fn\")\n",
    "    \n",
    "    if title_block is None:\n",
    "        title = ''\n",
    "    else:\n",
    "        title = title_block.text\n",
    "    \n",
    "    attribute_list = ['Title']\n",
    "    value_list = [title]\n",
    "    \n",
    "    rating_block = soup.find('span', class_=\"value-title\")\n",
    "    \n",
    "    if rating_block is None:\n",
    "        rating = ''\n",
    "        editor_rating = ''\n",
    "    else:\n",
    "        rating = rating_block.get('title')\n",
    "        editor_rating = rating_block.text\n",
    "        \n",
    "        if rating is None:\n",
    "            rating = ''\n",
    "        if editor_rating is None:\n",
    "            editor_rating = ''\n",
    "    \n",
    "    attribute_list.append('Rating')\n",
    "    attribute_list.append('Editor Rating')\n",
    "    value_list.append(rating)\n",
    "    value_list.append(editor_rating)\n",
    "    \n",
    "    msrp_block = soup.find('span', id=\"msrp-value\")\n",
    "    \n",
    "    if msrp_block is None:\n",
    "        msrp = ''\n",
    "    else:\n",
    "        msrp = msrp_block.text\n",
    "    \n",
    "        if msrp is None:\n",
    "            msrp = ''\n",
    "        else:\n",
    "            msrp = msrp[1:]\n",
    "    \n",
    "    attribute_list.append(\"MSRP\")\n",
    "    value_list.append(msrp)\n",
    "    \n",
    "    spec_data = soup.find('div', class_=\"review-specdata\")\n",
    "    \n",
    "    if not (spec_data is None):\n",
    "        td_list = spec_data.find_all('td', class_=\"spectd\")\n",
    "    \n",
    "        for td in td_list:\n",
    "            b = td.find('b')\n",
    "            attribute_list.append(b.text[:-1])\n",
    "            value_list.append(td.contents[1])\n",
    "    \n",
    "        #print(attribute_list)\n",
    "        #print(value_list)\n",
    "    \n",
    "    row = []\n",
    "\n",
    "    for field in fields:\n",
    "        found = False\n",
    "    \n",
    "        for index, attribute in enumerate(attribute_list):\n",
    "            if field == attribute:\n",
    "                row.append(value_list[index])\n",
    "                found = True\n",
    "                break\n",
    "        \n",
    "        if not found:\n",
    "            row.append(\"\")\n",
    "\n",
    "    writer.writerow(row)\n",
    "    time.sleep(1)"
   ]
  },
  {
   "cell_type": "code",
   "execution_count": 67,
   "metadata": {
    "collapsed": true
   },
   "outputs": [],
   "source": [
    "f.close()"
   ]
  },
  {
   "cell_type": "code",
   "execution_count": 123,
   "metadata": {
    "collapsed": false
   },
   "outputs": [
    {
     "name": "stdout",
     "output_type": "stream",
     "text": [
      "Lenovo ThinkPad X60s\n",
      "Velocity Micro Raptor Z90\n",
      "Dell Inspiron Zino HD (Inspiron 400)\n",
      "Toshiba Satellite P845-S4200\n",
      "Acer Iconia A1-830\n",
      "Lenovo Yoga 900\n",
      "Dell PowerEdge T620\n",
      "HP Pavilion g7-1033cl\n",
      "V3 Gaming PC Move 3DS\n",
      "WinBook Si\n",
      "A Flair for Productivity\n",
      "Boxx Apexx 2\n",
      "Fujitsu Lifebook S6510\n",
      "Acer Aspire G7700-UQ9550A Predator\n",
      "Asus U52F-BBL9\n",
      "Compaq Presario 7000T, 7000Z\n",
      "Lenovo IdeaPad Z560 0914-3YU\n",
      "MSI X-Slim X420\n",
      "Acer Aspire One (D250-1958)\n",
      "Acer Aspire 4710-2013\n",
      "Dell Inspiron 700m\n",
      "Gateway M520CS Plus (Iss. 21 2004)\n",
      "IBM NetVista M42\n",
      "HP G72-250us\n",
      "Dell Inspiron E1505 (Core 2 Duo)\n",
      "HP TouchSmart 520-1030\n",
      "HP Compaq nc8200\n",
      "Lenovo A10 Tablet\n",
      "Systemax Ascent XX A22\n",
      "Maingear Pulse 11\n",
      "HP Media Center PC 873n\n",
      "Apple MacBook Air 13-inch (Thunderbolt)\n",
      "Dell Precision Workstation 360\n",
      "Asus N53SV-A1\n",
      "Falcon Northwest Mach V (GeForce 8800 Ultra SLI)\n",
      "Toshiba Portégé 4010\n",
      "Stealth LPC-100M\n",
      "Asus K53SV-B1\n",
      "Lenovo IdeaPad Y500\n",
      "Alienware Aurora m7700\n",
      "Dell XPS M170\n",
      "The Multi-CPU Eon Begins\n",
      "iBuypower Gamer Power BTS11\n",
      "HP G60 (441us)\n",
      "Panasonic Toughbook CF-Y7\n",
      "MSI GX70 3Be-007US \n",
      "Motion Computing LE1600\n",
      "Sony VAIO E15 (SVE15116FXS)\n",
      "Dell Venue 10 Pro Tablet 5000 Series\n",
      "Acer Aspire S7-191-6640\n",
      "Toshiba Satellite E305-S1990X\n",
      "Acer Aspire V5-571P-6627\n",
      "Apple MacBook Pro 15-Inch Retina Display (2014)\n",
      "Maingear Drift\n",
      "Dell Latitude E6540\n",
      "HP Compaq Presario S4000T\n",
      "ASUS S6F\n",
      "SYS Performance 1100T\n",
      "HP Pavilion dv6-6110us\n",
      "Lenovo ThinkPad X100e\n",
      "HP Pavilion dv2 (1030-us)\n",
      "Cyberpower Gamer Xtreme 9000\n",
      "HP ProBook 5330M \n",
      "Lenovo ThinkPad Helix\n",
      "Apple iMac G5 (iSight)\n",
      "WinBook PowerSpec 8436\n",
      "Voodoo Omen a121x Extreme Gamer PC\n",
      "HP Pavilion p6610f\n",
      "Velocity Micro NoteMagix B50 Ultra\n",
      "Dell Dimension 4550\n",
      "HP EliteBook 8470p\n",
      "HP Pavilion Elite HPE-140f\n",
      "Acer Aspire 7736Z-4809\n",
      "PC Club Enpower Silencer \n",
      "Averatec AV3715-EH1\n",
      "Acer Aspire M5-583P-6428\n",
      "Dell Inspiron 14R-1761MRB\n",
      "Toshiba Paperback Tablet\n",
      "HP Pavilion Slimline s5-1020\n",
      "ABS Awesome 6350\n",
      "Apple eMac (1.42GHz, SuperDrive DL)\n",
      "Lenovo ThinkCentre A51 Ultra Small (8105-26U)\n",
      "Toshiba Tecra 8200\n",
      "Lenovo Z40\n",
      "Toshiba Satellite L745-S4210\n",
      "Dell Latitude E6420-ATG\n",
      "Apple iBook\n",
      "Lenovo IdeaPad Yoga 11\n",
      "Dell Inspiron E1705 (Vista)\n",
      "Gateway SX2850-33\n",
      "V3 Crave\n",
      "MSI GX60 1AC-021US\n",
      "Kupa UltraNote X15 Ultra\n",
      "HP Pavilion dv7-4153cl\n",
      "HP Pavilion P7-1520t CTO\n",
      "HTC Jetstream (AT&T)\n",
      "Apple MacBook (2016)\n",
      "Asus VivoBook S56CA-DH31-CA\n",
      "V3 Convoy\n",
      "Dell Dimension 4300\n",
      "QualysGuard 2.8\n",
      "Acer Aspire R7-572-6423\n",
      "Gateway 700C\n",
      "Apple iMac 21.5-Inch With 4K Retina Display (2015)\n",
      "Large-Screen Notebooks Push the Limits of Portability\n",
      "Pandigital Star\n",
      "Motorola Droid Xyboard 8.2 (Verizon Wireless)\n",
      "Cherrypal CherryPad\n",
      "Toshiba Kirabook 13 i7s Touch\n",
      "Lenovo G560-0679AKU\n",
      "Dell Latitude C610\n",
      "Acer Chromebook R 11 (CB5-132T-C1LK)\n",
      "Fujitsu LifeBook S6520\n",
      "Systemax Venture DH53IV\n",
      "MicronPC TransPort GX3\n",
      "HP Pavilion dv6-3225dx\n",
      "Acer Chromebox CXI-i38GKM\n",
      "Fujitsu LifeBook N3510\n",
      "LG X120\n",
      "Sony VAIO Fit 14 (SVF14A15CXB)\n",
      "Toshiba Encore\n",
      "Gateway Solo 1450 SE\n",
      "Lenovo ThinkStation P300 SFF\n",
      "Amazon Kindle Fire HD (7\", Wi-Fi)\n",
      "Pandigital Planet\n",
      "Sony VAIO VPC-EA46FM-V\n",
      "Samsung RV520-W01\n",
      "Toshiba Satellite X205-SLi4\n",
      "Toshiba Qosmio F755-3D290\n",
      "Gateway SX2380-UR318 \n",
      "Asus U36Jc-A1\n",
      "Lenovo ThinkCentre M57p eco\n",
      "Acer TravelMate 8000\n",
      "Best Buy Insignia D400a\n",
      "Barnes & Noble Nook HD\n",
      "HP Pavilion dv6-1353cl-b\n",
      "Asus VivoBook X202E-BH91T-CB\n",
      "Dell Inspiron 14R \n",
      "Vizio 24-inch Touch All-in-One (CA24T-B0)\n",
      "HP Z200\n",
      "Sony VAIO VPC-L117FX-B\n",
      "HP Pavilion dv7-4165dx\n",
      "Overdrive PC Torque.OP\n",
      "Velocity Micro Vector Campus Edition (2008)\n",
      "Microsoft Surface Book\n",
      "Fujitsu LifeBook E Series\n",
      "Better Display, More Speed For Apple PowerBook\n",
      "Samsung Galaxy Tab 10.1 (U.S. Cellular)\n",
      "Asus N550JV-DB72T\n",
      "Samsung Galaxy Tab 2 (7.0)\n",
      "Sony VAIO VGN-FJ Series (FJ180)\n",
      "Micro Electronics PowerSpec V300\n",
      "Acer Iconia Tab W510-1422\n",
      "HP Pavilion dv7-6135dx\n",
      "HP Pavilion g6-1a69us\n",
      "Apple MacBook Pro 15-inch (Thunderbolt)\n",
      "HP HDX18t\n",
      "Gateway DX442XP\n",
      "Toshiba Satellite L755-S5271\n",
      "Polywell Poly 975MCE-Extreme\n",
      "Lenovo Y50 Touch\n",
      "Dell XPS 730x\n",
      "Niveus Media Center Rainier Edition\n",
      "Velocity Micro Edge Z40\n",
      "Lenovo H330-77801HU\n",
      "HP Pavilion dv6t\n",
      "Shuttle XPC Nano\n",
      "Lenovo IdeaCentre B540\n",
      "Karuma PlayBase Plus\n",
      "Acer Aspire Predator G7710-U7790A\n",
      "Dell OptiPlex 9030 Touch\n",
      "HP ElitePad 900\n",
      "Apple Mac Pro (8-Core)\n",
      "Asus ZenPad S 8.0 (Z580CA)\n",
      "This NetVista Is out of Sight\n",
      "Samsung R580\n",
      "HP ElitePad 1000 G2\n",
      "Alienware M11x (Core i7)\n",
      "Toshiba Portégé M400-S4032\n",
      "Amazon Kindle Fire\n",
      "Dell Latitude LSH 500\n",
      "Gateway SX2802-01\n",
      "Digital Storm Bolt II\n",
      "Sony VAIO VGN-SZ791N\n",
      "Acer Predator AG3620-UR21P\n",
      "Gateway M460\n",
      "Gateway 7310S\n",
      "HP Pavilion Elite m9550f\n",
      "MSI FX420-001US\n",
      "Asus MeMO Pad ME172V\n",
      "MicronPC Millennia XP+ Dream Machine\n",
      "Toshiba Satellite P745-S4217\n",
      "Lenovo IdeaPad Z560\n",
      "Gateway Professional S2000\n",
      "Toshiba Satellite Radius 15 P55W-C5212-4K\n",
      "Asus U56E-RBL8\n",
      "Velocity Micro NoteMagix S90 (Iss. 21 2004)\n",
      "Fujitsu LifeBook N6410\n",
      "HP Envy Spectre XT (13-2050nr)\n",
      "HP Pavilion p7-1126s\n",
      "Asus Eee PC 1215B\n",
      "Toshiba Qosmio F25-AV205\n",
      "Gateway 600XL\n",
      "ASUS G51J-1B 3D\n",
      "HP Pavilion dv6-6145dx\n",
      "Compaq Presario 2800T\n",
      "MSI GT80 Titan SLI\n",
      "HP Envy 700-030qe\n",
      "Dell XPS 18\n",
      "HP Pavilion Slimline s3600t\n",
      "HP Mini 1000 Vivienne Tam Edition \n",
      "The New Dell Notebook Hits the Sweet Spot\n",
      "Velocity Micro ProMagix\n",
      "Sotec 3120X\n",
      "Voodoo EGAD Obsidian Black 1280\n",
      "Apple PowerBook G4 (15-inch)\n",
      "HP Omni 27-1015t\n",
      "Sun Ray 1\n",
      "WinBook PowerSpec MCE 410\n",
      "Apple iMac 21.5-Inch (2014)\n",
      "HP Envy TouchSmart 15t-j100 Quad Edition\n",
      "Dell Precision M4600\n",
      "HP Pavilion Media Center a1640n PC\n",
      "Dell XPS 10\n",
      "HP Pavilion dv6-3163cl\n",
      "Asus Eee Box EB1501P-B016E\n",
      "Velocity Micro Vision 64 (Athlon 64 X2 4800+) \n",
      "Velocity Micro Edge Z30 SmallBlock\n",
      "Lenovo C260 Touch \n",
      "Lenovo IdeaPad S12 (Ion)\n",
      "Dell Latitude 12 Rugged Extreme\n",
      "Acer Iconia W4-820-2466\n",
      "Gateway e4000\n",
      "Dell XPS 420\n",
      "Acer Aspire R 14\n",
      "Vizio 14-inch Thin + Light (CT14-A2)\n",
      "Sony VAIO PCG-GRX570\n",
      "NEC PowerMate CT 850\n",
      "Apple Power Mac G4\n",
      "T-Mobile G-Slate with Google (by LG)\n",
      "Velocity Micro Edge Z55 (2014)\n",
      "Dell Latitude D600\n",
      "HP Pavilion zd7000\n"
     ]
    }
   ],
   "source": [
    "for page in links[3000:]:\n",
    "    website = urllib.request.urlopen(page[1:-1])\n",
    "    html = website.read().decode('utf8')\n",
    "    \n",
    "    # parse html\n",
    "    soup = BeautifulSoup(html, \"lxml\")\n",
    "   \n",
    "    # fetch item name\n",
    "    title_block = soup.find('h1', class_=\"item fn\")\n",
    "    \n",
    "    if title_block is None:\n",
    "        title = 'untitled'\n",
    "    else:\n",
    "        title = title_block.text\n",
    "    \n",
    "        t_list = list(title)\n",
    "        for index, character in enumerate(t_list):\n",
    "            if character is '/':\n",
    "                t_list[index] = '-'\n",
    "     \n",
    "        title = ''.join(t_list)\n",
    "        print(title)\n",
    "    \n",
    "    review_block = soup.find('div', class_=\"review-body\")\n",
    "    \n",
    "    texts = []\n",
    "    filtered_texts = []\n",
    "    \n",
    "    if not review_block is None:\n",
    "        texts = review_block.find_all('p', class_=None, style=None)\n",
    "    \n",
    "    for t in texts:\n",
    "        b = t.find('b')\n",
    "        s = t.find('style')\n",
    "        \n",
    "        if b is None:\n",
    "            if s is None:\n",
    "                filtered_texts.append(t.text)\n",
    "                \n",
    "        elif b.text != 'BENCHMARK TEST RESULTS' and b.text != 'COMPARISON TABLE':\n",
    "            filtered_texts.append(t.text)\n",
    "\n",
    "    file_name = title + \".txt\"\n",
    "    f = open(file_name,'w')\n",
    "\n",
    "    for t in filtered_texts:\n",
    "        print(t, file = f)\n",
    "        print('', file = f)\n",
    "\n",
    "    f.close()\n",
    "    time.sleep(1)"
   ]
  },
  {
   "cell_type": "code",
   "execution_count": null,
   "metadata": {
    "collapsed": true
   },
   "outputs": [],
   "source": []
  }
 ],
 "metadata": {
  "anaconda-cloud": {},
  "kernelspec": {
   "display_name": "Python [conda root]",
   "language": "python",
   "name": "conda-root-py"
  },
  "language_info": {
   "codemirror_mode": {
    "name": "ipython",
    "version": 3
   },
   "file_extension": ".py",
   "mimetype": "text/x-python",
   "name": "python",
   "nbconvert_exporter": "python",
   "pygments_lexer": "ipython3",
   "version": "3.5.2"
  }
 },
 "nbformat": 4,
 "nbformat_minor": 1
}
