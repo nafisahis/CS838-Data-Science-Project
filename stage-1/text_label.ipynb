{
 "cells": [
  {
   "cell_type": "code",
   "execution_count": 1,
   "metadata": {
    "collapsed": false
   },
   "outputs": [],
   "source": [
    "import os\n",
    "import re\n",
    "\n",
    "selected_dir = \"selected_texts/unlabelled_texts\"\n",
    "new_dir = \"selected_texts/labelled_texts\"\n",
    "selected_files = os.listdir(selected_dir)\n",
    "\n",
    "f = open(\"product_names.txt\", 'r')\n",
    "names = f.readlines()\n",
    "\n",
    "new_names = []\n",
    "\n",
    "for name in names:\n",
    "    if name != '\\n':\n",
    "        new_names.append(name[:-1])\n",
    "\n",
    "new_names = list(set(new_names))\n",
    "new_names.sort(key=len, reverse=True)"
   ]
  },
  {
   "cell_type": "code",
   "execution_count": 6,
   "metadata": {
    "collapsed": false
   },
   "outputs": [],
   "source": [
    "for file in selected_files:\n",
    "    loc = os.path.join(selected_dir, file)\n",
    "    new_loc = os.path.join(new_dir, file)\n",
    "\n",
    "    with open(loc, 'r', encoding=\"utf8\") as file:\n",
    "        text = file.read().replace('\\n', '')\n",
    "        text = text.replace('\\x', '')\n",
    "\n",
    "    for name in new_names:\n",
    "        lower_target = name.lower()\n",
    "\n",
    "        curr_index = 0\n",
    "\n",
    "        while curr_index < len(text):\n",
    "            lower_text = text.lower()\n",
    "            start = lower_text[curr_index:].find(lower_target)    # starting position of the next instance\n",
    "\n",
    "            # if a match is found\n",
    "            if start != -1:\n",
    "                start += curr_index\n",
    "            \n",
    "                if text[start-3:start] == '<p>':\n",
    "                    curr_index += 1\n",
    "                else:\n",
    "                    end = start + len(name)     # ending position of the next instance\n",
    "                    text = text[:start] + '<p>' + text[start:end] + '</>' + text[end:]\n",
    "                    curr_index = end + 6\n",
    "\n",
    "            # if no more match is found, look for the next product name\n",
    "            else:\n",
    "                break\n",
    "\n",
    "    f = open(new_loc, 'w', encoding=\"utf8\")\n",
    "    f.write(text)\n",
    "    f.close()"
   ]
  },
  {
   "cell_type": "code",
   "execution_count": null,
   "metadata": {
    "collapsed": true
   },
   "outputs": [],
   "source": []
  }
 ],
 "metadata": {
  "anaconda-cloud": {},
  "kernelspec": {
   "display_name": "Python [default]",
   "language": "python",
   "name": "python3"
  },
  "language_info": {
   "codemirror_mode": {
    "name": "ipython",
    "version": 3
   },
   "file_extension": ".py",
   "mimetype": "text/x-python",
   "name": "python",
   "nbconvert_exporter": "python",
   "pygments_lexer": "ipython3",
   "version": "3.5.2"
  }
 },
 "nbformat": 4,
 "nbformat_minor": 1
}
